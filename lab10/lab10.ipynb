{
 "cells": [
  {
   "cell_type": "code",
   "execution_count": 1,
   "id": "22bc2bb5-d10c-4d15-af5a-ef7b85bd5ed6",
   "metadata": {},
   "outputs": [],
   "source": [
    "import numpy as np"
   ]
  },
  {
   "cell_type": "code",
   "execution_count": 2,
   "id": "0c41b048-eacb-47d3-af45-350e71ebbef1",
   "metadata": {},
   "outputs": [],
   "source": [
    "import tensorflow as tf\n",
    "fashion_mnist = tf.keras.datasets.fashion_mnist\n",
    "(X_train, y_train), (X_test, y_test) = fashion_mnist.load_data() \n",
    "assert X_train.shape == (60000, 28, 28)\n",
    "assert X_test.shape == (10000, 28, 28)\n",
    "assert y_train.shape == (60000,)\n",
    "assert y_test.shape == (10000,)"
   ]
  },
  {
   "cell_type": "code",
   "execution_count": 3,
   "id": "a9dd6c6d-46b5-4d13-831b-bb3a572f91d1",
   "metadata": {},
   "outputs": [],
   "source": [
    "X_train= X_train / 255.0\n",
    "X_test = X_test / 255.0"
   ]
  },
  {
   "cell_type": "code",
   "execution_count": 4,
   "id": "7b42b12d-42e6-4efc-a0ba-0914a22c486d",
   "metadata": {},
   "outputs": [
    {
     "data": {
      "image/png": "[encoded data removed]",
      "text/plain": [
       "<Figure size 432x288 with 1 Axes>"
      ]
     },
     "metadata": {
      "needs_background": "light"
     },
     "output_type": "display_data"
    }
   ],
   "source": [
    "import matplotlib.pyplot as plt \n",
    "plt.imshow(X_train[142], cmap=\"binary\") \n",
    "plt.axis('off')\n",
    "plt.show()"
   ]
  },
  {
   "cell_type": "code",
   "execution_count": 5,
   "id": "43ea4e02-e980-4a32-80fa-e0c76d72c606",
   "metadata": {},
   "outputs": [
    {
     "data": {
      "text/plain": [
       "'but'"
      ]
     },
     "execution_count": 5,
     "metadata": {},
     "output_type": "execute_result"
    }
   ],
   "source": [
    "class_names = [\"koszulka\", \"spodnie\", \"pulower\", \"sukienka\", \"kurtka\",\n",
    "               \"sandał\", \"koszula\", \"but\", \"torba\", \"kozak\"]\n",
    "class_names[y_train[142]]"
   ]
  },
  {
   "cell_type": "code",
   "execution_count": 6,
   "id": "3d343087-92b4-4d5a-b291-4dc644ef5374",
   "metadata": {},
   "outputs": [],
   "source": [
    "import os\n",
    "root_logdir = os.path.join(os.curdir, \"image_logs\") \n",
    "def get_run_logdir():\n",
    "    import time\n",
    "    run_id = time.strftime(\"run_%Y_%m_%d-%H_%M_%S\") \n",
    "    return os.path.join(root_logdir, run_id)\n",
    "\n",
    "run_logdir = get_run_logdir()\n",
    "tensorboard_cb = tf.keras.callbacks.TensorBoard(run_logdir)"
   ]
  },
  {
   "cell_type": "code",
   "execution_count": 7,
   "id": "b0354e51-9acb-4e04-8345-14ff72c61264",
   "metadata": {},
   "outputs": [],
   "source": [
    "from tensorflow import keras\n",
    "model = keras.models.Sequential()\n",
    "model.add(keras.layers.Flatten(input_shape=[28, 28]))\n",
    "model.add(keras.layers.Dense(300, activation=\"relu\"))\n",
    "model.add(keras.layers.Dense(100, activation=\"relu\"))\n",
    "model.add(keras.layers.Dense(10, activation=\"softmax\"))\n",
    "\n",
    "\n",
    "model.compile(loss=\"sparse_categorical_crossentropy\",\n",
    "              optimizer=\"sgd\",\n",
    "              metrics=[\"accuracy\"])\n",
    "\n",
    "\n"
   ]
  },
  {
   "cell_type": "code",
   "execution_count": 8,
   "id": "7a18d47e",
   "metadata": {},
   "outputs": [
    {
     "name": "stdout",
     "output_type": "stream",
     "text": [
      "Model: \"sequential\"\n",
      "_________________________________________________________________\n",
      " Layer (type)                Output Shape              Param #   \n",
      "=================================================================\n",
      " flatten (Flatten)           (None, 784)               0         \n",
      "                                                                 \n",
      " dense (Dense)               (None, 300)               235500    \n",
      "                                                                 \n",
      " dense_1 (Dense)             (None, 100)               30100     \n",
      "                                                                 \n",
      " dense_2 (Dense)             (None, 10)                1010      \n",
      "                                                                 \n",
      "=================================================================\n",
      "Total params: 266,610\n",
      "Trainable params: 266,610\n",
      "Non-trainable params: 0\n",
      "_________________________________________________________________\n"
     ]
    }
   ],
   "source": [
    "model.summary()"
   ]
  },
  {
   "cell_type": "code",
   "execution_count": 9,
   "id": "f25ac08d",
   "metadata": {},
   "outputs": [
    {
     "data": {
      "image/png": "[encoded data removed]",
      "text/plain": [
       "<IPython.core.display.Image object>"
      ]
     },
     "execution_count": 9,
     "metadata": {},
     "output_type": "execute_result"
    }
   ],
   "source": [
    "tf.keras.utils.plot_model(model, \"fashion_mnist.png\", show_shapes=True)"
   ]
  },
  {
   "cell_type": "code",
   "execution_count": 10,
   "id": "a9172553-ffb1-4fda-874d-b313d57655bc",
   "metadata": {},
   "outputs": [
    {
     "name": "stdout",
     "output_type": "stream",
     "text": [
      "Epoch 1/20\n",
      "1688/1688 [==============================] - 6s 3ms/step - loss: 0.7134 - accuracy: 0.7652 - val_loss: 0.5778 - val_accuracy: 0.7883\n",
      "Epoch 2/20\n",
      "1688/1688 [==============================] - 4s 2ms/step - loss: 0.4878 - accuracy: 0.8307 - val_loss: 0.4670 - val_accuracy: 0.8343\n",
      "Epoch 3/20\n",
      "1688/1688 [==============================] - 4s 2ms/step - loss: 0.4407 - accuracy: 0.8458 - val_loss: 0.4282 - val_accuracy: 0.8482\n",
      "Epoch 4/20\n",
      "1688/1688 [==============================] - 4s 2ms/step - loss: 0.4132 - accuracy: 0.8552 - val_loss: 0.4111 - val_accuracy: 0.8552\n",
      "Epoch 5/20\n",
      "1688/1688 [==============================] - 4s 2ms/step - loss: 0.3931 - accuracy: 0.8619 - val_loss: 0.4031 - val_accuracy: 0.8563\n",
      "Epoch 6/20\n",
      "1688/1688 [==============================] - 4s 2ms/step - loss: 0.3760 - accuracy: 0.8681 - val_loss: 0.4002 - val_accuracy: 0.8597\n",
      "Epoch 7/20\n",
      "1688/1688 [==============================] - 4s 2ms/step - loss: 0.3633 - accuracy: 0.8714 - val_loss: 0.3840 - val_accuracy: 0.8633\n",
      "Epoch 8/20\n",
      "1688/1688 [==============================] - 4s 2ms/step - loss: 0.3504 - accuracy: 0.8767 - val_loss: 0.3949 - val_accuracy: 0.8602\n",
      "Epoch 9/20\n",
      "1688/1688 [==============================] - 4s 2ms/step - loss: 0.3414 - accuracy: 0.8791 - val_loss: 0.3652 - val_accuracy: 0.8662\n",
      "Epoch 10/20\n",
      "1688/1688 [==============================] - 4s 2ms/step - loss: 0.3320 - accuracy: 0.8821 - val_loss: 0.3539 - val_accuracy: 0.8703\n",
      "Epoch 11/20\n",
      "1688/1688 [==============================] - 4s 2ms/step - loss: 0.3227 - accuracy: 0.8857 - val_loss: 0.3621 - val_accuracy: 0.8710\n",
      "Epoch 12/20\n",
      "1688/1688 [==============================] - 4s 2ms/step - loss: 0.3156 - accuracy: 0.8870 - val_loss: 0.3497 - val_accuracy: 0.8723\n",
      "Epoch 13/20\n",
      "1688/1688 [==============================] - 4s 2ms/step - loss: 0.3090 - accuracy: 0.8894 - val_loss: 0.3410 - val_accuracy: 0.8778\n",
      "Epoch 14/20\n",
      "1688/1688 [==============================] - 4s 2ms/step - loss: 0.3013 - accuracy: 0.8925 - val_loss: 0.3418 - val_accuracy: 0.8737\n",
      "Epoch 15/20\n",
      "1688/1688 [==============================] - 4s 3ms/step - loss: 0.2949 - accuracy: 0.8946 - val_loss: 0.3539 - val_accuracy: 0.8698\n",
      "Epoch 16/20\n",
      "1688/1688 [==============================] - 4s 2ms/step - loss: 0.2885 - accuracy: 0.8961 - val_loss: 0.3445 - val_accuracy: 0.8768\n",
      "Epoch 17/20\n",
      "1688/1688 [==============================] - 4s 2ms/step - loss: 0.2834 - accuracy: 0.8987 - val_loss: 0.3255 - val_accuracy: 0.8802\n",
      "Epoch 18/20\n",
      "1688/1688 [==============================] - 4s 2ms/step - loss: 0.2774 - accuracy: 0.9002 - val_loss: 0.3297 - val_accuracy: 0.8813\n",
      "Epoch 19/20\n",
      "1688/1688 [==============================] - 4s 2ms/step - loss: 0.2718 - accuracy: 0.9021 - val_loss: 0.3278 - val_accuracy: 0.8823\n",
      "Epoch 20/20\n",
      "1688/1688 [==============================] - 4s 2ms/step - loss: 0.2676 - accuracy: 0.9035 - val_loss: 0.3228 - val_accuracy: 0.8808\n"
     ]
    }
   ],
   "source": [
    "history = model.fit(X_train, y_train, epochs=20,\n",
    "                    validation_split=0.1, callbacks=[tensorboard_cb])"
   ]
  },
  {
   "cell_type": "code",
   "execution_count": 11,
   "id": "c79d862b-e703-476d-9d84-90403dfcd589",
   "metadata": {},
   "outputs": [
    {
     "name": "stdout",
     "output_type": "stream",
     "text": [
      "1/1 [==============================] - 0s 117ms/step\n",
      "Prediction: kozak\n",
      "Confidence: 0.92006844\n",
      "Truth: kozak\n"
     ]
    },
    {
     "data": {
      "image/png": "[encoded data removed]",
      "text/plain": [
       "<Figure size 432x288 with 1 Axes>"
      ]
     },
     "metadata": {
      "needs_background": "light"
     },
     "output_type": "display_data"
    }
   ],
   "source": [
    "image_index = np.random.randint(len(X_test))\n",
    "image = np.array([X_test[image_index]])\n",
    "confidences = model.predict(image)\n",
    "confidence = np.max(confidences[0])\n",
    "prediction = np.argmax(confidences[0])\n",
    "print(\"Prediction:\", class_names[prediction])\n",
    "print(\"Confidence:\", confidence)\n",
    "print(\"Truth:\", class_names[y_test[image_index]])\n",
    "plt.imshow(image[0], cmap=\"binary\")\n",
    "plt.axis('off')\n",
    "plt.show()"
   ]
  },
  {
   "cell_type": "code",
   "execution_count": 12,
   "id": "de4b0fe6",
   "metadata": {},
   "outputs": [],
   "source": [
    "%load_ext tensorboard"
   ]
  },
  {
   "cell_type": "code",
   "execution_count": 13,
   "id": "4c932122",
   "metadata": {
    "scrolled": true
   },
   "outputs": [
    {
     "data": {
      "text/plain": [
       "Reusing TensorBoard on port 6006 (pid 1988), started 1:07:31 ago. (Use '!kill 1988' to kill it.)"
      ]
     },
     "metadata": {},
     "output_type": "display_data"
    },
    {
     "data": {
      "text/html": [
       "\n",
       "      <iframe id=\"tensorboard-frame-ba72ffb69d7ed27d\" width=\"100%\" height=\"800\" frameborder=\"0\">\n",
       "      </iframe>\n",
       "      <script>\n",
       "        (function() {\n",
       "          const frame = document.getElementById(\"tensorboard-frame-ba72ffb69d7ed27d\");\n",
       "          const url = new URL(\"/\", window.location);\n",
       "          const port = 6006;\n",
       "          if (port) {\n",
       "            url.port = port;\n",
       "          }\n",
       "          frame.src = url;\n",
       "        })();\n",
       "      </script>\n",
       "    "
      ],
      "text/plain": [
       "<IPython.core.display.HTML object>"
      ]
     },
     "metadata": {},
     "output_type": "display_data"
    }
   ],
   "source": [
    "%tensorboard --logdir ./image_logs"
   ]
  },
  {
   "cell_type": "code",
   "execution_count": 14,
   "id": "9c431774",
   "metadata": {},
   "outputs": [],
   "source": [
    "model.save('fashion_clf.h5')"
   ]
  },
  {
   "cell_type": "code",
   "execution_count": 15,
   "id": "99429c5b-3d2c-4650-ad4c-7ad37464f326",
   "metadata": {},
   "outputs": [],
   "source": [
    "#regression"
   ]
  },
  {
   "cell_type": "code",
   "execution_count": 16,
   "id": "d6403fed-9b92-452d-9c30-29f44eb24ff8",
   "metadata": {},
   "outputs": [],
   "source": [
    "from sklearn.datasets import fetch_california_housing \n",
    "from sklearn.model_selection import train_test_split \n",
    "from sklearn.preprocessing import StandardScaler\n",
    "housing = fetch_california_housing()"
   ]
  },
  {
   "cell_type": "code",
   "execution_count": 17,
   "id": "e86b7b28-9342-44de-8410-27a620cfb936",
   "metadata": {},
   "outputs": [],
   "source": [
    "X_train_full, X_test, y_train_full, y_test = train_test_split(housing.data,housing.target, random_state=42)\n",
    "X_train, X_valid, y_train, y_valid = train_test_split(X_train_full,y_train_full, random_state=42)"
   ]
  },
  {
   "cell_type": "code",
   "execution_count": 18,
   "id": "a86b6867-c229-44fc-b7f3-4b3bfeec893a",
   "metadata": {},
   "outputs": [],
   "source": [
    "scaler = StandardScaler()\n",
    "X_train = scaler.fit_transform(X_train)\n",
    "X_valid = scaler.transform(X_valid)\n",
    "X_test = scaler.transform(X_test)"
   ]
  },
  {
   "cell_type": "code",
   "execution_count": 19,
   "id": "94253758-92e1-407c-88eb-5e60654c6c57",
   "metadata": {},
   "outputs": [],
   "source": [
    "model = keras.models.Sequential()\n",
    "model.add(keras.layers.Dense(30, activation=\"softmax\", input_shape=X_train.shape[1:]))\n",
    "model.add(keras.layers.Dense(1))\n",
    "\n",
    "model.compile(loss=\"mean_squared_error\",\n",
    "              optimizer=\"sgd\")"
   ]
  },
  {
   "cell_type": "code",
   "execution_count": 20,
   "id": "2b4139d8",
   "metadata": {},
   "outputs": [
    {
     "name": "stdout",
     "output_type": "stream",
     "text": [
      "Model: \"sequential_1\"\n",
      "_________________________________________________________________\n",
      " Layer (type)                Output Shape              Param #   \n",
      "=================================================================\n",
      " dense_3 (Dense)             (None, 30)                270       \n",
      "                                                                 \n",
      " dense_4 (Dense)             (None, 1)                 31        \n",
      "                                                                 \n",
      "=================================================================\n",
      "Total params: 301\n",
      "Trainable params: 301\n",
      "Non-trainable params: 0\n",
      "_________________________________________________________________\n"
     ]
    }
   ],
   "source": [
    "model.summary()"
   ]
  },
  {
   "cell_type": "code",
   "execution_count": 21,
   "id": "dff9fdad",
   "metadata": {},
   "outputs": [],
   "source": [
    "root_logdir = os.path.join(os.curdir, \"housing_logs\") \n",
    "run_logdir = get_run_logdir()\n",
    "tensorboard_cb = tf.keras.callbacks.TensorBoard(run_logdir)"
   ]
  },
  {
   "cell_type": "code",
   "execution_count": 22,
   "id": "b920bb0a-83e8-47e3-aeae-d43439a2f19f",
   "metadata": {},
   "outputs": [],
   "source": [
    "es = tf.keras.callbacks.EarlyStopping(patience=5,min_delta=0.01,verbose=1)"
   ]
  },
  {
   "cell_type": "code",
   "execution_count": 23,
   "id": "923a6da0-08ae-47c2-8e3b-b9cd51c3143e",
   "metadata": {},
   "outputs": [
    {
     "name": "stdout",
     "output_type": "stream",
     "text": [
      "Epoch 1/100\n",
      "363/363 [==============================] - 1s 3ms/step - loss: 1.5763 - val_loss: 1.2432\n",
      "Epoch 2/100\n",
      "363/363 [==============================] - 1s 2ms/step - loss: 1.2457 - val_loss: 1.1978\n",
      "Epoch 3/100\n",
      "363/363 [==============================] - 1s 2ms/step - loss: 1.1949 - val_loss: 1.1388\n",
      "Epoch 4/100\n",
      "363/363 [==============================] - 1s 3ms/step - loss: 1.1272 - val_loss: 1.0615\n",
      "Epoch 5/100\n",
      "363/363 [==============================] - 1s 2ms/step - loss: 1.0318 - val_loss: 0.9476\n",
      "Epoch 6/100\n",
      "363/363 [==============================] - 1s 3ms/step - loss: 0.9027 - val_loss: 0.8045\n",
      "Epoch 7/100\n",
      "363/363 [==============================] - 1s 2ms/step - loss: 0.7749 - val_loss: 0.6902\n",
      "Epoch 8/100\n",
      "363/363 [==============================] - 1s 2ms/step - loss: 0.6844 - val_loss: 0.6187\n",
      "Epoch 9/100\n",
      "363/363 [==============================] - 1s 2ms/step - loss: 0.6285 - val_loss: 0.5741\n",
      "Epoch 10/100\n",
      "363/363 [==============================] - 1s 3ms/step - loss: 0.5919 - val_loss: 0.5434\n",
      "Epoch 11/100\n",
      "363/363 [==============================] - 1s 3ms/step - loss: 0.5654 - val_loss: 0.5192\n",
      "Epoch 12/100\n",
      "363/363 [==============================] - 1s 3ms/step - loss: 0.5444 - val_loss: 0.4998\n",
      "Epoch 13/100\n",
      "363/363 [==============================] - 1s 2ms/step - loss: 0.5257 - val_loss: 0.4818\n",
      "Epoch 14/100\n",
      "363/363 [==============================] - 1s 3ms/step - loss: 0.5086 - val_loss: 0.4656\n",
      "Epoch 15/100\n",
      "363/363 [==============================] - 1s 3ms/step - loss: 0.4920 - val_loss: 0.4500\n",
      "Epoch 16/100\n",
      "363/363 [==============================] - 1s 3ms/step - loss: 0.4763 - val_loss: 0.4349\n",
      "Epoch 17/100\n",
      "363/363 [==============================] - 1s 2ms/step - loss: 0.4606 - val_loss: 0.4204\n",
      "Epoch 18/100\n",
      "363/363 [==============================] - 1s 3ms/step - loss: 0.4463 - val_loss: 0.4069\n",
      "Epoch 19/100\n",
      "363/363 [==============================] - 1s 2ms/step - loss: 0.4335 - val_loss: 0.3962\n",
      "Epoch 20/100\n",
      "363/363 [==============================] - 1s 2ms/step - loss: 0.4230 - val_loss: 0.3864\n",
      "Epoch 21/100\n",
      "363/363 [==============================] - 1s 2ms/step - loss: 0.4148 - val_loss: 0.3794\n",
      "Epoch 22/100\n",
      "363/363 [==============================] - 1s 2ms/step - loss: 0.4085 - val_loss: 0.3742\n",
      "Epoch 23/100\n",
      "363/363 [==============================] - 1s 2ms/step - loss: 0.4037 - val_loss: 0.3700\n",
      "Epoch 24/100\n",
      "363/363 [==============================] - 1s 2ms/step - loss: 0.4000 - val_loss: 0.3658\n",
      "Epoch 25/100\n",
      "363/363 [==============================] - 1s 2ms/step - loss: 0.3966 - val_loss: 0.3628\n",
      "Epoch 26/100\n",
      "363/363 [==============================] - 1s 2ms/step - loss: 0.3946 - val_loss: 0.3613\n",
      "Epoch 27/100\n",
      "363/363 [==============================] - 1s 2ms/step - loss: 0.3926 - val_loss: 0.3593\n",
      "Epoch 28/100\n",
      "363/363 [==============================] - 1s 2ms/step - loss: 0.3908 - val_loss: 0.3576\n",
      "Epoch 29/100\n",
      "363/363 [==============================] - 1s 2ms/step - loss: 0.3893 - val_loss: 0.3559\n",
      "Epoch 29: early stopping\n"
     ]
    }
   ],
   "source": [
    "history = model.fit(X_train, y_train, epochs=100,validation_data=(X_valid, y_valid), callbacks=[tensorboard_cb, es])"
   ]
  },
  {
   "cell_type": "code",
   "execution_count": 24,
   "id": "a44d36fe-f43b-410c-922c-248e3bfddc1d",
   "metadata": {},
   "outputs": [],
   "source": [
    "model.save('reg_housing_1.h5')"
   ]
  },
  {
   "cell_type": "code",
   "execution_count": 25,
   "id": "c99c2986",
   "metadata": {},
   "outputs": [
    {
     "data": {
      "text/html": [
       "\n",
       "      <iframe id=\"tensorboard-frame-e360330027d970e8\" width=\"100%\" height=\"800\" frameborder=\"0\">\n",
       "      </iframe>\n",
       "      <script>\n",
       "        (function() {\n",
       "          const frame = document.getElementById(\"tensorboard-frame-e360330027d970e8\");\n",
       "          const url = new URL(\"/\", window.location);\n",
       "          const port = 6006;\n",
       "          if (port) {\n",
       "            url.port = port;\n",
       "          }\n",
       "          frame.src = url;\n",
       "        })();\n",
       "      </script>\n",
       "    "
      ],
      "text/plain": [
       "<IPython.core.display.HTML object>"
      ]
     },
     "metadata": {},
     "output_type": "display_data"
    }
   ],
   "source": [
    "%tensorboard --logdir ./housing_logs"
   ]
  },
  {
   "cell_type": "code",
   "execution_count": 26,
   "id": "9b773418",
   "metadata": {},
   "outputs": [],
   "source": [
    "# model v2"
   ]
  },
  {
   "cell_type": "code",
   "execution_count": 27,
   "id": "94750999",
   "metadata": {},
   "outputs": [
    {
     "name": "stdout",
     "output_type": "stream",
     "text": [
      "Model: \"sequential_2\"\n",
      "_________________________________________________________________\n",
      " Layer (type)                Output Shape              Param #   \n",
      "=================================================================\n",
      " dense_5 (Dense)             (None, 30)                270       \n",
      "                                                                 \n",
      " dense_6 (Dense)             (None, 30)                930       \n",
      "                                                                 \n",
      " dense_7 (Dense)             (None, 100)               3100      \n",
      "                                                                 \n",
      " dense_8 (Dense)             (None, 1)                 101       \n",
      "                                                                 \n",
      "=================================================================\n",
      "Total params: 4,401\n",
      "Trainable params: 4,401\n",
      "Non-trainable params: 0\n",
      "_________________________________________________________________\n",
      "Epoch 1/100\n",
      "363/363 [==============================] - 2s 4ms/step - loss: 1.6140 - val_loss: 1.3205\n",
      "Epoch 2/100\n",
      "363/363 [==============================] - 1s 3ms/step - loss: 1.3408 - val_loss: 1.3184\n",
      "Epoch 3/100\n",
      "363/363 [==============================] - 1s 3ms/step - loss: 1.3409 - val_loss: 1.3160\n",
      "Epoch 4/100\n",
      "363/363 [==============================] - 1s 3ms/step - loss: 1.3408 - val_loss: 1.3174\n",
      "Epoch 5/100\n",
      "363/363 [==============================] - 1s 3ms/step - loss: 1.3408 - val_loss: 1.3176\n",
      "Epoch 6/100\n",
      "363/363 [==============================] - 1s 3ms/step - loss: 1.3406 - val_loss: 1.3157\n",
      "Epoch 6: early stopping\n"
     ]
    }
   ],
   "source": [
    "model = keras.models.Sequential()\n",
    "model.add(keras.layers.Dense(30, activation=\"softmax\", input_shape=X_train.shape[1:]))\n",
    "model.add(keras.layers.Dense(30, activation=\"relu\", input_shape=X_train.shape[1:]))\n",
    "model.add(keras.layers.Dense(100, activation=\"softmax\", input_shape=X_train.shape[1:]))\n",
    "model.add(keras.layers.Dense(1))\n",
    "\n",
    "model.compile(loss=\"mean_squared_error\",\n",
    "              optimizer=\"sgd\")\n",
    "\n",
    "model.summary()\n",
    "\n",
    "root_logdir = os.path.join(os.curdir, \"housing_logs/housing_logs_2\") \n",
    "run_logdir = get_run_logdir()\n",
    "tensorboard_cb = tf.keras.callbacks.TensorBoard(run_logdir)\n",
    "\n",
    "es = tf.keras.callbacks.EarlyStopping(patience=5,min_delta=0.01,verbose=1)\n",
    "\n",
    "history = model.fit(X_train, y_train, epochs=100,validation_data=(X_valid, y_valid), callbacks=[tensorboard_cb, es])"
   ]
  },
  {
   "cell_type": "code",
   "execution_count": 28,
   "id": "cee85337",
   "metadata": {},
   "outputs": [],
   "source": [
    "model.save('reg_housing_2.h5')"
   ]
  },
  {
   "cell_type": "code",
   "execution_count": 29,
   "id": "9bc3ae45",
   "metadata": {},
   "outputs": [
    {
     "data": {
      "text/html": [
       "\n",
       "      <iframe id=\"tensorboard-frame-d0bb80ae045cfd6c\" width=\"100%\" height=\"800\" frameborder=\"0\">\n",
       "      </iframe>\n",
       "      <script>\n",
       "        (function() {\n",
       "          const frame = document.getElementById(\"tensorboard-frame-d0bb80ae045cfd6c\");\n",
       "          const url = new URL(\"/\", window.location);\n",
       "          const port = 6006;\n",
       "          if (port) {\n",
       "            url.port = port;\n",
       "          }\n",
       "          frame.src = url;\n",
       "        })();\n",
       "      </script>\n",
       "    "
      ],
      "text/plain": [
       "<IPython.core.display.HTML object>"
      ]
     },
     "metadata": {},
     "output_type": "display_data"
    }
   ],
   "source": [
    "%tensorboard --logdir ./housing_logs/housing_logs_2"
   ]
  },
  {
   "cell_type": "code",
   "execution_count": 30,
   "id": "833d6478",
   "metadata": {},
   "outputs": [],
   "source": [
    "# model v3"
   ]
  },
  {
   "cell_type": "code",
   "execution_count": 31,
   "id": "816aad9a",
   "metadata": {},
   "outputs": [
    {
     "name": "stdout",
     "output_type": "stream",
     "text": [
      "Model: \"sequential_3\"\n",
      "_________________________________________________________________\n",
      " Layer (type)                Output Shape              Param #   \n",
      "=================================================================\n",
      " dense_9 (Dense)             (None, 30)                270       \n",
      "                                                                 \n",
      " dense_10 (Dense)            (None, 300)               9300      \n",
      "                                                                 \n",
      " dense_11 (Dense)            (None, 100)               30100     \n",
      "                                                                 \n",
      " dense_12 (Dense)            (None, 1)                 101       \n",
      "                                                                 \n",
      "=================================================================\n",
      "Total params: 39,771\n",
      "Trainable params: 39,771\n",
      "Non-trainable params: 0\n",
      "_________________________________________________________________\n",
      "Epoch 1/100\n",
      "363/363 [==============================] - 2s 3ms/step - loss: 1.3116 - val_loss: 1.1235\n",
      "Epoch 2/100\n",
      "363/363 [==============================] - 1s 3ms/step - loss: 0.9478 - val_loss: 0.6737\n",
      "Epoch 3/100\n",
      "363/363 [==============================] - 1s 3ms/step - loss: 0.6285 - val_loss: 0.5385\n",
      "Epoch 4/100\n",
      "363/363 [==============================] - 1s 3ms/step - loss: 0.5562 - val_loss: 0.4999\n",
      "Epoch 5/100\n",
      "363/363 [==============================] - 1s 3ms/step - loss: 0.5163 - val_loss: 0.5189\n",
      "Epoch 6/100\n",
      "363/363 [==============================] - 1s 3ms/step - loss: 0.4826 - val_loss: 0.4265\n",
      "Epoch 7/100\n",
      "363/363 [==============================] - 1s 3ms/step - loss: 0.4563 - val_loss: 0.4255\n",
      "Epoch 8/100\n",
      "363/363 [==============================] - 1s 3ms/step - loss: 0.4368 - val_loss: 0.4018\n",
      "Epoch 9/100\n",
      "363/363 [==============================] - 1s 3ms/step - loss: 0.4190 - val_loss: 0.3813\n",
      "Epoch 10/100\n",
      "363/363 [==============================] - 1s 3ms/step - loss: 0.4090 - val_loss: 0.3848\n",
      "Epoch 11/100\n",
      "363/363 [==============================] - 1s 3ms/step - loss: 0.4000 - val_loss: 0.4393\n",
      "Epoch 12/100\n",
      "363/363 [==============================] - 1s 4ms/step - loss: 0.3921 - val_loss: 0.3590\n",
      "Epoch 13/100\n",
      "363/363 [==============================] - 1s 3ms/step - loss: 0.3884 - val_loss: 0.3720\n",
      "Epoch 14/100\n",
      "363/363 [==============================] - 1s 3ms/step - loss: 0.3848 - val_loss: 0.3494\n",
      "Epoch 15/100\n",
      "363/363 [==============================] - 1s 3ms/step - loss: 0.3797 - val_loss: 0.3497\n",
      "Epoch 16/100\n",
      "363/363 [==============================] - 1s 3ms/step - loss: 0.3773 - val_loss: 0.3928\n",
      "Epoch 17/100\n",
      "363/363 [==============================] - 1s 3ms/step - loss: 0.3750 - val_loss: 0.3542\n",
      "Epoch 17: early stopping\n"
     ]
    }
   ],
   "source": [
    "model = keras.models.Sequential()\n",
    "model.add(keras.layers.Dense(30, activation=\"softmax\", input_shape=X_train.shape[1:]))\n",
    "model.add(keras.layers.Dense(300, activation=\"relu\", input_shape=X_train.shape[1:]))\n",
    "model.add(keras.layers.Dense(100, activation=\"tanh\", input_shape=X_train.shape[1:]))\n",
    "model.add(keras.layers.Dense(1))\n",
    "\n",
    "model.compile(loss=\"mean_squared_error\",\n",
    "              optimizer=\"sgd\")\n",
    "\n",
    "model.summary()\n",
    "\n",
    "root_logdir = os.path.join(os.curdir, \"housing_logs/housing_logs_3\") \n",
    "run_logdir = get_run_logdir()\n",
    "tensorboard_cb = tf.keras.callbacks.TensorBoard(run_logdir)\n",
    "\n",
    "es = tf.keras.callbacks.EarlyStopping(patience=5,min_delta=0.01,verbose=1)\n",
    "\n",
    "history = model.fit(X_train, y_train, epochs=100,validation_data=(X_valid, y_valid), callbacks=[tensorboard_cb, es])"
   ]
  },
  {
   "cell_type": "code",
   "execution_count": 32,
   "id": "a970b84d",
   "metadata": {},
   "outputs": [],
   "source": [
    "model.save('reg_housing_3.h5')"
   ]
  },
  {
   "cell_type": "code",
   "execution_count": 33,
   "id": "534f7d9c",
   "metadata": {},
   "outputs": [
    {
     "data": {
      "text/html": [
       "\n",
       "      <iframe id=\"tensorboard-frame-6b5f09d830b62ad7\" width=\"100%\" height=\"800\" frameborder=\"0\">\n",
       "      </iframe>\n",
       "      <script>\n",
       "        (function() {\n",
       "          const frame = document.getElementById(\"tensorboard-frame-6b5f09d830b62ad7\");\n",
       "          const url = new URL(\"/\", window.location);\n",
       "          const port = 6006;\n",
       "          if (port) {\n",
       "            url.port = port;\n",
       "          }\n",
       "          frame.src = url;\n",
       "        })();\n",
       "      </script>\n",
       "    "
      ],
      "text/plain": [
       "<IPython.core.display.HTML object>"
      ]
     },
     "metadata": {},
     "output_type": "display_data"
    }
   ],
   "source": [
    "%tensorboard --logdir ./housing_logs/housing_log"
   ]
  },
  {
   "cell_type": "code",
   "execution_count": 34,
   "id": "8eaeae80",
   "metadata": {},
   "outputs": [],
   "source": [
    "# model v4"
   ]
  },
  {
   "cell_type": "code",
   "execution_count": 35,
   "id": "9da446d6",
   "metadata": {},
   "outputs": [
    {
     "name": "stdout",
     "output_type": "stream",
     "text": [
      "Model: \"sequential_4\"\n",
      "_________________________________________________________________\n",
      " Layer (type)                Output Shape              Param #   \n",
      "=================================================================\n",
      " dense_13 (Dense)            (None, 300)               2700      \n",
      "                                                                 \n",
      " dense_14 (Dense)            (None, 3000)              903000    \n",
      "                                                                 \n",
      " dense_15 (Dense)            (None, 1000)              3001000   \n",
      "                                                                 \n",
      " dense_16 (Dense)            (None, 1)                 1001      \n",
      "                                                                 \n",
      "=================================================================\n",
      "Total params: 3,907,701\n",
      "Trainable params: 3,907,701\n",
      "Non-trainable params: 0\n",
      "_________________________________________________________________\n",
      "Epoch 1/100\n",
      "363/363 [==============================] - 2s 3ms/step - loss: 2.9909 - val_loss: 1.3271\n",
      "Epoch 2/100\n",
      "363/363 [==============================] - 1s 3ms/step - loss: 1.3103 - val_loss: 1.2138\n",
      "Epoch 3/100\n",
      "363/363 [==============================] - 1s 3ms/step - loss: 1.1770 - val_loss: 0.6549\n",
      "Epoch 4/100\n",
      "363/363 [==============================] - 1s 3ms/step - loss: 0.8071 - val_loss: 0.7801\n",
      "Epoch 5/100\n",
      "363/363 [==============================] - 1s 3ms/step - loss: 0.6690 - val_loss: 0.5935\n",
      "Epoch 6/100\n",
      "363/363 [==============================] - 1s 4ms/step - loss: 0.6212 - val_loss: 0.5104\n",
      "Epoch 7/100\n",
      "363/363 [==============================] - 1s 3ms/step - loss: 0.5901 - val_loss: 0.5845\n",
      "Epoch 8/100\n",
      "363/363 [==============================] - 1s 3ms/step - loss: 0.5471 - val_loss: 0.6197\n",
      "Epoch 9/100\n",
      "363/363 [==============================] - 1s 3ms/step - loss: 0.5214 - val_loss: 0.5156\n",
      "Epoch 10/100\n",
      "363/363 [==============================] - 1s 3ms/step - loss: 0.5062 - val_loss: 0.4576\n",
      "Epoch 11/100\n",
      "363/363 [==============================] - 1s 3ms/step - loss: 0.4837 - val_loss: 0.4278\n",
      "Epoch 12/100\n",
      "363/363 [==============================] - 1s 3ms/step - loss: 0.4862 - val_loss: 0.3973\n",
      "Epoch 13/100\n",
      "363/363 [==============================] - 1s 3ms/step - loss: 0.4577 - val_loss: 0.5227\n",
      "Epoch 14/100\n",
      "363/363 [==============================] - 1s 3ms/step - loss: 0.4550 - val_loss: 0.3821\n",
      "Epoch 15/100\n",
      "363/363 [==============================] - 1s 3ms/step - loss: 0.4523 - val_loss: 0.3973\n",
      "Epoch 16/100\n",
      "363/363 [==============================] - 1s 3ms/step - loss: 0.4499 - val_loss: 0.3802\n",
      "Epoch 17/100\n",
      "363/363 [==============================] - 1s 3ms/step - loss: 0.4396 - val_loss: 0.4708\n",
      "Epoch 18/100\n",
      "363/363 [==============================] - 1s 3ms/step - loss: 0.4309 - val_loss: 0.3875\n",
      "Epoch 19/100\n",
      "363/363 [==============================] - 1s 3ms/step - loss: 0.4234 - val_loss: 0.3602\n",
      "Epoch 20/100\n",
      "363/363 [==============================] - 1s 3ms/step - loss: 0.4224 - val_loss: 0.3643\n",
      "Epoch 21/100\n",
      "363/363 [==============================] - 1s 4ms/step - loss: 0.4184 - val_loss: 0.3520\n",
      "Epoch 22/100\n",
      "363/363 [==============================] - 1s 3ms/step - loss: 0.4212 - val_loss: 0.3784\n",
      "Epoch 23/100\n",
      "363/363 [==============================] - 1s 3ms/step - loss: 0.4204 - val_loss: 0.3739\n",
      "Epoch 24/100\n",
      "363/363 [==============================] - 1s 3ms/step - loss: 0.4106 - val_loss: 0.4849\n",
      "Epoch 24: early stopping\n"
     ]
    }
   ],
   "source": [
    "model = keras.models.Sequential()\n",
    "model.add(keras.layers.Dense(300, activation=\"relu\", input_shape=X_train.shape[1:]))\n",
    "model.add(keras.layers.Dense(3000, activation=\"sigmoid\", input_shape=X_train.shape[1:]))\n",
    "model.add(keras.layers.Dense(1000, activation=\"relu\", input_shape=X_train.shape[1:]))\n",
    "model.add(keras.layers.Dense(1))\n",
    "\n",
    "model.compile(loss=\"mean_squared_error\",\n",
    "              optimizer=\"sgd\")\n",
    "\n",
    "model.summary()\n",
    "\n",
    "root_logdir = os.path.join(os.curdir, \"housing_logs/housing_logs_4\") \n",
    "run_logdir = get_run_logdir()\n",
    "tensorboard_cb = tf.keras.callbacks.TensorBoard(run_logdir)\n",
    "\n",
    "es = tf.keras.callbacks.EarlyStopping(patience=5,min_delta=0.01,verbose=1)\n",
    "\n",
    "history = model.fit(X_train, y_train, epochs=100,validation_data=(X_valid, y_valid), callbacks=[tensorboard_cb, es])"
   ]
  },
  {
   "cell_type": "code",
   "execution_count": 36,
   "id": "6d3bbdc8",
   "metadata": {},
   "outputs": [],
   "source": [
    "model.save('reg_housing_4.h5')"
   ]
  },
  {
   "cell_type": "code",
   "execution_count": 37,
   "id": "a4f09910",
   "metadata": {},
   "outputs": [
    {
     "data": {
      "text/plain": [
       "Reusing TensorBoard on port 6006 (pid 6064), started 0:03:11 ago. (Use '!kill 6064' to kill it.)"
      ]
     },
     "metadata": {},
     "output_type": "display_data"
    },
    {
     "data": {
      "text/html": [
       "\n",
       "      <iframe id=\"tensorboard-frame-4a05fa258223b82d\" width=\"100%\" height=\"800\" frameborder=\"0\">\n",
       "      </iframe>\n",
       "      <script>\n",
       "        (function() {\n",
       "          const frame = document.getElementById(\"tensorboard-frame-4a05fa258223b82d\");\n",
       "          const url = new URL(\"/\", window.location);\n",
       "          const port = 6006;\n",
       "          if (port) {\n",
       "            url.port = port;\n",
       "          }\n",
       "          frame.src = url;\n",
       "        })();\n",
       "      </script>\n",
       "    "
      ],
      "text/plain": [
       "<IPython.core.display.HTML object>"
      ]
     },
     "metadata": {},
     "output_type": "display_data"
    }
   ],
   "source": [
    "%tensorboard --logdir ./housing_logs/housing_logs_4"
   ]
  },
  {
   "cell_type": "code",
   "execution_count": null,
   "id": "10d21a22",
   "metadata": {},
   "outputs": [],
   "source": []
  }
 ],
 "metadata": {
  "kernelspec": {
   "display_name": "Python 3 (ipykernel)",
   "language": "python",
   "name": "python3"
  },
  "language_info": {
   "codemirror_mode": {
    "name": "ipython",
    "version": 3
   },
   "file_extension": ".py",
   "mimetype": "text/x-python",
   "name": "python",
   "nbconvert_exporter": "python",
   "pygments_lexer": "ipython3",
   "version": "3.10.4"
  }
 },
 "nbformat": 4,
 "nbformat_minor": 5
}
