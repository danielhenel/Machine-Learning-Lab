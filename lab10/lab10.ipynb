{
 "cells": [
  {
   "cell_type": "code",
   "execution_count": 73,
   "id": "22bc2bb5-d10c-4d15-af5a-ef7b85bd5ed6",
   "metadata": {},
   "outputs": [],
   "source": [
    "import numpy as np"
   ]
  },
  {
   "cell_type": "code",
   "execution_count": 74,
   "id": "0c41b048-eacb-47d3-af45-350e71ebbef1",
   "metadata": {},
   "outputs": [],
   "source": [
    "import tensorflow as tf\n",
    "fashion_mnist = tf.keras.datasets.fashion_mnist\n",
    "(X_train, y_train), (X_test, y_test) = fashion_mnist.load_data() \n",
    "assert X_train.shape == (60000, 28, 28)\n",
    "assert X_test.shape == (10000, 28, 28)\n",
    "assert y_train.shape == (60000,)\n",
    "assert y_test.shape == (10000,)"
   ]
  },
  {
   "cell_type": "code",
   "execution_count": 75,
   "id": "a9dd6c6d-46b5-4d13-831b-bb3a572f91d1",
   "metadata": {},
   "outputs": [],
   "source": [
    "X_train= X_train / 255.0\n",
    "X_test = X_test / 255.0"
   ]
  },
  {
   "cell_type": "code",
   "execution_count": 76,
   "id": "7b42b12d-42e6-4efc-a0ba-0914a22c486d",
   "metadata": {},
   "outputs": [
    {
     "data": {
      "image/png": "[encoded data removed]",
      "text/plain": [
       "<Figure size 432x288 with 1 Axes>"
      ]
     },
     "metadata": {
      "needs_background": "light"
     },
     "output_type": "display_data"
    }
   ],
   "source": [
    "import matplotlib.pyplot as plt \n",
    "plt.imshow(X_train[142], cmap=\"binary\") \n",
    "plt.axis('off')\n",
    "plt.show()"
   ]
  },
  {
   "cell_type": "code",
   "execution_count": 77,
   "id": "43ea4e02-e980-4a32-80fa-e0c76d72c606",
   "metadata": {},
   "outputs": [
    {
     "data": {
      "text/plain": [
       "'but'"
      ]
     },
     "execution_count": 77,
     "metadata": {},
     "output_type": "execute_result"
    }
   ],
   "source": [
    "class_names = [\"koszulka\", \"spodnie\", \"pulower\", \"sukienka\", \"kurtka\",\n",
    "               \"sandał\", \"koszula\", \"but\", \"torba\", \"kozak\"]\n",
    "class_names[y_train[142]]"
   ]
  },
  {
   "cell_type": "code",
   "execution_count": 78,
   "id": "3d343087-92b4-4d5a-b291-4dc644ef5374",
   "metadata": {},
   "outputs": [],
   "source": [
    "import os\n",
    "root_logdir = os.path.join(os.curdir, \"image_logs\") \n",
    "def get_run_logdir():\n",
    "    import time\n",
    "    run_id = time.strftime(\"run_%Y_%m_%d-%H_%M_%S\") \n",
    "    return os.path.join(root_logdir, run_id)\n",
    "\n",
    "run_logdir = get_run_logdir()\n",
    "tensorboard_cb = tf.keras.callbacks.TensorBoard(run_logdir)"
   ]
  },
  {
   "cell_type": "code",
   "execution_count": 79,
   "id": "b0354e51-9acb-4e04-8345-14ff72c61264",
   "metadata": {},
   "outputs": [],
   "source": [
    "from tensorflow import keras\n",
    "model = keras.models.Sequential()\n",
    "model.add(keras.layers.Flatten(input_shape=[28, 28]))\n",
    "model.add(keras.layers.Dense(300, activation=\"relu\"))\n",
    "model.add(keras.layers.Dense(100, activation=\"relu\"))\n",
    "model.add(keras.layers.Dense(10, activation=\"softmax\"))\n",
    "\n",
    "\n",
    "model.compile(loss=\"sparse_categorical_crossentropy\",\n",
    "              optimizer=\"sgd\",\n",
    "              metrics=[\"accuracy\"])\n",
    "\n",
    "\n"
   ]
  },
  {
   "cell_type": "code",
   "execution_count": 80,
   "id": "a9172553-ffb1-4fda-874d-b313d57655bc",
   "metadata": {},
   "outputs": [
    {
     "name": "stdout",
     "output_type": "stream",
     "text": [
      "Epoch 1/20\n",
      "  24/1688 [..............................] - ETA: 7s - loss: 2.1591 - accuracy: 0.2461"
     ]
    },
    {
     "name": "stderr",
     "output_type": "stream",
     "text": [
      "2022-05-26 12:12:50.478140: I tensorflow/core/grappler/optimizers/custom_graph_optimizer_registry.cc:113] Plugin optimizer for device_type GPU is enabled.\n"
     ]
    },
    {
     "name": "stdout",
     "output_type": "stream",
     "text": [
      "1682/1688 [============================>.] - ETA: 0s - loss: 0.7394 - accuracy: 0.7554"
     ]
    },
    {
     "name": "stderr",
     "output_type": "stream",
     "text": [
      "2022-05-26 12:12:57.583943: I tensorflow/core/grappler/optimizers/custom_graph_optimizer_registry.cc:113] Plugin optimizer for device_type GPU is enabled.\n"
     ]
    },
    {
     "name": "stdout",
     "output_type": "stream",
     "text": [
      "1688/1688 [==============================] - 8s 4ms/step - loss: 0.7391 - accuracy: 0.7555 - val_loss: 0.5433 - val_accuracy: 0.8045\n",
      "Epoch 2/20\n",
      "1688/1688 [==============================] - 7s 4ms/step - loss: 0.4927 - accuracy: 0.8286 - val_loss: 0.4659 - val_accuracy: 0.8380\n",
      "Epoch 3/20\n",
      "1688/1688 [==============================] - 7s 4ms/step - loss: 0.4460 - accuracy: 0.8440 - val_loss: 0.5842 - val_accuracy: 0.7898\n",
      "Epoch 4/20\n",
      "1688/1688 [==============================] - 7s 4ms/step - loss: 0.4197 - accuracy: 0.8537 - val_loss: 0.4334 - val_accuracy: 0.8508\n",
      "Epoch 5/20\n",
      "1688/1688 [==============================] - 7s 4ms/step - loss: 0.3994 - accuracy: 0.8619 - val_loss: 0.4202 - val_accuracy: 0.8510\n",
      "Epoch 6/20\n",
      "1688/1688 [==============================] - 7s 4ms/step - loss: 0.3831 - accuracy: 0.8670 - val_loss: 0.4268 - val_accuracy: 0.8533\n",
      "Epoch 7/20\n",
      "1688/1688 [==============================] - 7s 4ms/step - loss: 0.3694 - accuracy: 0.8697 - val_loss: 0.3760 - val_accuracy: 0.8653\n",
      "Epoch 8/20\n",
      "1688/1688 [==============================] - 7s 4ms/step - loss: 0.3570 - accuracy: 0.8742 - val_loss: 0.3783 - val_accuracy: 0.8627\n",
      "Epoch 9/20\n",
      "1688/1688 [==============================] - 7s 4ms/step - loss: 0.3464 - accuracy: 0.8774 - val_loss: 0.3667 - val_accuracy: 0.8715\n",
      "Epoch 10/20\n",
      "1688/1688 [==============================] - 7s 4ms/step - loss: 0.3367 - accuracy: 0.8804 - val_loss: 0.3607 - val_accuracy: 0.8682\n",
      "Epoch 11/20\n",
      "1688/1688 [==============================] - 7s 4ms/step - loss: 0.3270 - accuracy: 0.8843 - val_loss: 0.3561 - val_accuracy: 0.8710\n",
      "Epoch 12/20\n",
      "1688/1688 [==============================] - 7s 4ms/step - loss: 0.3199 - accuracy: 0.8867 - val_loss: 0.3603 - val_accuracy: 0.8723\n",
      "Epoch 13/20\n",
      "1688/1688 [==============================] - 7s 4ms/step - loss: 0.3122 - accuracy: 0.8884 - val_loss: 0.3425 - val_accuracy: 0.8778\n",
      "Epoch 14/20\n",
      "1688/1688 [==============================] - 7s 4ms/step - loss: 0.3056 - accuracy: 0.8911 - val_loss: 0.3364 - val_accuracy: 0.8827\n",
      "Epoch 15/20\n",
      "1688/1688 [==============================] - 7s 4ms/step - loss: 0.2987 - accuracy: 0.8929 - val_loss: 0.3524 - val_accuracy: 0.8718\n",
      "Epoch 16/20\n",
      "1688/1688 [==============================] - 7s 4ms/step - loss: 0.2925 - accuracy: 0.8959 - val_loss: 0.3474 - val_accuracy: 0.8750\n",
      "Epoch 17/20\n",
      "1688/1688 [==============================] - 7s 4ms/step - loss: 0.2875 - accuracy: 0.8968 - val_loss: 0.3274 - val_accuracy: 0.8827\n",
      "Epoch 18/20\n",
      "1688/1688 [==============================] - 7s 4ms/step - loss: 0.2808 - accuracy: 0.8999 - val_loss: 0.3281 - val_accuracy: 0.8832\n",
      "Epoch 19/20\n",
      "1688/1688 [==============================] - 7s 4ms/step - loss: 0.2768 - accuracy: 0.9006 - val_loss: 0.3373 - val_accuracy: 0.8792\n",
      "Epoch 20/20\n",
      "1688/1688 [==============================] - 7s 4ms/step - loss: 0.2712 - accuracy: 0.9031 - val_loss: 0.3345 - val_accuracy: 0.8810\n"
     ]
    }
   ],
   "source": [
    "history = model.fit(X_train, y_train, epochs=20,\n",
    "                    validation_split=0.1, callbacks=[tensorboard_cb])"
   ]
  },
  {
   "cell_type": "code",
   "execution_count": 89,
   "id": "c79d862b-e703-476d-9d84-90403dfcd589",
   "metadata": {},
   "outputs": [
    {
     "name": "stdout",
     "output_type": "stream",
     "text": [
      "Prediction: kurtka\n",
      "Confidence: 0.9783286\n",
      "Truth: kurtka\n"
     ]
    },
    {
     "data": {
      "image/png": "[encoded data removed]",
      "text/plain": [
       "<Figure size 432x288 with 1 Axes>"
      ]
     },
     "metadata": {
      "needs_background": "light"
     },
     "output_type": "display_data"
    }
   ],
   "source": [
    "image_index = np.random.randint(len(X_test))\n",
    "image = np.array([X_test[image_index]])\n",
    "confidences = model.predict(image)\n",
    "confidence = np.max(confidences[0])\n",
    "prediction = np.argmax(confidences[0])\n",
    "print(\"Prediction:\", class_names[prediction])\n",
    "print(\"Confidence:\", confidence)\n",
    "print(\"Truth:\", class_names[y_test[image_index]])\n",
    "plt.imshow(image[0], cmap=\"binary\")\n",
    "plt.axis('off')\n",
    "plt.show()"
   ]
  },
  {
   "cell_type": "code",
   "execution_count": null,
   "id": "99429c5b-3d2c-4650-ad4c-7ad37464f326",
   "metadata": {},
   "outputs": [],
   "source": [
    "#regression"
   ]
  },
  {
   "cell_type": "code",
   "execution_count": 90,
   "id": "d6403fed-9b92-452d-9c30-29f44eb24ff8",
   "metadata": {},
   "outputs": [],
   "source": [
    "from sklearn.datasets import fetch_california_housing \n",
    "from sklearn.model_selection import train_test_split \n",
    "from sklearn.preprocessing import StandardScaler\n",
    "housing = fetch_california_housing()"
   ]
  },
  {
   "cell_type": "code",
   "execution_count": 92,
   "id": "e86b7b28-9342-44de-8410-27a620cfb936",
   "metadata": {},
   "outputs": [],
   "source": [
    "X_train_full, X_test, y_train_full, y_test = train_test_split(housing.data,housing.target, random_state=42)\n",
    "X_train, X_valid, y_train, y_valid = train_test_split(X_train_full,y_train_full, random_state=42)"
   ]
  },
  {
   "cell_type": "code",
   "execution_count": 93,
   "id": "a86b6867-c229-44fc-b7f3-4b3bfeec893a",
   "metadata": {},
   "outputs": [],
   "source": [
    "scaler = StandardScaler()\n",
    "X_train = scaler.fit_transform(X_train)\n",
    "X_valid = scaler.transform(X_valid)\n",
    "X_test = scaler.transform(X_test)"
   ]
  },
  {
   "cell_type": "code",
   "execution_count": 94,
   "id": "94253758-92e1-407c-88eb-5e60654c6c57",
   "metadata": {},
   "outputs": [],
   "source": [
    "model = keras.models.Sequential()\n",
    "model.add(keras.layers.Flatten(input_shape=[8]))\n",
    "model.add(keras.layers.Dense(30))\n",
    "\n",
    "\n",
    "model.compile(loss=keras.losses.MeanSquaredError(),\n",
    "              optimizer=\"sgd\",\n",
    "              metrics=[\"accuracy\"])"
   ]
  },
  {
   "cell_type": "code",
   "execution_count": 95,
   "id": "b920bb0a-83e8-47e3-aeae-d43439a2f19f",
   "metadata": {},
   "outputs": [],
   "source": [
    " es = tf.keras.callbacks.EarlyStopping(patience=5,min_delta=0.01,verbose=1)"
   ]
  },
  {
   "cell_type": "code",
   "execution_count": 96,
   "id": "2b111fce-4cec-46f6-8709-50d5ae5b0b9e",
   "metadata": {},
   "outputs": [],
   "source": [
    "run_logdir = get_run_logdir()\n",
    "tensorboard_cb = tf.keras.callbacks.TensorBoard(run_logdir)"
   ]
  },
  {
   "cell_type": "code",
   "execution_count": 100,
   "id": "923a6da0-08ae-47c2-8e3b-b9cd51c3143e",
   "metadata": {},
   "outputs": [
    {
     "name": "stdout",
     "output_type": "stream",
     "text": [
      "Epoch 1/100\n",
      "327/327 [==============================] - 1s 4ms/step - loss: 0.5936 - accuracy: 0.0000e+00 - val_loss: 0.6607 - val_accuracy: 0.0000e+00\n",
      "Epoch 2/100\n",
      "327/327 [==============================] - 1s 4ms/step - loss: 0.5910 - accuracy: 0.0000e+00 - val_loss: 0.6582 - val_accuracy: 0.0000e+00\n",
      "Epoch 3/100\n",
      "327/327 [==============================] - 1s 4ms/step - loss: 0.5887 - accuracy: 0.0000e+00 - val_loss: 0.6557 - val_accuracy: 0.0000e+00\n",
      "Epoch 4/100\n",
      "327/327 [==============================] - 1s 4ms/step - loss: 0.5863 - accuracy: 0.0000e+00 - val_loss: 0.6532 - val_accuracy: 0.0000e+00\n",
      "Epoch 5/100\n",
      "327/327 [==============================] - 1s 4ms/step - loss: 0.5843 - accuracy: 0.0000e+00 - val_loss: 0.6510 - val_accuracy: 0.0000e+00\n",
      "Epoch 6/100\n",
      "327/327 [==============================] - 1s 4ms/step - loss: 0.5822 - accuracy: 0.0000e+00 - val_loss: 0.6489 - val_accuracy: 0.0000e+00\n",
      "Epoch 7/100\n",
      "327/327 [==============================] - 1s 4ms/step - loss: 0.5800 - accuracy: 0.0000e+00 - val_loss: 0.6465 - val_accuracy: 0.0000e+00\n",
      "Epoch 8/100\n",
      "327/327 [==============================] - 1s 4ms/step - loss: 0.5782 - accuracy: 0.0000e+00 - val_loss: 0.6445 - val_accuracy: 0.0000e+00\n",
      "Epoch 9/100\n",
      "327/327 [==============================] - 1s 4ms/step - loss: 0.5763 - accuracy: 0.0000e+00 - val_loss: 0.6425 - val_accuracy: 0.0000e+00\n",
      "Epoch 10/100\n",
      "327/327 [==============================] - 1s 4ms/step - loss: 0.5744 - accuracy: 0.0000e+00 - val_loss: 0.6404 - val_accuracy: 0.0000e+00\n",
      "Epoch 11/100\n",
      "327/327 [==============================] - 1s 4ms/step - loss: 0.5728 - accuracy: 0.0000e+00 - val_loss: 0.6387 - val_accuracy: 0.0000e+00\n",
      "Epoch 12/100\n",
      "327/327 [==============================] - 1s 4ms/step - loss: 0.5709 - accuracy: 0.0000e+00 - val_loss: 0.6368 - val_accuracy: 0.0000e+00\n",
      "Epoch 13/100\n",
      "327/327 [==============================] - 1s 4ms/step - loss: 0.5695 - accuracy: 0.0000e+00 - val_loss: 0.6352 - val_accuracy: 0.0000e+00\n",
      "Epoch 14/100\n",
      "327/327 [==============================] - 1s 4ms/step - loss: 0.5678 - accuracy: 0.0000e+00 - val_loss: 0.6336 - val_accuracy: 0.0000e+00\n",
      "Epoch 15/100\n",
      "327/327 [==============================] - 1s 4ms/step - loss: 0.5663 - accuracy: 0.0000e+00 - val_loss: 0.6321 - val_accuracy: 0.0000e+00\n",
      "Epoch 16/100\n",
      "327/327 [==============================] - 1s 4ms/step - loss: 0.5648 - accuracy: 0.0000e+00 - val_loss: 0.6307 - val_accuracy: 0.0000e+00\n",
      "Epoch 16: early stopping\n"
     ]
    }
   ],
   "source": [
    "history = model.fit(X_train, y_train, epochs=100,\n",
    "                    validation_split=0.1, callbacks=[tensorboard_cb, es])"
   ]
  },
  {
   "cell_type": "code",
   "execution_count": null,
   "id": "a44d36fe-f43b-410c-922c-248e3bfddc1d",
   "metadata": {},
   "outputs": [],
   "source": []
  }
 ],
 "metadata": {
  "kernelspec": {
   "display_name": "Python 3 (ipykernel)",
   "language": "python",
   "name": "python3"
  },
  "language_info": {
   "codemirror_mode": {
    "name": "ipython",
    "version": 3
   },
   "file_extension": ".py",
   "mimetype": "text/x-python",
   "name": "python",
   "nbconvert_exporter": "python",
   "pygments_lexer": "ipython3",
   "version": "3.9.12"
  }
 },
 "nbformat": 4,
 "nbformat_minor": 5
}
