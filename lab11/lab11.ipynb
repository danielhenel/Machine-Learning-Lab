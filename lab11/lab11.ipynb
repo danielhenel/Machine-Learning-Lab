{
 "cells": [
  {
   "cell_type": "code",
   "execution_count": 24,
   "id": "2994b30e",
   "metadata": {},
   "outputs": [],
   "source": [
    "import tensorflow as tf\n",
    "import numpy as np"
   ]
  },
  {
   "cell_type": "code",
   "execution_count": 14,
   "id": "ea4e30ed",
   "metadata": {},
   "outputs": [],
   "source": [
    "(X_train, y_train), (X_test, y_test) = tf.keras.datasets.boston_housing.load_data()"
   ]
  },
  {
   "cell_type": "code",
   "execution_count": 21,
   "id": "903fa1d2",
   "metadata": {},
   "outputs": [],
   "source": [
    "def build_model(n_hidden=1, n_neurons=25, optimizer=\"SGD\", learning_rate=0.00001, momentum=0): \n",
    "    model = tf.keras.models.Sequential()\n",
    "    model.add(tf.keras.layers.InputLayer(input_shape=X_train.shape[1:]))\n",
    "    \n",
    "    for i in range(n_hidden):\n",
    "        model.add(tf.keras.layers.Dense(n_neurons, activation=\"relu\"))\n",
    "    \n",
    "    model.add(tf.keras.layers.Dense(1))\n",
    "    \n",
    "    opt = tf.keras.optimizers.get(optimizer)\n",
    "    opt.learning_rate = learning_rate\n",
    "    opt.momentum = momentum\n",
    "    \n",
    "    model.compile(loss=\"mean_squared_error\",\n",
    "              optimizer=opt,\n",
    "              metrics=[\"mean_absolute_error\"])\n",
    "\n",
    "    return model"
   ]
  },
  {
   "cell_type": "code",
   "execution_count": 25,
   "id": "3422d241",
   "metadata": {},
   "outputs": [],
   "source": [
    "tf.keras.backend.clear_session()\n",
    "np.random.seed(42)\n",
    "tf.random.set_seed(42)"
   ]
  },
  {
   "cell_type": "code",
   "execution_count": 26,
   "id": "22517ea8",
   "metadata": {},
   "outputs": [],
   "source": [
    "%load_ext tensorboard"
   ]
  },
  {
   "cell_type": "code",
   "execution_count": 27,
   "id": "aad0daf5",
   "metadata": {},
   "outputs": [
    {
     "data": {
      "text/html": [
       "\n",
       "      <iframe id=\"tensorboard-frame-3ebe92b2fb76ad3f\" width=\"100%\" height=\"800\" frameborder=\"0\">\n",
       "      </iframe>\n",
       "      <script>\n",
       "        (function() {\n",
       "          const frame = document.getElementById(\"tensorboard-frame-3ebe92b2fb76ad3f\");\n",
       "          const url = new URL(\"/\", window.location);\n",
       "          const port = 6006;\n",
       "          if (port) {\n",
       "            url.port = port;\n",
       "          }\n",
       "          frame.src = url;\n",
       "        })();\n",
       "      </script>\n",
       "    "
      ],
      "text/plain": [
       "<IPython.core.display.HTML object>"
      ]
     },
     "metadata": {},
     "output_type": "display_data"
    }
   ],
   "source": [
    "%tensorboard --logdir ./image_logs"
   ]
  },
  {
   "cell_type": "code",
   "execution_count": 28,
   "id": "75fed634",
   "metadata": {},
   "outputs": [],
   "source": [
    "#eksperyment 1\n",
    "lr_results = []\n",
    "for lr in [0.000001,0.00001,0.0001]:\n",
    "    model = build_model(learning_rate = lr)\n",
    "    \n",
    "    ts = str(int(time.time()))\n",
    "    root_logdir = os.path.join(os.curdir, \"tb_logs/{ts}_lr_{lr}\".format(ts=ts,lr=str(lr))) \n",
    "    run_logdir = get_run_logdir()\n",
    "    tensorboard_cb = tf.keras.callbacks.TensorBoard(run_logdir)\n",
    "    \n",
    "    es = tf.keras.callbacks.EarlyStopping(patience=10,min_delta=1.00,verbose=1)\n",
    "\n",
    "    model.fit(X_train, y_train, epochs=100,validation_data=(X_valid, y_valid), callbacks=[tensorboard_cb, es])\n",
    "    \n",
    "    #lr_results.append((lr,model.))\n",
    "    "
   ]
  },
  {
   "cell_type": "code",
   "execution_count": null,
   "id": "39c8fbba",
   "metadata": {},
   "outputs": [],
   "source": []
  }
 ],
 "metadata": {
  "kernelspec": {
   "display_name": "Python 3 (ipykernel)",
   "language": "python",
   "name": "python3"
  },
  "language_info": {
   "codemirror_mode": {
    "name": "ipython",
    "version": 3
   },
   "file_extension": ".py",
   "mimetype": "text/x-python",
   "name": "python",
   "nbconvert_exporter": "python",
   "pygments_lexer": "ipython3",
   "version": "3.9.12"
  }
 },
 "nbformat": 4,
 "nbformat_minor": 5
}
