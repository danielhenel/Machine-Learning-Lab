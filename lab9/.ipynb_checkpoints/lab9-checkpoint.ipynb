{
 "cells": [
  {
   "cell_type": "code",
   "execution_count": 1,
   "id": "921df5b7",
   "metadata": {},
   "outputs": [],
   "source": [
    "#2.1"
   ]
  },
  {
   "cell_type": "code",
   "execution_count": 2,
   "id": "711dcd13",
   "metadata": {},
   "outputs": [],
   "source": [
    "from sklearn.datasets import load_iris \n",
    "iris = load_iris(as_frame=True)"
   ]
  },
  {
   "cell_type": "code",
   "execution_count": 3,
   "id": "fb9803cf",
   "metadata": {},
   "outputs": [
    {
     "data": {
      "text/plain": [
       "<AxesSubplot:xlabel='petal length (cm)', ylabel='petal width (cm)'>"
      ]
     },
     "execution_count": 3,
     "metadata": {},
     "output_type": "execute_result"
    },
    {
     "data": {
      "image/png": "[encoded data removed]",
      "text/plain": [
       "<Figure size 432x288 with 2 Axes>"
      ]
     },
     "metadata": {
      "needs_background": "light"
     },
     "output_type": "display_data"
    }
   ],
   "source": [
    "import pandas as pd\n",
    "pd.concat([iris.data, iris.target], axis=1).plot.scatter(\n",
    "    x='petal length (cm)',\n",
    "    y='petal width (cm)',\n",
    "    c='target',\n",
    "    colormap='viridis'\n",
    ")"
   ]
  },
  {
   "cell_type": "code",
   "execution_count": null,
   "id": "fc41b0fa",
   "metadata": {},
   "outputs": [],
   "source": []
  },
  {
   "cell_type": "code",
   "execution_count": 4,
   "id": "2192879c",
   "metadata": {},
   "outputs": [],
   "source": [
    "X = iris.data.iloc[:, 2:4]\n",
    "y = iris.target"
   ]
  },
  {
   "cell_type": "code",
   "execution_count": 5,
   "id": "5cf45577",
   "metadata": {},
   "outputs": [
    {
     "data": {
      "text/html": [
       "<div>\n",
       "<style scoped>\n",
       "    .dataframe tbody tr th:only-of-type {\n",
       "        vertical-align: middle;\n",
       "    }\n",
       "\n",
       "    .dataframe tbody tr th {\n",
       "        vertical-align: top;\n",
       "    }\n",
       "\n",
       "    .dataframe thead th {\n",
       "        text-align: right;\n",
       "    }\n",
       "</style>\n",
       "<table border=\"1\" class=\"dataframe\">\n",
       "  <thead>\n",
       "    <tr style=\"text-align: right;\">\n",
       "      <th></th>\n",
       "      <th>petal length (cm)</th>\n",
       "      <th>petal width (cm)</th>\n",
       "    </tr>\n",
       "  </thead>\n",
       "  <tbody>\n",
       "    <tr>\n",
       "      <th>0</th>\n",
       "      <td>1.4</td>\n",
       "      <td>0.2</td>\n",
       "    </tr>\n",
       "    <tr>\n",
       "      <th>1</th>\n",
       "      <td>1.4</td>\n",
       "      <td>0.2</td>\n",
       "    </tr>\n",
       "    <tr>\n",
       "      <th>2</th>\n",
       "      <td>1.3</td>\n",
       "      <td>0.2</td>\n",
       "    </tr>\n",
       "    <tr>\n",
       "      <th>3</th>\n",
       "      <td>1.5</td>\n",
       "      <td>0.2</td>\n",
       "    </tr>\n",
       "    <tr>\n",
       "      <th>4</th>\n",
       "      <td>1.4</td>\n",
       "      <td>0.2</td>\n",
       "    </tr>\n",
       "    <tr>\n",
       "      <th>...</th>\n",
       "      <td>...</td>\n",
       "      <td>...</td>\n",
       "    </tr>\n",
       "    <tr>\n",
       "      <th>145</th>\n",
       "      <td>5.2</td>\n",
       "      <td>2.3</td>\n",
       "    </tr>\n",
       "    <tr>\n",
       "      <th>146</th>\n",
       "      <td>5.0</td>\n",
       "      <td>1.9</td>\n",
       "    </tr>\n",
       "    <tr>\n",
       "      <th>147</th>\n",
       "      <td>5.2</td>\n",
       "      <td>2.0</td>\n",
       "    </tr>\n",
       "    <tr>\n",
       "      <th>148</th>\n",
       "      <td>5.4</td>\n",
       "      <td>2.3</td>\n",
       "    </tr>\n",
       "    <tr>\n",
       "      <th>149</th>\n",
       "      <td>5.1</td>\n",
       "      <td>1.8</td>\n",
       "    </tr>\n",
       "  </tbody>\n",
       "</table>\n",
       "<p>150 rows × 2 columns</p>\n",
       "</div>"
      ],
      "text/plain": [
       "     petal length (cm)  petal width (cm)\n",
       "0                  1.4               0.2\n",
       "1                  1.4               0.2\n",
       "2                  1.3               0.2\n",
       "3                  1.5               0.2\n",
       "4                  1.4               0.2\n",
       "..                 ...               ...\n",
       "145                5.2               2.3\n",
       "146                5.0               1.9\n",
       "147                5.2               2.0\n",
       "148                5.4               2.3\n",
       "149                5.1               1.8\n",
       "\n",
       "[150 rows x 2 columns]"
      ]
     },
     "execution_count": 5,
     "metadata": {},
     "output_type": "execute_result"
    }
   ],
   "source": [
    "X"
   ]
  },
  {
   "cell_type": "code",
   "execution_count": 6,
   "id": "f76eaf75",
   "metadata": {},
   "outputs": [
    {
     "data": {
      "text/plain": [
       "0      0\n",
       "1      0\n",
       "2      0\n",
       "3      0\n",
       "4      0\n",
       "      ..\n",
       "145    2\n",
       "146    2\n",
       "147    2\n",
       "148    2\n",
       "149    2\n",
       "Name: target, Length: 150, dtype: int32"
      ]
     },
     "execution_count": 6,
     "metadata": {},
     "output_type": "execute_result"
    }
   ],
   "source": [
    "y"
   ]
  },
  {
   "cell_type": "code",
   "execution_count": 7,
   "id": "075674a1",
   "metadata": {},
   "outputs": [],
   "source": [
    "from sklearn.model_selection import train_test_split\n",
    "\n",
    "X_train, X_test, y_train, y_test = train_test_split(X, y, test_size=0.2, random_state=42)"
   ]
  },
  {
   "cell_type": "code",
   "execution_count": 8,
   "id": "d8002e16",
   "metadata": {},
   "outputs": [],
   "source": [
    "import numpy as np\n",
    "from sklearn.linear_model import Perceptron\n",
    "\n",
    "per_acc = []\n",
    "per_wght = []\n",
    "\n",
    "for i in range(3):\n",
    "    Xi_train = X_train\n",
    "    yi_train = (y_train == i).astype(int)\n",
    "    Xi_test = X_test\n",
    "    yi_test = (y_test == i).astype(int)\n",
    "    per_clf = Perceptron()\n",
    "    per_clf.fit(Xi_train, yi_train)\n",
    "    per_acc.append((per_clf.score(Xi_train,yi_train),per_clf.score(Xi_test,yi_test)))\n",
    "    per_wght.append((per_clf.intercept_[0],per_clf.coef_[0,0],per_clf.coef_[0,1]))"
   ]
  },
  {
   "cell_type": "code",
   "execution_count": 9,
   "id": "3d0ecdb9",
   "metadata": {},
   "outputs": [
    {
     "data": {
      "text/plain": [
       "[(1.0, 1.0), (0.6416666666666667, 0.7), (0.85, 0.8666666666666667)]"
      ]
     },
     "execution_count": 9,
     "metadata": {},
     "output_type": "execute_result"
    }
   ],
   "source": [
    "per_acc"
   ]
  },
  {
   "cell_type": "code",
   "execution_count": 10,
   "id": "c217d1a8",
   "metadata": {},
   "outputs": [
    {
     "data": {
      "text/plain": [
       "[(4.0, -1.4999999999999993, -1.6999999999999997),\n",
       " (-9.0, 6.800000000000028, -16.099999999999973),\n",
       " (-37.0, 1.8999999999999861, 21.499999999999993)]"
      ]
     },
     "execution_count": 10,
     "metadata": {},
     "output_type": "execute_result"
    }
   ],
   "source": [
    "per_wght"
   ]
  },
  {
   "cell_type": "code",
   "execution_count": 11,
   "id": "e7ef443f",
   "metadata": {},
   "outputs": [],
   "source": [
    "#2.2"
   ]
  },
  {
   "cell_type": "code",
   "execution_count": 12,
   "id": "f4a06d50",
   "metadata": {},
   "outputs": [],
   "source": [
    "X = np.array([[0, 0],[0, 1],[1, 0],[1, 1]])\n",
    "y = np.array([0,1, 1, 0])\n",
    "\n",
    "X_train, X_test, y_train, y_test = train_test_split(X, y, test_size=0.2, random_state=42)"
   ]
  },
  {
   "cell_type": "code",
   "execution_count": 13,
   "id": "4f6a6602",
   "metadata": {},
   "outputs": [
    {
     "name": "stdout",
     "output_type": "stream",
     "text": [
      "[0]\n",
      "[0]\n",
      "[1]\n",
      "[0]\n"
     ]
    }
   ],
   "source": [
    "#uczenie\n",
    "per_clf = Perceptron()\n",
    "per_clf.fit(X_train, y_train)\n",
    "print(per_clf.predict([[0,0]]))\n",
    "print(per_clf.predict([[0,1]]))\n",
    "print(per_clf.predict([[1,0]]))\n",
    "print(per_clf.predict([[1,1]]))"
   ]
  },
  {
   "cell_type": "code",
   "execution_count": 14,
   "id": "7ee44855",
   "metadata": {},
   "outputs": [
    {
     "data": {
      "text/plain": [
       "array([[ 2., -3.]])"
      ]
     },
     "execution_count": 14,
     "metadata": {},
     "output_type": "execute_result"
    }
   ],
   "source": [
    "per_clf.coef_"
   ]
  },
  {
   "cell_type": "code",
   "execution_count": 41,
   "id": "4761a110",
   "metadata": {},
   "outputs": [],
   "source": [
    "#2.3\n",
    "import tensorflow as tf\n",
    "from tensorflow import keras\n",
    "model = keras.models.Sequential()"
   ]
  },
  {
   "cell_type": "code",
   "execution_count": 42,
   "id": "4922f64d",
   "metadata": {},
   "outputs": [],
   "source": [
    "#warstwa wejściowa\n",
    "model.add(tf.keras.layers.Flatten(input_dim = 2))"
   ]
  },
  {
   "cell_type": "code",
   "execution_count": 43,
   "id": "e7c2ca59",
   "metadata": {},
   "outputs": [],
   "source": [
    "#jedna warstwa ukryta\n",
    "model.add(tf.keras.layers.Dense(2,input_dim = 2,  activation='tanh', use_bias=True))"
   ]
  },
  {
   "cell_type": "code",
   "execution_count": 44,
   "id": "57c0ebeb",
   "metadata": {},
   "outputs": [],
   "source": [
    "#warstwa wyjściowa\n",
    "model.add(tf.keras.layers.Dense(1, activation=\"sigmoid\", use_bias=True))"
   ]
  },
  {
   "cell_type": "code",
   "execution_count": 45,
   "id": "a4fad346",
   "metadata": {},
   "outputs": [
    {
     "name": "stdout",
     "output_type": "stream",
     "text": [
      "Model: \"sequential_2\"\n",
      "_________________________________________________________________\n",
      " Layer (type)                Output Shape              Param #   \n",
      "=================================================================\n",
      " flatten_2 (Flatten)         (None, 2)                 0         \n",
      "                                                                 \n",
      " dense_2 (Dense)             (None, 2)                 6         \n",
      "                                                                 \n",
      " dense_3 (Dense)             (None, 1)                 3         \n",
      "                                                                 \n",
      "=================================================================\n",
      "Total params: 9\n",
      "Trainable params: 9\n",
      "Non-trainable params: 0\n",
      "_________________________________________________________________\n"
     ]
    }
   ],
   "source": [
    "model.summary()"
   ]
  },
  {
   "cell_type": "code",
   "execution_count": 46,
   "id": "1dbe9c92",
   "metadata": {},
   "outputs": [],
   "source": [
    "model.compile(loss='binary_crossentropy',\n",
    "optimizer='SGD')"
   ]
  },
  {
   "cell_type": "code",
   "execution_count": 47,
   "id": "57af23f8",
   "metadata": {},
   "outputs": [
    {
     "name": "stdout",
     "output_type": "stream",
     "text": [
      "[0.6373111605644226, 0.6368737816810608, 0.6364362835884094, 0.6359987854957581, 0.6355612874031067, 0.6351237893104553, 0.634686291217804, 0.6342486143112183, 0.6338109970092773, 0.6333733201026917, 0.6329355835914612, 0.6324977874755859, 0.6320598721504211, 0.6316220164299011, 0.6311839818954468, 0.6307458281517029, 0.630307674407959, 0.6298694014549255, 0.6294309496879578, 0.6289925575256348, 0.6285539269447327, 0.6281152367591858, 0.6276764273643494, 0.6272374987602234, 0.6267984509468079, 0.626359224319458, 0.6259198784828186, 0.6254803538322449, 0.6250407695770264, 0.624600887298584, 0.6241610050201416, 0.6237208843231201, 0.6232806444168091, 0.622840166091919, 0.6223995089530945, 0.6219587326049805, 0.6215177178382874, 0.6210765838623047, 0.6206352114677429, 0.620193600654602, 0.6197518110275269, 0.6193098425865173, 0.6188675761222839, 0.6184251308441162, 0.6179825067520142, 0.617539644241333, 0.617096483707428, 0.6166532039642334, 0.6162095665931702, 0.6157657504081726, 0.615321695804596, 0.6148774027824402, 0.6144328117370605, 0.613987922668457, 0.6135427951812744, 0.6130974292755127, 0.6126517057418823, 0.6122058033943176, 0.611759603023529, 0.6113130450248718, 0.6108662486076355, 0.6104192137718201, 0.6099717617034912, 0.6095240712165833, 0.6090760827064514, 0.6086277961730957, 0.6081790924072266, 0.6077301502227783, 0.6072809100151062, 0.6068313717842102, 0.6063814163208008, 0.6059311628341675, 0.6054806113243103, 0.6050296425819397, 0.60457843542099, 0.6041266918182373, 0.6036748290061951, 0.6032224297523499, 0.6027697920799255, 0.6023167967796326, 0.6018633246421814, 0.6014096140861511, 0.6009554862976074, 0.6005010008811951, 0.6000460386276245, 0.5995907783508301, 0.5991351008415222, 0.5986790657043457, 0.5982226133346558, 0.5977658033370972, 0.5973086357116699, 0.5968509316444397, 0.5963928699493408, 0.5959344506263733, 0.5954756140708923, 0.5950164198875427, 0.5945567488670349, 0.5940966606140137, 0.5936360955238342, 0.5931752324104309]\n"
     ]
    }
   ],
   "source": [
    "history = model.fit(X_train, y_train, epochs=100, verbose=False)\n",
    "print(history.history['loss'])"
   ]
  },
  {
   "cell_type": "code",
   "execution_count": 48,
   "id": "3ad25bde",
   "metadata": {},
   "outputs": [
    {
     "data": {
      "text/plain": [
       "[array([[ 1.1950437 ,  0.19278614],\n",
       "        [-1.0708519 ,  0.75320995]], dtype=float32),\n",
       " array([-0.02660836,  0.03459731], dtype=float32),\n",
       " array([[ 0.19563586],\n",
       "        [-0.9083798 ]], dtype=float32),\n",
       " array([-0.09060249], dtype=float32)]"
      ]
     },
     "execution_count": 48,
     "metadata": {},
     "output_type": "execute_result"
    }
   ],
   "source": [
    "model.get_weights()"
   ]
  },
  {
   "cell_type": "code",
   "execution_count": 49,
   "id": "34f6c79b",
   "metadata": {},
   "outputs": [
    {
     "data": {
      "text/plain": [
       "array([[0.4682374 ],\n",
       "       [0.30069607],\n",
       "       [0.46692178],\n",
       "       [0.31954247]], dtype=float32)"
      ]
     },
     "execution_count": 49,
     "metadata": {},
     "output_type": "execute_result"
    }
   ],
   "source": [
    "model.predict(X)"
   ]
  },
  {
   "cell_type": "code",
   "execution_count": 52,
   "id": "1ebaf9d0",
   "metadata": {},
   "outputs": [
    {
     "data": {
      "text/plain": [
       "0.30069607"
      ]
     },
     "execution_count": 52,
     "metadata": {},
     "output_type": "execute_result"
    }
   ],
   "source": [
    "model.predict(X)[1][0]"
   ]
  },
  {
   "cell_type": "code",
   "execution_count": 67,
   "id": "0d816715",
   "metadata": {},
   "outputs": [],
   "source": [
    "act=['sigmoid','tanh','relu']\n",
    "#opt = ['SGD','Adam']\n",
    "loss_f = ['binary_crossentropy','MAE']"
   ]
  },
  {
   "cell_type": "code",
   "execution_count": 68,
   "id": "0878d9b3",
   "metadata": {},
   "outputs": [],
   "source": [
    "def check_solution(y_pred,y):\n",
    "    for i in range(len(y)):\n",
    "        if y[i]==0:\n",
    "            if y_pred[i][0] >= 0.1: return False\n",
    "        if y[i]==1:\n",
    "            if y_pred[i][0] <= 0.9: return False\n",
    "    return True"
   ]
  },
  {
   "cell_type": "code",
   "execution_count": 73,
   "id": "c9b45898",
   "metadata": {},
   "outputs": [
    {
     "name": "stdout",
     "output_type": "stream",
     "text": [
      "[[0.66499865]\n",
      " [0.66499865]\n",
      " [0.66499865]\n",
      " [0.01374018]]\n",
      "[[0.51311237]\n",
      " [0.51311237]\n",
      " [0.51311237]\n",
      " [0.51311237]]\n",
      "[[0.        ]\n",
      " [0.96156466]\n",
      " [1.0541385 ]\n",
      " [0.        ]]\n"
     ]
    }
   ],
   "source": [
    "from random import randrange\n",
    "while not check_solution(model.predict(X),y):\n",
    "    model = keras.models.Sequential()\n",
    "    #warstwa wejściowa\n",
    "    model.add(tf.keras.layers.Flatten(input_dim = 2))\n",
    "    #jedna warstwa ukryta\n",
    "    model.add(tf.keras.layers.Dense(2,input_dim = 2,  activation=act[randrange(len(act))], use_bias=True))\n",
    "    #warstwa wyjściowa\n",
    "    model.add(tf.keras.layers.Dense(1, activation=act[randrange(len(act))], use_bias=True))\n",
    "    model.compile(loss=loss_f[randrange(len(loss_f))], optimizer=tf.keras.optimizers.Adam(learning_rate=0.1))\n",
    "    model.fit(X, y, epochs=100, verbose=False)        \n",
    "    print(model.predict(X))"
   ]
  },
  {
   "cell_type": "code",
   "execution_count": 74,
   "id": "611997e4",
   "metadata": {},
   "outputs": [
    {
     "data": {
      "text/plain": [
       "array([[0.        ],\n",
       "       [0.96156466],\n",
       "       [1.0541385 ],\n",
       "       [0.        ]], dtype=float32)"
      ]
     },
     "execution_count": 74,
     "metadata": {},
     "output_type": "execute_result"
    }
   ],
   "source": [
    "model.predict(X)"
   ]
  },
  {
   "cell_type": "code",
   "execution_count": 75,
   "id": "c75c8f15",
   "metadata": {},
   "outputs": [
    {
     "data": {
      "text/plain": [
       "[array([[-0.867648 ,  2.976318 ],\n",
       "        [-0.9279486,  3.1013908]], dtype=float32),\n",
       " array([ 1.0396435, -1.0787631], dtype=float32),\n",
       " array([[1.7744439],\n",
       "        [1.2831166]], dtype=float32),\n",
       " array([-0.47477856], dtype=float32)]"
      ]
     },
     "execution_count": 75,
     "metadata": {},
     "output_type": "execute_result"
    }
   ],
   "source": [
    "model.get_weights()"
   ]
  },
  {
   "cell_type": "code",
   "execution_count": null,
   "id": "64173db1",
   "metadata": {},
   "outputs": [],
   "source": []
  }
 ],
 "metadata": {
  "kernelspec": {
   "display_name": "Python 3 (ipykernel)",
   "language": "python",
   "name": "python3"
  },
  "language_info": {
   "codemirror_mode": {
    "name": "ipython",
    "version": 3
   },
   "file_extension": ".py",
   "mimetype": "text/x-python",
   "name": "python",
   "nbconvert_exporter": "python",
   "pygments_lexer": "ipython3",
   "version": "3.9.7"
  }
 },
 "nbformat": 4,
 "nbformat_minor": 5
}
