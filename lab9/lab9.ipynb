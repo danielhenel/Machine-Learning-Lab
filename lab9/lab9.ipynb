{
 "cells": [
  {
   "cell_type": "code",
   "execution_count": 1,
   "id": "921df5b7",
   "metadata": {},
   "outputs": [],
   "source": [
    "#2.1\n",
    "import pickle as pkl"
   ]
  },
  {
   "cell_type": "code",
   "execution_count": 2,
   "id": "711dcd13",
   "metadata": {},
   "outputs": [],
   "source": [
    "from sklearn.datasets import load_iris \n",
    "iris = load_iris(as_frame=True)"
   ]
  },
  {
   "cell_type": "code",
   "execution_count": 3,
   "id": "fb9803cf",
   "metadata": {},
   "outputs": [
    {
     "data": {
      "text/plain": [
       "<AxesSubplot:xlabel='petal length (cm)', ylabel='petal width (cm)'>"
      ]
     },
     "execution_count": 3,
     "metadata": {},
     "output_type": "execute_result"
    },
    {
     "data": {
      "image/png": "[encoded data removed]",
      "text/plain": [
       "<Figure size 432x288 with 2 Axes>"
      ]
     },
     "metadata": {
      "needs_background": "light"
     },
     "output_type": "display_data"
    }
   ],
   "source": [
    "import pandas as pd\n",
    "pd.concat([iris.data, iris.target], axis=1).plot.scatter(\n",
    "    x='petal length (cm)',\n",
    "    y='petal width (cm)',\n",
    "    c='target',\n",
    "    colormap='viridis'\n",
    ")"
   ]
  },
  {
   "cell_type": "code",
   "execution_count": null,
   "id": "fc41b0fa",
   "metadata": {},
   "outputs": [],
   "source": []
  },
  {
   "cell_type": "code",
   "execution_count": 4,
   "id": "2192879c",
   "metadata": {},
   "outputs": [],
   "source": [
    "X = iris.data.iloc[:, 2:4]\n",
    "y = iris.target"
   ]
  },
  {
   "cell_type": "code",
   "execution_count": 5,
   "id": "5cf45577",
   "metadata": {},
   "outputs": [
    {
     "data": {
      "text/html": [
       "<div>\n",
       "<style scoped>\n",
       "    .dataframe tbody tr th:only-of-type {\n",
       "        vertical-align: middle;\n",
       "    }\n",
       "\n",
       "    .dataframe tbody tr th {\n",
       "        vertical-align: top;\n",
       "    }\n",
       "\n",
       "    .dataframe thead th {\n",
       "        text-align: right;\n",
       "    }\n",
       "</style>\n",
       "<table border=\"1\" class=\"dataframe\">\n",
       "  <thead>\n",
       "    <tr style=\"text-align: right;\">\n",
       "      <th></th>\n",
       "      <th>petal length (cm)</th>\n",
       "      <th>petal width (cm)</th>\n",
       "    </tr>\n",
       "  </thead>\n",
       "  <tbody>\n",
       "    <tr>\n",
       "      <th>0</th>\n",
       "      <td>1.4</td>\n",
       "      <td>0.2</td>\n",
       "    </tr>\n",
       "    <tr>\n",
       "      <th>1</th>\n",
       "      <td>1.4</td>\n",
       "      <td>0.2</td>\n",
       "    </tr>\n",
       "    <tr>\n",
       "      <th>2</th>\n",
       "      <td>1.3</td>\n",
       "      <td>0.2</td>\n",
       "    </tr>\n",
       "    <tr>\n",
       "      <th>3</th>\n",
       "      <td>1.5</td>\n",
       "      <td>0.2</td>\n",
       "    </tr>\n",
       "    <tr>\n",
       "      <th>4</th>\n",
       "      <td>1.4</td>\n",
       "      <td>0.2</td>\n",
       "    </tr>\n",
       "    <tr>\n",
       "      <th>...</th>\n",
       "      <td>...</td>\n",
       "      <td>...</td>\n",
       "    </tr>\n",
       "    <tr>\n",
       "      <th>145</th>\n",
       "      <td>5.2</td>\n",
       "      <td>2.3</td>\n",
       "    </tr>\n",
       "    <tr>\n",
       "      <th>146</th>\n",
       "      <td>5.0</td>\n",
       "      <td>1.9</td>\n",
       "    </tr>\n",
       "    <tr>\n",
       "      <th>147</th>\n",
       "      <td>5.2</td>\n",
       "      <td>2.0</td>\n",
       "    </tr>\n",
       "    <tr>\n",
       "      <th>148</th>\n",
       "      <td>5.4</td>\n",
       "      <td>2.3</td>\n",
       "    </tr>\n",
       "    <tr>\n",
       "      <th>149</th>\n",
       "      <td>5.1</td>\n",
       "      <td>1.8</td>\n",
       "    </tr>\n",
       "  </tbody>\n",
       "</table>\n",
       "<p>150 rows × 2 columns</p>\n",
       "</div>"
      ],
      "text/plain": [
       "     petal length (cm)  petal width (cm)\n",
       "0                  1.4               0.2\n",
       "1                  1.4               0.2\n",
       "2                  1.3               0.2\n",
       "3                  1.5               0.2\n",
       "4                  1.4               0.2\n",
       "..                 ...               ...\n",
       "145                5.2               2.3\n",
       "146                5.0               1.9\n",
       "147                5.2               2.0\n",
       "148                5.4               2.3\n",
       "149                5.1               1.8\n",
       "\n",
       "[150 rows x 2 columns]"
      ]
     },
     "execution_count": 5,
     "metadata": {},
     "output_type": "execute_result"
    }
   ],
   "source": [
    "X"
   ]
  },
  {
   "cell_type": "code",
   "execution_count": 6,
   "id": "f76eaf75",
   "metadata": {},
   "outputs": [
    {
     "data": {
      "text/plain": [
       "0      0\n",
       "1      0\n",
       "2      0\n",
       "3      0\n",
       "4      0\n",
       "      ..\n",
       "145    2\n",
       "146    2\n",
       "147    2\n",
       "148    2\n",
       "149    2\n",
       "Name: target, Length: 150, dtype: int32"
      ]
     },
     "execution_count": 6,
     "metadata": {},
     "output_type": "execute_result"
    }
   ],
   "source": [
    "y"
   ]
  },
  {
   "cell_type": "code",
   "execution_count": 7,
   "id": "075674a1",
   "metadata": {},
   "outputs": [],
   "source": [
    "from sklearn.model_selection import train_test_split\n",
    "\n",
    "X_train, X_test, y_train, y_test = train_test_split(X, y, test_size=0.2, random_state=42)"
   ]
  },
  {
   "cell_type": "code",
   "execution_count": 8,
   "id": "d8002e16",
   "metadata": {},
   "outputs": [],
   "source": [
    "import numpy as np\n",
    "from sklearn.linear_model import Perceptron\n",
    "\n",
    "per_acc = []\n",
    "per_wght = []\n",
    "\n",
    "for i in range(3):\n",
    "    Xi_train = X_train\n",
    "    yi_train = (y_train == i).astype(int)\n",
    "    Xi_test = X_test\n",
    "    yi_test = (y_test == i).astype(int)\n",
    "    per_clf = Perceptron()\n",
    "    per_clf.fit(Xi_train, yi_train)\n",
    "    per_acc.append((per_clf.score(Xi_train,yi_train),per_clf.score(Xi_test,yi_test)))\n",
    "    per_wght.append((per_clf.intercept_[0],per_clf.coef_[0,0],per_clf.coef_[0,1]))"
   ]
  },
  {
   "cell_type": "code",
   "execution_count": 9,
   "id": "3d0ecdb9",
   "metadata": {},
   "outputs": [],
   "source": [
    "per_acc\n",
    "fileObject = open(\"per_acc.pkl\", 'wb')\n",
    "pkl.dump(per_acc, fileObject)\n",
    "fileObject.close()"
   ]
  },
  {
   "cell_type": "code",
   "execution_count": 10,
   "id": "c217d1a8",
   "metadata": {},
   "outputs": [],
   "source": [
    "per_wght\n",
    "fileObject = open(\"per_wght.pkl\", 'wb')\n",
    "pkl.dump(per_wght, fileObject)\n",
    "fileObject.close()"
   ]
  },
  {
   "cell_type": "code",
   "execution_count": 11,
   "id": "e7ef443f",
   "metadata": {},
   "outputs": [],
   "source": [
    "#2.2"
   ]
  },
  {
   "cell_type": "code",
   "execution_count": 12,
   "id": "f4a06d50",
   "metadata": {},
   "outputs": [],
   "source": [
    "X = np.array([[0, 0],[0, 1],[1, 0],[1, 1]])\n",
    "y = np.array([0,1, 1, 0])\n",
    "\n",
    "X_train, X_test, y_train, y_test = train_test_split(X, y, test_size=0.2, random_state=42)"
   ]
  },
  {
   "cell_type": "code",
   "execution_count": 13,
   "id": "4f6a6602",
   "metadata": {},
   "outputs": [
    {
     "name": "stdout",
     "output_type": "stream",
     "text": [
      "[0]\n",
      "[0]\n",
      "[1]\n",
      "[0]\n"
     ]
    }
   ],
   "source": [
    "#uczenie\n",
    "per_clf = Perceptron()\n",
    "per_clf.fit(X_train, y_train)\n",
    "print(per_clf.predict([[0,0]]))\n",
    "print(per_clf.predict([[0,1]]))\n",
    "print(per_clf.predict([[1,0]]))\n",
    "print(per_clf.predict([[1,1]]))"
   ]
  },
  {
   "cell_type": "code",
   "execution_count": 14,
   "id": "7ee44855",
   "metadata": {},
   "outputs": [
    {
     "data": {
      "text/plain": [
       "array([[ 2., -3.]])"
      ]
     },
     "execution_count": 14,
     "metadata": {},
     "output_type": "execute_result"
    }
   ],
   "source": [
    "per_clf.coef_"
   ]
  },
  {
   "cell_type": "code",
   "execution_count": 15,
   "id": "e109513d",
   "metadata": {},
   "outputs": [],
   "source": [
    "#2.3\n",
    "import tensorflow as tf\n",
    "from tensorflow import keras\n",
    "model = keras.models.Sequential()"
   ]
  },
  {
   "cell_type": "code",
   "execution_count": 16,
   "id": "ab279e1b",
   "metadata": {},
   "outputs": [],
   "source": [
    "#warstwa wejściowa\n",
    "model.add(tf.keras.layers.Flatten(input_dim = 2))"
   ]
  },
  {
   "cell_type": "code",
   "execution_count": 17,
   "id": "5a2a3b82",
   "metadata": {},
   "outputs": [],
   "source": [
    "#jedna warstwa ukryta\n",
    "model.add(tf.keras.layers.Dense(2,input_dim = 2,  activation='tanh', use_bias=True))"
   ]
  },
  {
   "cell_type": "code",
   "execution_count": 18,
   "id": "fc260960",
   "metadata": {},
   "outputs": [],
   "source": [
    "#warstwa wyjściowa\n",
    "model.add(tf.keras.layers.Dense(1, activation=\"sigmoid\", use_bias=True))"
   ]
  },
  {
   "cell_type": "code",
   "execution_count": 19,
   "id": "6a82f3c7",
   "metadata": {},
   "outputs": [
    {
     "name": "stdout",
     "output_type": "stream",
     "text": [
      "Model: \"sequential\"\n",
      "_________________________________________________________________\n",
      " Layer (type)                Output Shape              Param #   \n",
      "=================================================================\n",
      " flatten (Flatten)           (None, 2)                 0         \n",
      "                                                                 \n",
      " dense (Dense)               (None, 2)                 6         \n",
      "                                                                 \n",
      " dense_1 (Dense)             (None, 1)                 3         \n",
      "                                                                 \n",
      "=================================================================\n",
      "Total params: 9\n",
      "Trainable params: 9\n",
      "Non-trainable params: 0\n",
      "_________________________________________________________________\n"
     ]
    }
   ],
   "source": [
    "model.summary()"
   ]
  },
  {
   "cell_type": "code",
   "execution_count": 20,
   "id": "3de1ea50",
   "metadata": {},
   "outputs": [],
   "source": [
    "model.compile(loss='binary_crossentropy',\n",
    "optimizer='SGD')"
   ]
  },
  {
   "cell_type": "code",
   "execution_count": 21,
   "id": "b4c2d811",
   "metadata": {},
   "outputs": [
    {
     "name": "stdout",
     "output_type": "stream",
     "text": [
      "[0.72735995054245, 0.7271239757537842, 0.7268888354301453, 0.7266543507575989, 0.7264208197593689, 0.7261879444122314, 0.7259559035301208, 0.7257246375083923, 0.7254940867424011, 0.7252643704414368, 0.7250354290008545, 0.7248072624206543, 0.7245798110961914, 0.7243531346321106, 0.7241272330284119, 0.7239020466804504, 0.7236776351928711, 0.7234539985656738, 0.7232310771942139, 0.7230088710784912, 0.7227873802185059, 0.7225666642189026, 0.7223466038703918, 0.7221274375915527, 0.7219088673591614, 0.7216910719871521, 0.7214739322662354, 0.7212575078010559, 0.7210418581962585, 0.7208268046379089, 0.7206125855445862, 0.7203989624977112, 0.720186173915863, 0.7199739813804626, 0.7197625041007996, 0.7195517420768738, 0.719341516494751, 0.719132125377655, 0.7189233899116516, 0.7187153697013855, 0.7185079455375671, 0.7183012366294861, 0.7180951237678528, 0.7178897857666016, 0.7176850438117981, 0.7174809575080872, 0.7172777056694031, 0.7170748710632324, 0.7168727517127991, 0.7166712880134583, 0.7164705395698547, 0.716270387172699, 0.7160708904266357, 0.715872049331665, 0.7156737446784973, 0.7154762148857117, 0.7152791619300842, 0.7150828242301941, 0.7148871421813965, 0.7146921157836914, 0.7144975662231445, 0.7143036723136902, 0.7141104340553284, 0.7139177322387695, 0.7137258052825928, 0.7135343551635742, 0.7133435606956482, 0.7131533622741699, 0.7129637598991394, 0.7127746939659119, 0.7125862240791321, 0.7123983502388, 0.7122111916542053, 0.7120245099067688, 0.7118384838104248, 0.7116529941558838, 0.7114680409431458, 0.7112836837768555, 0.7110999226570129, 0.7109167575836182, 0.7107341289520264, 0.7105520367622375, 0.7103705406188965, 0.7101896405220032, 0.7100092768669128, 0.7098293900489807, 0.7096502184867859, 0.7094714641571045, 0.7092933058738708, 0.709115743637085, 0.7089386582374573, 0.7087621092796326, 0.7085860371589661, 0.7084106802940369, 0.7082357406616211, 0.7080613970756531, 0.7078874707221985, 0.7077142596244812, 0.7075414657592773, 0.7073691487312317]\n"
     ]
    }
   ],
   "source": [
    "history = model.fit(X_train, y_train, epochs=100, verbose=False)\n",
    "print(history.history['loss'])"
   ]
  },
  {
   "cell_type": "code",
   "execution_count": 22,
   "id": "e6d44963",
   "metadata": {},
   "outputs": [
    {
     "data": {
      "text/plain": [
       "[array([[ 1.0144215 , -0.29350552],\n",
       "        [ 0.24197417,  0.0526593 ]], dtype=float32),\n",
       " array([ 0.08876363, -0.00189677], dtype=float32),\n",
       " array([[-0.80092436],\n",
       "        [ 0.01295045]], dtype=float32),\n",
       " array([-0.04549593], dtype=float32)]"
      ]
     },
     "execution_count": 22,
     "metadata": {},
     "output_type": "execute_result"
    }
   ],
   "source": [
    "model.get_weights()"
   ]
  },
  {
   "cell_type": "code",
   "execution_count": 23,
   "id": "7074950c",
   "metadata": {},
   "outputs": [
    {
     "data": {
      "text/plain": [
       "array([[0.47092602],\n",
       "       [0.42543992],\n",
       "       [0.33375126],\n",
       "       [0.3213203 ]], dtype=float32)"
      ]
     },
     "execution_count": 23,
     "metadata": {},
     "output_type": "execute_result"
    }
   ],
   "source": [
    "model.predict(X)"
   ]
  },
  {
   "cell_type": "code",
   "execution_count": 24,
   "id": "a67efb66",
   "metadata": {},
   "outputs": [
    {
     "data": {
      "text/plain": [
       "0.42543992"
      ]
     },
     "execution_count": 24,
     "metadata": {},
     "output_type": "execute_result"
    }
   ],
   "source": [
    "model.predict(X)[1][0]"
   ]
  },
  {
   "cell_type": "code",
   "execution_count": 25,
   "id": "e1fb32fb",
   "metadata": {},
   "outputs": [],
   "source": [
    "act=['sigmoid','tanh','relu']\n",
    "#opt = ['SGD','Adam']\n",
    "loss_f = ['binary_crossentropy','MAE']"
   ]
  },
  {
   "cell_type": "code",
   "execution_count": 26,
   "id": "35449b14",
   "metadata": {},
   "outputs": [],
   "source": [
    "def check_solution(y_pred,y):\n",
    "    for i in range(len(y)):\n",
    "        if y[i]==0:\n",
    "            if y_pred[i][0] >= 0.05 or y_pred[i][0]<= -0.05: return False\n",
    "        if y[i]==1:\n",
    "            if y_pred[i][0] <= 0.95 or y_pred[i][0] >= 1.05: return False\n",
    "    return True"
   ]
  },
  {
   "cell_type": "code",
   "execution_count": 27,
   "id": "70e970b1",
   "metadata": {},
   "outputs": [
    {
     "name": "stdout",
     "output_type": "stream",
     "text": [
      "[[0.5388231]\n",
      " [0.5388231]\n",
      " [0.5388231]\n",
      " [0.5388231]]\n",
      "[[0.       ]\n",
      " [1.0460689]\n",
      " [0.       ]\n",
      " [0.       ]]\n",
      "[[-0.03558246]\n",
      " [ 0.68186384]\n",
      " [ 0.6815854 ]\n",
      " [ 0.6877246 ]]\n",
      "WARNING:tensorflow:5 out of the last 10 calls to <function Model.make_predict_function.<locals>.predict_function at 0x0000026DFF2691F0> triggered tf.function retracing. Tracing is expensive and the excessive number of tracings could be due to (1) creating @tf.function repeatedly in a loop, (2) passing tensors with different shapes, (3) passing Python objects instead of tensors. For (1), please define your @tf.function outside of the loop. For (2), @tf.function has experimental_relax_shapes=True option that relaxes argument shapes that can avoid unnecessary retracing. For (3), please refer to https://www.tensorflow.org/guide/function#controlling_retracing and https://www.tensorflow.org/api_docs/python/tf/function for  more details.\n",
      "[[0.       ]\n",
      " [1.2418818]\n",
      " [1.1191602]\n",
      " [0.       ]]\n",
      "WARNING:tensorflow:6 out of the last 12 calls to <function Model.make_predict_function.<locals>.predict_function at 0x0000026DFF379790> triggered tf.function retracing. Tracing is expensive and the excessive number of tracings could be due to (1) creating @tf.function repeatedly in a loop, (2) passing tensors with different shapes, (3) passing Python objects instead of tensors. For (1), please define your @tf.function outside of the loop. For (2), @tf.function has experimental_relax_shapes=True option that relaxes argument shapes that can avoid unnecessary retracing. For (3), please refer to https://www.tensorflow.org/guide/function#controlling_retracing and https://www.tensorflow.org/api_docs/python/tf/function for  more details.\n",
      "[[0.00413486]\n",
      " [0.99636376]\n",
      " [0.49645284]\n",
      " [0.49956205]]\n",
      "[[ 0.06508791]\n",
      " [ 0.960688  ]\n",
      " [ 0.93820506]\n",
      " [-0.0042393 ]]\n",
      "[[0.33341348]\n",
      " [0.9994714 ]\n",
      " [0.33341348]\n",
      " [0.33341348]]\n",
      "[[0.5033962 ]\n",
      " [0.50188017]\n",
      " [0.50263923]\n",
      " [0.501016  ]]\n",
      "[[-0.4069593 ]\n",
      " [ 0.99932057]\n",
      " [-0.99903214]\n",
      " [-0.74847907]]\n",
      "[[0.       ]\n",
      " [1.5104094]\n",
      " [1.0279772]\n",
      " [0.       ]]\n",
      "[[ 0.        ]\n",
      " [-0.15288593]\n",
      " [-0.76449484]\n",
      " [-0.55625284]]\n",
      "[[-0.01051774]\n",
      " [ 0.9971514 ]\n",
      " [ 0.9974692 ]\n",
      " [ 0.9977965 ]]\n",
      "[[0.]\n",
      " [0.]\n",
      " [0.]\n",
      " [0.]]\n",
      "[[0.67765623]\n",
      " [0.7736742 ]\n",
      " [0.801096  ]\n",
      " [0.89711404]]\n",
      "[[-0.00806111]\n",
      " [ 0.97035676]\n",
      " [ 0.9542208 ]\n",
      " [-0.0517564 ]]\n",
      "[[0.12455113]\n",
      " [0.21137807]\n",
      " [0.27849063]\n",
      " [0.36531758]]\n",
      "[[0.       ]\n",
      " [1.7935619]\n",
      " [1.2830865]\n",
      " [2.6828816]]\n",
      "[[0.       ]\n",
      " [1.930086 ]\n",
      " [1.0354561]\n",
      " [3.5873241]]\n",
      "[[0.02500466]\n",
      " [0.08170116]\n",
      " [0.99374753]\n",
      " [0.08701314]]\n",
      "[[0.]\n",
      " [0.]\n",
      " [0.]\n",
      " [0.]]\n",
      "[[0.01768648]\n",
      " [0.01768648]\n",
      " [0.9993828 ]\n",
      " [0.01768648]]\n",
      "[[-0.07531054]\n",
      " [ 0.9777217 ]\n",
      " [ 0.97797424]\n",
      " [-0.37707353]]\n",
      "[[0.50663936]\n",
      " [0.5586904 ]\n",
      " [0.4910855 ]\n",
      " [0.46498057]]\n",
      "[[0.]\n",
      " [0.]\n",
      " [0.]\n",
      " [0.]]\n",
      "[[ 0.01882473]\n",
      " [ 0.96451885]\n",
      " [ 0.9573201 ]\n",
      " [-0.05617729]]\n",
      "[[0.]\n",
      " [0.]\n",
      " [0.]\n",
      " [0.]]\n",
      "[[-0.03053664]\n",
      " [ 0.996692  ]\n",
      " [ 0.99617815]\n",
      " [ 0.9971965 ]]\n",
      "[[5.0050634e-01]\n",
      " [9.9927831e-01]\n",
      " [5.0050634e-01]\n",
      " [8.0901384e-04]]\n",
      "[[ 0.        ]\n",
      " [-0.46828344]\n",
      " [-0.58835375]\n",
      " [-0.7195663 ]]\n",
      "[[0.0369705 ]\n",
      " [0.98864925]\n",
      " [0.98841745]\n",
      " [0.98931897]]\n",
      "[[0.54885274]\n",
      " [0.5013048 ]\n",
      " [0.5088331 ]\n",
      " [0.4586672 ]]\n",
      "[[0.09977671]\n",
      " [0.87600785]\n",
      " [0.8774318 ]\n",
      " [0.88596016]]\n",
      "[[0.]\n",
      " [0.]\n",
      " [0.]\n",
      " [0.]]\n",
      "[[0.00606397]\n",
      " [0.9961097 ]\n",
      " [0.64837575]\n",
      " [0.65543485]]\n",
      "[[0.       ]\n",
      " [0.       ]\n",
      " [0.9538996]\n",
      " [0.       ]]\n",
      "[[0.00967821]\n",
      " [0.9998956 ]\n",
      " [0.9998173 ]\n",
      " [1.        ]]\n",
      "[[-0.25022385]\n",
      " [ 0.9557483 ]\n",
      " [ 0.95970434]\n",
      " [-0.9748666 ]]\n",
      "[[-0.5410281 ]\n",
      " [-0.65168303]\n",
      " [-0.63114536]\n",
      " [-0.7151271 ]]\n",
      "[[ 0.        ]\n",
      " [-0.49363828]\n",
      " [-0.28895155]\n",
      " [-0.5925237 ]]\n",
      "[[ 0.        ]\n",
      " [-0.18883958]\n",
      " [-0.61500627]\n",
      " [-0.67882425]]\n",
      "[[0.33503932]\n",
      " [0.33503932]\n",
      " [0.9998688 ]\n",
      " [0.33503932]]\n",
      "[[-0.03540733]\n",
      " [ 0.9891706 ]\n",
      " [ 0.997466  ]\n",
      " [ 0.99075824]]\n",
      "[[-0.00849024]\n",
      " [ 0.9962873 ]\n",
      " [ 0.99571025]\n",
      " [ 0.9973455 ]]\n",
      "[[-0.6810498 ]\n",
      " [ 0.9991843 ]\n",
      " [-0.9998856 ]\n",
      " [-0.99240404]]\n",
      "[[-0.05877557]\n",
      " [ 0.9982154 ]\n",
      " [-0.99668175]\n",
      " [-0.73878384]]\n",
      "[[3.1360016]\n",
      " [3.642116 ]\n",
      " [3.025536 ]\n",
      " [3.5690808]]\n",
      "[[0.03061908]\n",
      " [0.82068497]\n",
      " [0.8137789 ]\n",
      " [0.54573715]]\n",
      "[[-9.7475643e-04]\n",
      " [ 9.9998742e-01]\n",
      " [ 9.9998462e-01]\n",
      " [ 1.0000000e+00]]\n",
      "[[8.5267425e-04]\n",
      " [3.6366014e-12]\n",
      " [9.9211204e-01]\n",
      " [7.3682435e-07]]\n",
      "[[0.33461475]\n",
      " [0.98824716]\n",
      " [0.33461475]\n",
      " [0.33461475]]\n",
      "[[-0.6083758 ]\n",
      " [ 0.99817276]\n",
      " [-0.9966931 ]\n",
      " [-0.5286565 ]]\n",
      "[[1.8089545e-01]\n",
      " [9.9950922e-01]\n",
      " [1.8089545e-01]\n",
      " [4.4444203e-04]]\n",
      "[[0.50049883]\n",
      " [0.50008804]\n",
      " [0.5004637 ]\n",
      " [0.50005287]]\n",
      "[[-0.44570294]\n",
      " [-0.4006332 ]\n",
      " [-0.39376354]\n",
      " [-0.34886557]]\n",
      "[[0.08941523]\n",
      " [0.08717582]\n",
      " [0.96607685]\n",
      " [0.10425812]]\n",
      "[[0.00356895]\n",
      " [0.23114452]\n",
      " [0.99290454]\n",
      " [0.2378946 ]]\n",
      "[[0.0084672 ]\n",
      " [0.9916383 ]\n",
      " [0.49719894]\n",
      " [0.50269204]]\n",
      "[[0.00167471]\n",
      " [0.99877965]\n",
      " [0.999045  ]\n",
      " [0.9994936 ]]\n",
      "[[0.99991477]\n",
      " [0.99613035]\n",
      " [0.99633324]\n",
      " [0.01372394]]\n",
      "[[5.3825974e-04]\n",
      " [9.9794638e-01]\n",
      " [4.3866873e-02]\n",
      " [4.5383304e-02]]\n",
      "[[0.33378813]\n",
      " [0.33378813]\n",
      " [0.99949783]\n",
      " [0.33378813]]\n",
      "[[0.33365792]\n",
      " [0.33365792]\n",
      " [0.99940586]\n",
      " [0.33365792]]\n",
      "[[0.00366823]\n",
      " [0.9950114 ]\n",
      " [0.6505496 ]\n",
      " [0.6567918 ]]\n",
      "[[0.00863409]\n",
      " [0.99028194]\n",
      " [0.49750403]\n",
      " [0.5033044 ]]\n",
      "[[0.]\n",
      " [0.]\n",
      " [0.]\n",
      " [0.]]\n",
      "[[0.]\n",
      " [0.]\n",
      " [0.]\n",
      " [0.]]\n",
      "[[ 0.9999891 ]\n",
      " [ 0.9933292 ]\n",
      " [ 0.9933911 ]\n",
      " [-0.03761899]]\n",
      "[[0.]\n",
      " [0.]\n",
      " [0.]\n",
      " [0.]]\n",
      "[[-0.39748093]\n",
      " [ 0.9996348 ]\n",
      " [ 0.9988844 ]\n",
      " [-0.39748093]]\n",
      "[[0.       ]\n",
      " [0.       ]\n",
      " [1.0142514]\n",
      " [0.       ]]\n",
      "[[0.50008833]\n",
      " [0.50008833]\n",
      " [0.50008833]\n",
      " [0.50008833]]\n",
      "[[0.00597951]\n",
      " [0.99869144]\n",
      " [0.99853873]\n",
      " [0.99944735]]\n",
      "[[-0.06683432]\n",
      " [ 0.9869233 ]\n",
      " [ 0.9878598 ]\n",
      " [-0.04494569]]\n",
      "[[-0.01251772]\n",
      " [ 0.99147147]\n",
      " [ 0.9912608 ]\n",
      " [ 0.99274683]]\n",
      "[[0.33224377]\n",
      " [0.33224377]\n",
      " [0.9971103 ]\n",
      " [0.33224377]]\n",
      "[[0.       ]\n",
      " [1.2007279]\n",
      " [1.183022 ]\n",
      " [0.       ]]\n",
      "[[8.9505315e-04]\n",
      " [9.9898040e-01]\n",
      " [4.8601627e-04]\n",
      " [6.0153008e-04]]\n",
      "[[0.01124462]\n",
      " [0.98588705]\n",
      " [0.49782565]\n",
      " [0.5024046 ]]\n",
      "[[0.49942052]\n",
      " [0.49971017]\n",
      " [0.4998055 ]\n",
      " [0.50009495]]\n",
      "[[0.]\n",
      " [0.]\n",
      " [0.]\n",
      " [0.]]\n",
      "[[-0.9584775]\n",
      " [-0.9996237]\n",
      " [ 0.9940943]\n",
      " [-0.984931 ]]\n",
      "[[0.]\n",
      " [0.]\n",
      " [0.]\n",
      " [0.]]\n",
      "[[0.33518714]\n",
      " [0.33518714]\n",
      " [2.1330478 ]\n",
      " [0.33518714]]\n",
      "[[0.]\n",
      " [0.]\n",
      " [0.]\n",
      " [0.]]\n",
      "[[0.]\n",
      " [0.]\n",
      " [0.]\n",
      " [0.]]\n",
      "[[0.9961593 ]\n",
      " [0.9961593 ]\n",
      " [0.9961593 ]\n",
      " [0.00141811]]\n",
      "[[-0.1430268 ]\n",
      " [ 0.99455374]\n",
      " [ 0.9956537 ]\n",
      " [-0.16699934]]\n",
      "[[0.5404774]\n",
      " [0.5404774]\n",
      " [0.5404774]\n",
      " [0.5404774]]\n",
      "[[0.00528279]\n",
      " [0.9977174 ]\n",
      " [0.9974042 ]\n",
      " [0.9987482 ]]\n",
      "[[-0.00901058]\n",
      " [ 0.7666583 ]\n",
      " [ 0.53230053]\n",
      " [ 0.54934627]]\n",
      "[[-0.05214401]\n",
      " [ 0.98608017]\n",
      " [ 0.9857899 ]\n",
      " [ 0.9914724 ]]\n",
      "[[3.408225 ]\n",
      " [1.1848016]\n",
      " [1.1847439]\n",
      " [0.       ]]\n",
      "[[-0.41040447]\n",
      " [-0.96770096]\n",
      " [ 0.9833059 ]\n",
      " [-0.6077151 ]]\n",
      "[[0.66500074]\n",
      " [0.66500074]\n",
      " [0.66500074]\n",
      " [0.00227216]]\n",
      "[[0.       ]\n",
      " [1.3965698]\n",
      " [1.7144065]\n",
      " [3.1109762]]\n",
      "[[-0.3201068 ]\n",
      " [ 0.9970657 ]\n",
      " [-0.993583  ]\n",
      " [-0.28012586]]\n",
      "[[0.        ]\n",
      " [1.0186256 ]\n",
      " [0.93999535]\n",
      " [0.94190496]]\n",
      "[[0.00875756]\n",
      " [0.49655256]\n",
      " [0.99244905]\n",
      " [0.502482  ]]\n",
      "[[-0.45811388]\n",
      " [ 0.9939492 ]\n",
      " [ 0.9939057 ]\n",
      " [-0.58173704]]\n",
      "[[0.00602779]\n",
      " [0.99776924]\n",
      " [0.9981011 ]\n",
      " [0.99919057]]\n",
      "[[0.02846711]\n",
      " [0.8766137 ]\n",
      " [0.9612596 ]\n",
      " [0.89919895]]\n",
      "[[0.       ]\n",
      " [0.       ]\n",
      " [2.3494358]\n",
      " [0.       ]]\n",
      "[[0.99542445]\n",
      " [0.99542445]\n",
      " [0.99542445]\n",
      " [0.00144646]]\n",
      "[[0.00157318]\n",
      " [0.9995197 ]\n",
      " [0.94253826]\n",
      " [0.9437429 ]]\n",
      "[[0.08451287]\n",
      " [0.9945892 ]\n",
      " [0.99381095]\n",
      " [0.99513954]]\n",
      "[[0.       ]\n",
      " [1.9000764]\n",
      " [0.       ]\n",
      " [0.       ]]\n",
      "[[0.]\n",
      " [0.]\n",
      " [0.]\n",
      " [0.]]\n",
      "[[0.00249636]\n",
      " [0.49918428]\n",
      " [0.9962303 ]\n",
      " [0.50036734]]\n",
      "[[0.08236753]\n",
      " [0.9935968 ]\n",
      " [0.827792  ]\n",
      " [0.83713925]]\n",
      "[[0.       ]\n",
      " [1.0621802]\n",
      " [0.       ]\n",
      " [0.       ]]\n",
      "[[0.       ]\n",
      " [1.0230476]\n",
      " [0.       ]\n",
      " [0.       ]]\n",
      "[[0.0119352 ]\n",
      " [0.99310255]\n",
      " [0.9937985 ]\n",
      " [0.01118127]]\n"
     ]
    }
   ],
   "source": [
    "from random import randrange\n",
    "while not check_solution(model.predict(X),y):\n",
    "    model = keras.models.Sequential()\n",
    "    #warstwa wejściowa\n",
    "    model.add(tf.keras.layers.Flatten(input_dim = 2))\n",
    "    #jedna warstwa ukryta\n",
    "    model.add(tf.keras.layers.Dense(2,input_dim = 2,  activation=act[randrange(len(act))], use_bias=True))\n",
    "    #warstwa wyjściowa\n",
    "    model.add(tf.keras.layers.Dense(1, activation=act[randrange(len(act))], use_bias=True))\n",
    "    model.compile(loss=loss_f[randrange(len(loss_f))], optimizer=tf.keras.optimizers.Adam(learning_rate=0.1))\n",
    "    model.fit(X, y, epochs=100, verbose=False)        \n",
    "    print(model.predict(X))"
   ]
  },
  {
   "cell_type": "code",
   "execution_count": 28,
   "id": "26d6d525",
   "metadata": {},
   "outputs": [
    {
     "data": {
      "text/plain": [
       "array([[0.0119352 ],\n",
       "       [0.99310255],\n",
       "       [0.9937985 ],\n",
       "       [0.01118127]], dtype=float32)"
      ]
     },
     "execution_count": 28,
     "metadata": {},
     "output_type": "execute_result"
    }
   ],
   "source": [
    "model.predict(X)"
   ]
  },
  {
   "cell_type": "code",
   "execution_count": 29,
   "id": "21fbdd17",
   "metadata": {},
   "outputs": [],
   "source": [
    "mlp_xor_weights = model.get_weights()"
   ]
  },
  {
   "cell_type": "code",
   "execution_count": 31,
   "id": "9617eb16",
   "metadata": {},
   "outputs": [
    {
     "name": "stdout",
     "output_type": "stream",
     "text": [
      "[array([[ 3.7089102, -4.885564 ],\n",
      "       [ 3.6278281, -4.0553427]], dtype=float32), array([-5.413217 ,  2.0862062], dtype=float32), array([[-5.066076],\n",
      "       [-5.003061]], dtype=float32), array([-4.6309714], dtype=float32)]\n"
     ]
    }
   ],
   "source": [
    "print(mlp_xor_weights)"
   ]
  },
  {
   "cell_type": "code",
   "execution_count": 32,
   "id": "5d714092",
   "metadata": {},
   "outputs": [],
   "source": [
    "fileObject = open(\"mlp_xor_weights.pkl\", 'wb')\n",
    "pkl.dump(mlp_xor_weights, fileObject)\n",
    "fileObject.close()"
   ]
  },
  {
   "cell_type": "code",
   "execution_count": null,
   "id": "f5eef1db",
   "metadata": {},
   "outputs": [],
   "source": []
  }
 ],
 "metadata": {
  "kernelspec": {
   "display_name": "Python 3 (ipykernel)",
   "language": "python",
   "name": "python3"
  },
  "language_info": {
   "codemirror_mode": {
    "name": "ipython",
    "version": 3
   },
   "file_extension": ".py",
   "mimetype": "text/x-python",
   "name": "python",
   "nbconvert_exporter": "python",
   "pygments_lexer": "ipython3",
   "version": "3.9.7"
  }
 },
 "nbformat": 4,
 "nbformat_minor": 5
}
