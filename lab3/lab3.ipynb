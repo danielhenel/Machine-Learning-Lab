{
 "cells": [
  {
   "cell_type": "code",
   "execution_count": 1,
   "id": "c449010a",
   "metadata": {},
   "outputs": [
    {
     "data": {
      "text/plain": [
       "<AxesSubplot:xlabel='x', ylabel='y'>"
      ]
     },
     "execution_count": 1,
     "metadata": {},
     "output_type": "execute_result"
    },
    {
     "data": {
      "image/png": "[encoded data removed]",
      "text/plain": [
       "<Figure size 432x288 with 1 Axes>"
      ]
     },
     "metadata": {
      "needs_background": "light"
     },
     "output_type": "display_data"
    }
   ],
   "source": [
    "import numpy as np\n",
    "import pandas as pd\n",
    "import matplotlib.pyplot as plt\n",
    "import sklearn.neighbors\n",
    "from sklearn.metrics import mean_squared_error\n",
    "size = 300\n",
    "X = np.random.rand(size)*5-2.5\n",
    "w4, w3, w2, w1, w0 = 1, 2, 1, -4, 2\n",
    "y = w4*(X**4) + w3*(X**3) + w2*(X**2) + w1*X + w0 + np.random.randn(size)*8-4\n",
    "df = pd.DataFrame({'x': X, 'y': y})\n",
    "df.to_csv('dane_do_regresji.csv',index=None)\n",
    "df.plot.scatter(x='x',y='y')"
   ]
  },
  {
   "cell_type": "code",
   "execution_count": 2,
   "id": "79c4c95e",
   "metadata": {},
   "outputs": [],
   "source": [
    "#wynikowy dataframe"
   ]
  },
  {
   "cell_type": "code",
   "execution_count": 3,
   "id": "341ccefb",
   "metadata": {},
   "outputs": [],
   "source": [
    "result = pd.DataFrame({'train_mse':np.zeros(7),'test_mse':np.zeros(7)}, index = ['lin_reg','knn_3_reg','knn_5_reg',\n",
    "                                     'poly_2_reg','poly_3_reg','poly_4_reg','poly_5_reg'] )"
   ]
  },
  {
   "cell_type": "code",
   "execution_count": 4,
   "id": "a0590a1b",
   "metadata": {},
   "outputs": [
    {
     "name": "stdout",
     "output_type": "stream",
     "text": [
      "            x          y\n",
      "0   -0.725697   5.825234\n",
      "1    1.266361   7.907711\n",
      "2    1.799673  21.850195\n",
      "3    1.956161  19.427829\n",
      "4    1.179245  -7.677354\n",
      "..        ...        ...\n",
      "295 -0.383144 -15.827684\n",
      "296 -2.441829  41.225833\n",
      "297  0.814543   4.088380\n",
      "298  1.007036  15.030144\n",
      "299  2.389094  53.815873\n",
      "\n",
      "[300 rows x 2 columns]\n"
     ]
    }
   ],
   "source": [
    "print(df)"
   ]
  },
  {
   "cell_type": "code",
   "execution_count": 5,
   "id": "af2439e9",
   "metadata": {},
   "outputs": [],
   "source": [
    "#losowy podział\n",
    "shuffle_index = np.random.permutation(size)\n",
    "df = df.reindex(index=shuffle_index)"
   ]
  },
  {
   "cell_type": "code",
   "execution_count": 6,
   "id": "48838893",
   "metadata": {},
   "outputs": [],
   "source": [
    "train, test = df[:240], df[240:]"
   ]
  },
  {
   "cell_type": "code",
   "execution_count": 7,
   "id": "4848b086",
   "metadata": {},
   "outputs": [],
   "source": [
    "#REGRESJA LINIOWA"
   ]
  },
  {
   "cell_type": "code",
   "execution_count": 8,
   "id": "048b2e96",
   "metadata": {},
   "outputs": [
    {
     "name": "stdout",
     "output_type": "stream",
     "text": [
      "7.6108890330032954 [4.45198674] \n",
      "\n"
     ]
    }
   ],
   "source": [
    "from sklearn.linear_model import LinearRegression\n",
    "lin_reg = LinearRegression()\n",
    "lin_reg.fit(train['x'].values.reshape(-1,1), train['y'].values)\n",
    "print(lin_reg.intercept_, lin_reg.coef_, \"\\n\")"
   ]
  },
  {
   "cell_type": "code",
   "execution_count": 9,
   "id": "aaa1c022",
   "metadata": {},
   "outputs": [],
   "source": [
    "#wykres dla danych testujących"
   ]
  },
  {
   "cell_type": "code",
   "execution_count": 10,
   "id": "f2abc478",
   "metadata": {},
   "outputs": [
    {
     "name": "stdout",
     "output_type": "stream",
     "text": [
      "            x          y\n",
      "292 -2.452543  16.956991\n",
      "212 -2.383270  21.183434\n",
      "60  -2.325327  24.412298\n",
      "218 -2.321500  26.912965\n",
      "149 -2.179436  23.688848\n",
      "46  -2.054415  16.026561\n",
      "13  -1.926437  21.956356\n",
      "38  -1.731678   7.776211\n",
      "86  -1.667379 -23.749067\n",
      "269 -1.588871   9.622496\n",
      "164 -1.546592  -0.058219\n",
      "154 -1.482093   6.900655\n",
      "178 -1.413007   6.762425\n",
      "129 -1.398643   5.435218\n",
      "62  -1.225977   9.991361\n",
      "276 -1.152978   4.960133\n",
      "98  -1.146827  -9.856134\n",
      "113 -1.018313 -12.882810\n",
      "282 -0.941359  12.140582\n",
      "73  -0.941020   3.334300\n",
      "285 -0.882434  -3.482418\n",
      "71  -0.806470 -12.490495\n",
      "27  -0.738632   1.173333\n",
      "65  -0.639309   9.595813\n",
      "121 -0.603534  10.505237\n",
      "116 -0.574761  -5.467726\n",
      "93  -0.565951   1.773912\n",
      "188 -0.432665   2.139160\n",
      "295 -0.383144 -15.827684\n",
      "194 -0.374668  13.825746\n",
      "206 -0.354501 -10.985616\n",
      "118 -0.060541   2.013248\n",
      "53  -0.032826  -3.719979\n",
      "266 -0.030149 -25.714403\n",
      "201  0.180451 -13.137691\n",
      "41   0.333564 -14.501340\n",
      "246  0.359303   3.414634\n",
      "196  0.389076  -6.310656\n",
      "159  0.566574 -16.104400\n",
      "33   0.691772  -5.803255\n",
      "227  0.702060   7.761482\n",
      "297  0.814543   4.088380\n",
      "187  0.816804   2.798741\n",
      "51   0.948512  -0.527703\n",
      "77   0.958286   0.340760\n",
      "82   0.964002   5.302190\n",
      "152  1.017758   6.094832\n",
      "190  1.091839  15.002713\n",
      "43   1.185894   4.440927\n",
      "267  1.198158  10.163350\n",
      "18   1.278698   0.007824\n",
      "48   1.577939  10.570248\n",
      "263  1.611632  13.813849\n",
      "271  1.634615  -4.342951\n",
      "128  1.890771  20.886276\n",
      "242  2.033944  26.683729\n",
      "275  2.124709  37.359312\n",
      "56   2.136715  29.796403\n",
      "157  2.152255  32.465118\n",
      "64   2.356954  55.543675\n"
     ]
    },
    {
     "data": {
      "text/plain": [
       "[<matplotlib.lines.Line2D at 0x1b5adf5ce80>]"
      ]
     },
     "execution_count": 10,
     "metadata": {},
     "output_type": "execute_result"
    },
    {
     "data": {
      "image/png": "[encoded data removed]",
      "text/plain": [
       "<Figure size 432x288 with 1 Axes>"
      ]
     },
     "metadata": {
      "needs_background": "light"
     },
     "output_type": "display_data"
    }
   ],
   "source": [
    "#dane testujące\n",
    "test = test.sort_values('x')\n",
    "print(test)\n",
    "plt.plot(test['x'].values,test['y'].values,'ro')\n",
    "#predykcja\n",
    "plt.plot(test['x'].values, lin_reg.predict(test['x'].values.reshape(-1,1)))"
   ]
  },
  {
   "cell_type": "code",
   "execution_count": 11,
   "id": "73df4158",
   "metadata": {},
   "outputs": [],
   "source": [
    "#MSE"
   ]
  },
  {
   "cell_type": "code",
   "execution_count": 12,
   "id": "7ff03856",
   "metadata": {},
   "outputs": [],
   "source": [
    "#dla danych uczących"
   ]
  },
  {
   "cell_type": "code",
   "execution_count": 13,
   "id": "c7868f04",
   "metadata": {},
   "outputs": [],
   "source": [
    "result.at['lin_reg','train_mse'] = mean_squared_error(train['y'].values, lin_reg.predict(train['x'].values.reshape(-1,1)))"
   ]
  },
  {
   "cell_type": "code",
   "execution_count": 14,
   "id": "bb210ca6",
   "metadata": {},
   "outputs": [],
   "source": [
    "#dla danych testujących"
   ]
  },
  {
   "cell_type": "code",
   "execution_count": 15,
   "id": "6939defb",
   "metadata": {},
   "outputs": [],
   "source": [
    "result.at['lin_reg','test_mse'] = mean_squared_error(test['y'].values, lin_reg.predict(test['x'].values.reshape(-1,1)))"
   ]
  },
  {
   "cell_type": "code",
   "execution_count": 16,
   "id": "f78108b6",
   "metadata": {},
   "outputs": [],
   "source": [
    "#KNN 3"
   ]
  },
  {
   "cell_type": "code",
   "execution_count": 17,
   "id": "ad7eb5d9",
   "metadata": {},
   "outputs": [
    {
     "data": {
      "text/plain": [
       "KNeighborsRegressor(n_neighbors=3)"
      ]
     },
     "execution_count": 17,
     "metadata": {},
     "output_type": "execute_result"
    }
   ],
   "source": [
    "knn_3_reg = sklearn.neighbors.KNeighborsRegressor(n_neighbors=3)\n",
    "knn_3_reg.fit(train['x'].values.reshape(-1,1), train['y'].values)"
   ]
  },
  {
   "cell_type": "code",
   "execution_count": 18,
   "id": "298bd6d1",
   "metadata": {},
   "outputs": [
    {
     "name": "stdout",
     "output_type": "stream",
     "text": [
      "            x          y\n",
      "292 -2.452543  16.956991\n",
      "212 -2.383270  21.183434\n",
      "60  -2.325327  24.412298\n",
      "218 -2.321500  26.912965\n",
      "149 -2.179436  23.688848\n",
      "46  -2.054415  16.026561\n",
      "13  -1.926437  21.956356\n",
      "38  -1.731678   7.776211\n",
      "86  -1.667379 -23.749067\n",
      "269 -1.588871   9.622496\n",
      "164 -1.546592  -0.058219\n",
      "154 -1.482093   6.900655\n",
      "178 -1.413007   6.762425\n",
      "129 -1.398643   5.435218\n",
      "62  -1.225977   9.991361\n",
      "276 -1.152978   4.960133\n",
      "98  -1.146827  -9.856134\n",
      "113 -1.018313 -12.882810\n",
      "282 -0.941359  12.140582\n",
      "73  -0.941020   3.334300\n",
      "285 -0.882434  -3.482418\n",
      "71  -0.806470 -12.490495\n",
      "27  -0.738632   1.173333\n",
      "65  -0.639309   9.595813\n",
      "121 -0.603534  10.505237\n",
      "116 -0.574761  -5.467726\n",
      "93  -0.565951   1.773912\n",
      "188 -0.432665   2.139160\n",
      "295 -0.383144 -15.827684\n",
      "194 -0.374668  13.825746\n",
      "206 -0.354501 -10.985616\n",
      "118 -0.060541   2.013248\n",
      "53  -0.032826  -3.719979\n",
      "266 -0.030149 -25.714403\n",
      "201  0.180451 -13.137691\n",
      "41   0.333564 -14.501340\n",
      "246  0.359303   3.414634\n",
      "196  0.389076  -6.310656\n",
      "159  0.566574 -16.104400\n",
      "33   0.691772  -5.803255\n",
      "227  0.702060   7.761482\n",
      "297  0.814543   4.088380\n",
      "187  0.816804   2.798741\n",
      "51   0.948512  -0.527703\n",
      "77   0.958286   0.340760\n",
      "82   0.964002   5.302190\n",
      "152  1.017758   6.094832\n",
      "190  1.091839  15.002713\n",
      "43   1.185894   4.440927\n",
      "267  1.198158  10.163350\n",
      "18   1.278698   0.007824\n",
      "48   1.577939  10.570248\n",
      "263  1.611632  13.813849\n",
      "271  1.634615  -4.342951\n",
      "128  1.890771  20.886276\n",
      "242  2.033944  26.683729\n",
      "275  2.124709  37.359312\n",
      "56   2.136715  29.796403\n",
      "157  2.152255  32.465118\n",
      "64   2.356954  55.543675\n"
     ]
    },
    {
     "data": {
      "text/plain": [
       "[<matplotlib.lines.Line2D at 0x1b5adfd8a30>]"
      ]
     },
     "execution_count": 18,
     "metadata": {},
     "output_type": "execute_result"
    },
    {
     "data": {
      "image/png": "[encoded data removed]",
      "text/plain": [
       "<Figure size 432x288 with 1 Axes>"
      ]
     },
     "metadata": {
      "needs_background": "light"
     },
     "output_type": "display_data"
    }
   ],
   "source": [
    "#wykres dla danych testujących\n",
    "#dane testujące\n",
    "test = test.sort_values('x')\n",
    "print(test)\n",
    "plt.plot(test['x'].values,test['y'].values,'ro')\n",
    "#predykcja\n",
    "plt.plot(test['x'].values,knn_3_reg.predict(test['x'].values.reshape(-1,1)))"
   ]
  },
  {
   "cell_type": "code",
   "execution_count": 19,
   "id": "29f65423",
   "metadata": {},
   "outputs": [],
   "source": [
    "#MSE"
   ]
  },
  {
   "cell_type": "code",
   "execution_count": 20,
   "id": "4eb62c6e",
   "metadata": {},
   "outputs": [],
   "source": [
    "#dla danych uczących"
   ]
  },
  {
   "cell_type": "code",
   "execution_count": 21,
   "id": "390f62f6",
   "metadata": {},
   "outputs": [],
   "source": [
    "result.at['knn_3_reg','train_mse'] = mean_squared_error(train['y'].values, knn_3_reg.predict(train['x'].values.reshape(-1,1)))"
   ]
  },
  {
   "cell_type": "code",
   "execution_count": 22,
   "id": "8607a530",
   "metadata": {},
   "outputs": [],
   "source": [
    "#dla danych testujących"
   ]
  },
  {
   "cell_type": "code",
   "execution_count": 23,
   "id": "1e7cbe7d",
   "metadata": {},
   "outputs": [],
   "source": [
    "result.at['knn_3_reg','test_mse'] = mean_squared_error(test['y'].values, knn_3_reg.predict(test['x'].values.reshape(-1,1)))"
   ]
  },
  {
   "cell_type": "code",
   "execution_count": 24,
   "id": "94149cbe",
   "metadata": {},
   "outputs": [],
   "source": [
    "#KNN 5"
   ]
  },
  {
   "cell_type": "code",
   "execution_count": 25,
   "id": "4218739a",
   "metadata": {},
   "outputs": [
    {
     "data": {
      "text/plain": [
       "KNeighborsRegressor()"
      ]
     },
     "execution_count": 25,
     "metadata": {},
     "output_type": "execute_result"
    }
   ],
   "source": [
    "knn_5_reg = sklearn.neighbors.KNeighborsRegressor(n_neighbors=5)\n",
    "knn_5_reg.fit(train['x'].values.reshape(-1,1), train['y'].values)"
   ]
  },
  {
   "cell_type": "code",
   "execution_count": 26,
   "id": "d69f9be4",
   "metadata": {},
   "outputs": [
    {
     "name": "stdout",
     "output_type": "stream",
     "text": [
      "            x          y\n",
      "292 -2.452543  16.956991\n",
      "212 -2.383270  21.183434\n",
      "60  -2.325327  24.412298\n",
      "218 -2.321500  26.912965\n",
      "149 -2.179436  23.688848\n",
      "46  -2.054415  16.026561\n",
      "13  -1.926437  21.956356\n",
      "38  -1.731678   7.776211\n",
      "86  -1.667379 -23.749067\n",
      "269 -1.588871   9.622496\n",
      "164 -1.546592  -0.058219\n",
      "154 -1.482093   6.900655\n",
      "178 -1.413007   6.762425\n",
      "129 -1.398643   5.435218\n",
      "62  -1.225977   9.991361\n",
      "276 -1.152978   4.960133\n",
      "98  -1.146827  -9.856134\n",
      "113 -1.018313 -12.882810\n",
      "282 -0.941359  12.140582\n",
      "73  -0.941020   3.334300\n",
      "285 -0.882434  -3.482418\n",
      "71  -0.806470 -12.490495\n",
      "27  -0.738632   1.173333\n",
      "65  -0.639309   9.595813\n",
      "121 -0.603534  10.505237\n",
      "116 -0.574761  -5.467726\n",
      "93  -0.565951   1.773912\n",
      "188 -0.432665   2.139160\n",
      "295 -0.383144 -15.827684\n",
      "194 -0.374668  13.825746\n",
      "206 -0.354501 -10.985616\n",
      "118 -0.060541   2.013248\n",
      "53  -0.032826  -3.719979\n",
      "266 -0.030149 -25.714403\n",
      "201  0.180451 -13.137691\n",
      "41   0.333564 -14.501340\n",
      "246  0.359303   3.414634\n",
      "196  0.389076  -6.310656\n",
      "159  0.566574 -16.104400\n",
      "33   0.691772  -5.803255\n",
      "227  0.702060   7.761482\n",
      "297  0.814543   4.088380\n",
      "187  0.816804   2.798741\n",
      "51   0.948512  -0.527703\n",
      "77   0.958286   0.340760\n",
      "82   0.964002   5.302190\n",
      "152  1.017758   6.094832\n",
      "190  1.091839  15.002713\n",
      "43   1.185894   4.440927\n",
      "267  1.198158  10.163350\n",
      "18   1.278698   0.007824\n",
      "48   1.577939  10.570248\n",
      "263  1.611632  13.813849\n",
      "271  1.634615  -4.342951\n",
      "128  1.890771  20.886276\n",
      "242  2.033944  26.683729\n",
      "275  2.124709  37.359312\n",
      "56   2.136715  29.796403\n",
      "157  2.152255  32.465118\n",
      "64   2.356954  55.543675\n"
     ]
    },
    {
     "data": {
      "text/plain": [
       "[<matplotlib.lines.Line2D at 0x1b5ae05ffd0>]"
      ]
     },
     "execution_count": 26,
     "metadata": {},
     "output_type": "execute_result"
    },
    {
     "data": {
      "image/png": "[encoded data removed]",
      "text/plain": [
       "<Figure size 432x288 with 1 Axes>"
      ]
     },
     "metadata": {
      "needs_background": "light"
     },
     "output_type": "display_data"
    }
   ],
   "source": [
    "#wykres dla danych testujących\n",
    "#dane testujące\n",
    "test = test.sort_values('x')\n",
    "print(test)\n",
    "plt.plot(test['x'].values,test['y'].values,'ro')\n",
    "#predykcja\n",
    "plt.plot(test['x'].values,knn_5_reg.predict(test['x'].values.reshape(-1,1)))"
   ]
  },
  {
   "cell_type": "code",
   "execution_count": 27,
   "id": "6cbc6f8d",
   "metadata": {},
   "outputs": [],
   "source": [
    "#MSE"
   ]
  },
  {
   "cell_type": "code",
   "execution_count": 28,
   "id": "3262bf47",
   "metadata": {},
   "outputs": [],
   "source": [
    "#dla danych uczących"
   ]
  },
  {
   "cell_type": "code",
   "execution_count": 29,
   "id": "cee0d682",
   "metadata": {},
   "outputs": [],
   "source": [
    "result.at['knn_5_reg','train_mse'] = mean_squared_error(train['y'].values, knn_5_reg.predict(train['x'].values.reshape(-1,1)))"
   ]
  },
  {
   "cell_type": "code",
   "execution_count": 30,
   "id": "e926f454",
   "metadata": {},
   "outputs": [],
   "source": [
    "#dla danych testujących"
   ]
  },
  {
   "cell_type": "code",
   "execution_count": 31,
   "id": "d16682e3",
   "metadata": {},
   "outputs": [],
   "source": [
    "result.at['knn_5_reg','test_mse'] = mean_squared_error(test['y'].values, knn_5_reg.predict(test['x'].values.reshape(-1,1)))"
   ]
  },
  {
   "cell_type": "code",
   "execution_count": 32,
   "id": "b4fd9892",
   "metadata": {},
   "outputs": [],
   "source": [
    "#POLYNOMIAL REGRESSION - degree: 2"
   ]
  },
  {
   "cell_type": "code",
   "execution_count": 33,
   "id": "1d184ceb",
   "metadata": {},
   "outputs": [
    {
     "name": "stdout",
     "output_type": "stream",
     "text": [
      "-0.7256973682369989 [0.54378699 0.29570429]\n"
     ]
    },
    {
     "data": {
      "text/plain": [
       "LinearRegression()"
      ]
     },
     "execution_count": 33,
     "metadata": {},
     "output_type": "execute_result"
    }
   ],
   "source": [
    "from sklearn.preprocessing import PolynomialFeatures\n",
    "poly_feature_2 = PolynomialFeatures(degree=2, include_bias=False)\n",
    "X_poly = poly_feature_2.fit_transform(train['x'].values.reshape(-1,1))\n",
    "print(X[0], X_poly[0])\n",
    "poly_2_reg = LinearRegression()\n",
    "poly_2_reg.fit(X_poly, train['y'].values)"
   ]
  },
  {
   "cell_type": "code",
   "execution_count": 34,
   "id": "0d68cd02",
   "metadata": {},
   "outputs": [
    {
     "name": "stdout",
     "output_type": "stream",
     "text": [
      "            x          y\n",
      "292 -2.452543  16.956991\n",
      "212 -2.383270  21.183434\n",
      "60  -2.325327  24.412298\n",
      "218 -2.321500  26.912965\n",
      "149 -2.179436  23.688848\n",
      "46  -2.054415  16.026561\n",
      "13  -1.926437  21.956356\n",
      "38  -1.731678   7.776211\n",
      "86  -1.667379 -23.749067\n",
      "269 -1.588871   9.622496\n",
      "164 -1.546592  -0.058219\n",
      "154 -1.482093   6.900655\n",
      "178 -1.413007   6.762425\n",
      "129 -1.398643   5.435218\n",
      "62  -1.225977   9.991361\n",
      "276 -1.152978   4.960133\n",
      "98  -1.146827  -9.856134\n",
      "113 -1.018313 -12.882810\n",
      "282 -0.941359  12.140582\n",
      "73  -0.941020   3.334300\n",
      "285 -0.882434  -3.482418\n",
      "71  -0.806470 -12.490495\n",
      "27  -0.738632   1.173333\n",
      "65  -0.639309   9.595813\n",
      "121 -0.603534  10.505237\n",
      "116 -0.574761  -5.467726\n",
      "93  -0.565951   1.773912\n",
      "188 -0.432665   2.139160\n",
      "295 -0.383144 -15.827684\n",
      "194 -0.374668  13.825746\n",
      "206 -0.354501 -10.985616\n",
      "118 -0.060541   2.013248\n",
      "53  -0.032826  -3.719979\n",
      "266 -0.030149 -25.714403\n",
      "201  0.180451 -13.137691\n",
      "41   0.333564 -14.501340\n",
      "246  0.359303   3.414634\n",
      "196  0.389076  -6.310656\n",
      "159  0.566574 -16.104400\n",
      "33   0.691772  -5.803255\n",
      "227  0.702060   7.761482\n",
      "297  0.814543   4.088380\n",
      "187  0.816804   2.798741\n",
      "51   0.948512  -0.527703\n",
      "77   0.958286   0.340760\n",
      "82   0.964002   5.302190\n",
      "152  1.017758   6.094832\n",
      "190  1.091839  15.002713\n",
      "43   1.185894   4.440927\n",
      "267  1.198158  10.163350\n",
      "18   1.278698   0.007824\n",
      "48   1.577939  10.570248\n",
      "263  1.611632  13.813849\n",
      "271  1.634615  -4.342951\n",
      "128  1.890771  20.886276\n",
      "242  2.033944  26.683729\n",
      "275  2.124709  37.359312\n",
      "56   2.136715  29.796403\n",
      "157  2.152255  32.465118\n",
      "64   2.356954  55.543675\n"
     ]
    },
    {
     "data": {
      "text/plain": [
       "[<matplotlib.lines.Line2D at 0x1b5ae0e94c0>]"
      ]
     },
     "execution_count": 34,
     "metadata": {},
     "output_type": "execute_result"
    },
    {
     "data": {
      "image/png": "[encoded data removed]",
      "text/plain": [
       "<Figure size 432x288 with 1 Axes>"
      ]
     },
     "metadata": {
      "needs_background": "light"
     },
     "output_type": "display_data"
    }
   ],
   "source": [
    "#wykres dla danych testujących\n",
    "#dane testujące\n",
    "test = test.sort_values('x')\n",
    "print(test)\n",
    "plt.plot(test['x'].values,test['y'].values,'ro')\n",
    "#predykcja\n",
    "plt.plot(test['x'].values,poly_2_reg.predict(poly_feature_2.fit_transform(test['x'].values.reshape(-1,1))))"
   ]
  },
  {
   "cell_type": "code",
   "execution_count": 35,
   "id": "57c1bc2d",
   "metadata": {},
   "outputs": [],
   "source": [
    "#MSE"
   ]
  },
  {
   "cell_type": "code",
   "execution_count": 36,
   "id": "babb6793",
   "metadata": {},
   "outputs": [],
   "source": [
    "#dla danych uczących"
   ]
  },
  {
   "cell_type": "code",
   "execution_count": 37,
   "id": "9b6396d8",
   "metadata": {},
   "outputs": [],
   "source": [
    "result.at['poly_2_reg','train_mse'] = mean_squared_error(train['y'].values, poly_2_reg.predict(poly_feature_2.fit_transform(train['x'].values.reshape(-1,1))))"
   ]
  },
  {
   "cell_type": "code",
   "execution_count": 38,
   "id": "209f01b7",
   "metadata": {},
   "outputs": [],
   "source": [
    "#dla danych testujących"
   ]
  },
  {
   "cell_type": "code",
   "execution_count": 39,
   "id": "76000234",
   "metadata": {},
   "outputs": [],
   "source": [
    "result.at['poly_2_reg','test_mse'] = mean_squared_error(test['y'].values, poly_2_reg.predict(poly_feature_2.fit_transform(test['x'].values.reshape(-1,1))))"
   ]
  },
  {
   "cell_type": "code",
   "execution_count": 40,
   "id": "ac6bc553",
   "metadata": {},
   "outputs": [],
   "source": [
    "#POLYNOMIAL REGRESSION - degree: 3"
   ]
  },
  {
   "cell_type": "code",
   "execution_count": 41,
   "id": "fc85c59a",
   "metadata": {},
   "outputs": [
    {
     "name": "stdout",
     "output_type": "stream",
     "text": [
      "-0.7256973682369989 [0.54378699 0.29570429 0.16080014]\n"
     ]
    },
    {
     "data": {
      "text/plain": [
       "LinearRegression()"
      ]
     },
     "execution_count": 41,
     "metadata": {},
     "output_type": "execute_result"
    }
   ],
   "source": [
    "poly_feature_3 = PolynomialFeatures(degree=3, include_bias=False)\n",
    "X_poly = poly_feature_3.fit_transform(train['x'].values.reshape(-1,1))\n",
    "print(X[0], X_poly[0])\n",
    "poly_3_reg = LinearRegression()\n",
    "poly_3_reg.fit(X_poly, train['y'].values)"
   ]
  },
  {
   "cell_type": "code",
   "execution_count": 42,
   "id": "c898a101",
   "metadata": {},
   "outputs": [
    {
     "name": "stdout",
     "output_type": "stream",
     "text": [
      "            x          y\n",
      "292 -2.452543  16.956991\n",
      "212 -2.383270  21.183434\n",
      "60  -2.325327  24.412298\n",
      "218 -2.321500  26.912965\n",
      "149 -2.179436  23.688848\n",
      "46  -2.054415  16.026561\n",
      "13  -1.926437  21.956356\n",
      "38  -1.731678   7.776211\n",
      "86  -1.667379 -23.749067\n",
      "269 -1.588871   9.622496\n",
      "164 -1.546592  -0.058219\n",
      "154 -1.482093   6.900655\n",
      "178 -1.413007   6.762425\n",
      "129 -1.398643   5.435218\n",
      "62  -1.225977   9.991361\n",
      "276 -1.152978   4.960133\n",
      "98  -1.146827  -9.856134\n",
      "113 -1.018313 -12.882810\n",
      "282 -0.941359  12.140582\n",
      "73  -0.941020   3.334300\n",
      "285 -0.882434  -3.482418\n",
      "71  -0.806470 -12.490495\n",
      "27  -0.738632   1.173333\n",
      "65  -0.639309   9.595813\n",
      "121 -0.603534  10.505237\n",
      "116 -0.574761  -5.467726\n",
      "93  -0.565951   1.773912\n",
      "188 -0.432665   2.139160\n",
      "295 -0.383144 -15.827684\n",
      "194 -0.374668  13.825746\n",
      "206 -0.354501 -10.985616\n",
      "118 -0.060541   2.013248\n",
      "53  -0.032826  -3.719979\n",
      "266 -0.030149 -25.714403\n",
      "201  0.180451 -13.137691\n",
      "41   0.333564 -14.501340\n",
      "246  0.359303   3.414634\n",
      "196  0.389076  -6.310656\n",
      "159  0.566574 -16.104400\n",
      "33   0.691772  -5.803255\n",
      "227  0.702060   7.761482\n",
      "297  0.814543   4.088380\n",
      "187  0.816804   2.798741\n",
      "51   0.948512  -0.527703\n",
      "77   0.958286   0.340760\n",
      "82   0.964002   5.302190\n",
      "152  1.017758   6.094832\n",
      "190  1.091839  15.002713\n",
      "43   1.185894   4.440927\n",
      "267  1.198158  10.163350\n",
      "18   1.278698   0.007824\n",
      "48   1.577939  10.570248\n",
      "263  1.611632  13.813849\n",
      "271  1.634615  -4.342951\n",
      "128  1.890771  20.886276\n",
      "242  2.033944  26.683729\n",
      "275  2.124709  37.359312\n",
      "56   2.136715  29.796403\n",
      "157  2.152255  32.465118\n",
      "64   2.356954  55.543675\n"
     ]
    },
    {
     "data": {
      "text/plain": [
       "[<matplotlib.lines.Line2D at 0x1b5ae14bcd0>]"
      ]
     },
     "execution_count": 42,
     "metadata": {},
     "output_type": "execute_result"
    },
    {
     "data": {
      "image/png": "[encoded data removed]",
      "text/plain": [
       "<Figure size 432x288 with 1 Axes>"
      ]
     },
     "metadata": {
      "needs_background": "light"
     },
     "output_type": "display_data"
    }
   ],
   "source": [
    "#wykres dla danych testujących\n",
    "#dane testujące\n",
    "test = test.sort_values('x')\n",
    "print(test)\n",
    "plt.plot(test['x'].values,test['y'].values,'ro')\n",
    "#predykcja\n",
    "plt.plot(test['x'].values,poly_3_reg.predict(poly_feature_3.fit_transform(test['x'].values.reshape(-1,1))))"
   ]
  },
  {
   "cell_type": "code",
   "execution_count": 43,
   "id": "0e053846",
   "metadata": {},
   "outputs": [],
   "source": [
    "#MSE"
   ]
  },
  {
   "cell_type": "code",
   "execution_count": 44,
   "id": "d9983b0e",
   "metadata": {},
   "outputs": [],
   "source": [
    "#dla danych uczących"
   ]
  },
  {
   "cell_type": "code",
   "execution_count": 45,
   "id": "762f338c",
   "metadata": {},
   "outputs": [],
   "source": [
    "result.at['poly_3_reg','train_mse'] = mean_squared_error(train['y'].values, poly_3_reg.predict(poly_feature_3.fit_transform(train['x'].values.reshape(-1,1))))"
   ]
  },
  {
   "cell_type": "code",
   "execution_count": 46,
   "id": "51638fd7",
   "metadata": {},
   "outputs": [],
   "source": [
    "#dla danych testujących"
   ]
  },
  {
   "cell_type": "code",
   "execution_count": 47,
   "id": "b1a291a0",
   "metadata": {},
   "outputs": [],
   "source": [
    "result.at['poly_3_reg','test_mse'] = mean_squared_error(test['y'].values, poly_3_reg.predict(poly_feature_3.fit_transform(test['x'].values.reshape(-1,1))))"
   ]
  },
  {
   "cell_type": "code",
   "execution_count": 48,
   "id": "65ef486e",
   "metadata": {},
   "outputs": [],
   "source": [
    "#POLYNOMIAL REGRESSION - degree: 4"
   ]
  },
  {
   "cell_type": "code",
   "execution_count": 49,
   "id": "10b1c26d",
   "metadata": {},
   "outputs": [
    {
     "name": "stdout",
     "output_type": "stream",
     "text": [
      "-0.7256973682369989 [0.54378699 0.29570429 0.16080014 0.08744103]\n"
     ]
    },
    {
     "data": {
      "text/plain": [
       "LinearRegression()"
      ]
     },
     "execution_count": 49,
     "metadata": {},
     "output_type": "execute_result"
    }
   ],
   "source": [
    "poly_feature_4 = PolynomialFeatures(degree=4, include_bias=False)\n",
    "X_poly = poly_feature_4.fit_transform(train['x'].values.reshape(-1,1))\n",
    "print(X[0], X_poly[0])\n",
    "poly_4_reg = LinearRegression()\n",
    "poly_4_reg.fit(X_poly, train['y'].values)"
   ]
  },
  {
   "cell_type": "code",
   "execution_count": 50,
   "id": "1ced522f",
   "metadata": {},
   "outputs": [
    {
     "name": "stdout",
     "output_type": "stream",
     "text": [
      "            x          y\n",
      "292 -2.452543  16.956991\n",
      "212 -2.383270  21.183434\n",
      "60  -2.325327  24.412298\n",
      "218 -2.321500  26.912965\n",
      "149 -2.179436  23.688848\n",
      "46  -2.054415  16.026561\n",
      "13  -1.926437  21.956356\n",
      "38  -1.731678   7.776211\n",
      "86  -1.667379 -23.749067\n",
      "269 -1.588871   9.622496\n",
      "164 -1.546592  -0.058219\n",
      "154 -1.482093   6.900655\n",
      "178 -1.413007   6.762425\n",
      "129 -1.398643   5.435218\n",
      "62  -1.225977   9.991361\n",
      "276 -1.152978   4.960133\n",
      "98  -1.146827  -9.856134\n",
      "113 -1.018313 -12.882810\n",
      "282 -0.941359  12.140582\n",
      "73  -0.941020   3.334300\n",
      "285 -0.882434  -3.482418\n",
      "71  -0.806470 -12.490495\n",
      "27  -0.738632   1.173333\n",
      "65  -0.639309   9.595813\n",
      "121 -0.603534  10.505237\n",
      "116 -0.574761  -5.467726\n",
      "93  -0.565951   1.773912\n",
      "188 -0.432665   2.139160\n",
      "295 -0.383144 -15.827684\n",
      "194 -0.374668  13.825746\n",
      "206 -0.354501 -10.985616\n",
      "118 -0.060541   2.013248\n",
      "53  -0.032826  -3.719979\n",
      "266 -0.030149 -25.714403\n",
      "201  0.180451 -13.137691\n",
      "41   0.333564 -14.501340\n",
      "246  0.359303   3.414634\n",
      "196  0.389076  -6.310656\n",
      "159  0.566574 -16.104400\n",
      "33   0.691772  -5.803255\n",
      "227  0.702060   7.761482\n",
      "297  0.814543   4.088380\n",
      "187  0.816804   2.798741\n",
      "51   0.948512  -0.527703\n",
      "77   0.958286   0.340760\n",
      "82   0.964002   5.302190\n",
      "152  1.017758   6.094832\n",
      "190  1.091839  15.002713\n",
      "43   1.185894   4.440927\n",
      "267  1.198158  10.163350\n",
      "18   1.278698   0.007824\n",
      "48   1.577939  10.570248\n",
      "263  1.611632  13.813849\n",
      "271  1.634615  -4.342951\n",
      "128  1.890771  20.886276\n",
      "242  2.033944  26.683729\n",
      "275  2.124709  37.359312\n",
      "56   2.136715  29.796403\n",
      "157  2.152255  32.465118\n",
      "64   2.356954  55.543675\n"
     ]
    },
    {
     "data": {
      "text/plain": [
       "[<matplotlib.lines.Line2D at 0x1b5ae1c17f0>]"
      ]
     },
     "execution_count": 50,
     "metadata": {},
     "output_type": "execute_result"
    },
    {
     "data": {
      "image/png": "[encoded data removed]",
      "text/plain": [
       "<Figure size 432x288 with 1 Axes>"
      ]
     },
     "metadata": {
      "needs_background": "light"
     },
     "output_type": "display_data"
    }
   ],
   "source": [
    "#wykres dla danych testujących\n",
    "#dane testujące\n",
    "test = test.sort_values('x')\n",
    "print(test)\n",
    "plt.plot(test['x'].values,test['y'].values,'ro')\n",
    "#predykcja\n",
    "plt.plot(test['x'].values,poly_4_reg.predict(poly_feature_4.fit_transform(test['x'].values.reshape(-1,1))))"
   ]
  },
  {
   "cell_type": "code",
   "execution_count": 51,
   "id": "b8fa686d",
   "metadata": {},
   "outputs": [],
   "source": [
    "#MSE"
   ]
  },
  {
   "cell_type": "code",
   "execution_count": 52,
   "id": "07b878e9",
   "metadata": {},
   "outputs": [],
   "source": [
    "#dla danych uczących"
   ]
  },
  {
   "cell_type": "code",
   "execution_count": 53,
   "id": "a0a346fb",
   "metadata": {},
   "outputs": [],
   "source": [
    "result.at['poly_4_reg','train_mse'] = mean_squared_error(train['y'].values, poly_4_reg.predict(poly_feature_4.fit_transform(train['x'].values.reshape(-1,1))))"
   ]
  },
  {
   "cell_type": "code",
   "execution_count": 54,
   "id": "8c7d914e",
   "metadata": {},
   "outputs": [],
   "source": [
    "#dla danych testujących"
   ]
  },
  {
   "cell_type": "code",
   "execution_count": 55,
   "id": "c28326a7",
   "metadata": {},
   "outputs": [],
   "source": [
    "result.at['poly_4_reg','test_mse'] = mean_squared_error(test['y'].values, poly_4_reg.predict(poly_feature_4.fit_transform(test['x'].values.reshape(-1,1))))"
   ]
  },
  {
   "cell_type": "code",
   "execution_count": 56,
   "id": "930e6eda",
   "metadata": {},
   "outputs": [],
   "source": [
    "#POLYNOMIAL REGRESSION - degree: 5"
   ]
  },
  {
   "cell_type": "code",
   "execution_count": 57,
   "id": "25b57f3a",
   "metadata": {},
   "outputs": [
    {
     "name": "stdout",
     "output_type": "stream",
     "text": [
      "-0.7256973682369989 [0.54378699 0.29570429 0.16080014 0.08744103 0.04754929]\n"
     ]
    },
    {
     "data": {
      "text/plain": [
       "LinearRegression()"
      ]
     },
     "execution_count": 57,
     "metadata": {},
     "output_type": "execute_result"
    }
   ],
   "source": [
    "poly_feature_5 = PolynomialFeatures(degree=5, include_bias=False)\n",
    "X_poly = poly_feature_5.fit_transform(train['x'].values.reshape(-1,1))\n",
    "print(X[0], X_poly[0])\n",
    "poly_5_reg = LinearRegression()\n",
    "poly_5_reg.fit(X_poly, train['y'].values)"
   ]
  },
  {
   "cell_type": "code",
   "execution_count": 58,
   "id": "20cda19c",
   "metadata": {},
   "outputs": [
    {
     "name": "stdout",
     "output_type": "stream",
     "text": [
      "            x          y\n",
      "292 -2.452543  16.956991\n",
      "212 -2.383270  21.183434\n",
      "60  -2.325327  24.412298\n",
      "218 -2.321500  26.912965\n",
      "149 -2.179436  23.688848\n",
      "46  -2.054415  16.026561\n",
      "13  -1.926437  21.956356\n",
      "38  -1.731678   7.776211\n",
      "86  -1.667379 -23.749067\n",
      "269 -1.588871   9.622496\n",
      "164 -1.546592  -0.058219\n",
      "154 -1.482093   6.900655\n",
      "178 -1.413007   6.762425\n",
      "129 -1.398643   5.435218\n",
      "62  -1.225977   9.991361\n",
      "276 -1.152978   4.960133\n",
      "98  -1.146827  -9.856134\n",
      "113 -1.018313 -12.882810\n",
      "282 -0.941359  12.140582\n",
      "73  -0.941020   3.334300\n",
      "285 -0.882434  -3.482418\n",
      "71  -0.806470 -12.490495\n",
      "27  -0.738632   1.173333\n",
      "65  -0.639309   9.595813\n",
      "121 -0.603534  10.505237\n",
      "116 -0.574761  -5.467726\n",
      "93  -0.565951   1.773912\n",
      "188 -0.432665   2.139160\n",
      "295 -0.383144 -15.827684\n",
      "194 -0.374668  13.825746\n",
      "206 -0.354501 -10.985616\n",
      "118 -0.060541   2.013248\n",
      "53  -0.032826  -3.719979\n",
      "266 -0.030149 -25.714403\n",
      "201  0.180451 -13.137691\n",
      "41   0.333564 -14.501340\n",
      "246  0.359303   3.414634\n",
      "196  0.389076  -6.310656\n",
      "159  0.566574 -16.104400\n",
      "33   0.691772  -5.803255\n",
      "227  0.702060   7.761482\n",
      "297  0.814543   4.088380\n",
      "187  0.816804   2.798741\n",
      "51   0.948512  -0.527703\n",
      "77   0.958286   0.340760\n",
      "82   0.964002   5.302190\n",
      "152  1.017758   6.094832\n",
      "190  1.091839  15.002713\n",
      "43   1.185894   4.440927\n",
      "267  1.198158  10.163350\n",
      "18   1.278698   0.007824\n",
      "48   1.577939  10.570248\n",
      "263  1.611632  13.813849\n",
      "271  1.634615  -4.342951\n",
      "128  1.890771  20.886276\n",
      "242  2.033944  26.683729\n",
      "275  2.124709  37.359312\n",
      "56   2.136715  29.796403\n",
      "157  2.152255  32.465118\n",
      "64   2.356954  55.543675\n"
     ]
    },
    {
     "data": {
      "text/plain": [
       "[<matplotlib.lines.Line2D at 0x1b5ae237250>]"
      ]
     },
     "execution_count": 58,
     "metadata": {},
     "output_type": "execute_result"
    },
    {
     "data": {
      "image/png": "[encoded data removed]",
      "text/plain": [
       "<Figure size 432x288 with 1 Axes>"
      ]
     },
     "metadata": {
      "needs_background": "light"
     },
     "output_type": "display_data"
    }
   ],
   "source": [
    "#wykres dla danych testujących\n",
    "#dane testujące\n",
    "test = test.sort_values('x')\n",
    "print(test)\n",
    "plt.plot(test['x'].values,test['y'].values,'ro')\n",
    "#predykcja\n",
    "plt.plot(test['x'].values,poly_5_reg.predict(poly_feature_5.fit_transform(test['x'].values.reshape(-1,1))))"
   ]
  },
  {
   "cell_type": "code",
   "execution_count": 59,
   "id": "5214d4fc",
   "metadata": {},
   "outputs": [],
   "source": [
    "#MSE"
   ]
  },
  {
   "cell_type": "code",
   "execution_count": 60,
   "id": "cafa921a",
   "metadata": {},
   "outputs": [],
   "source": [
    "#dla danych uczących"
   ]
  },
  {
   "cell_type": "code",
   "execution_count": 61,
   "id": "e9c12e8d",
   "metadata": {},
   "outputs": [],
   "source": [
    "result.at['poly_5_reg','train_mse'] = mean_squared_error(train['y'].values, poly_5_reg.predict(poly_feature_5.fit_transform(train['x'].values.reshape(-1,1))))"
   ]
  },
  {
   "cell_type": "code",
   "execution_count": 62,
   "id": "7833d82e",
   "metadata": {},
   "outputs": [],
   "source": [
    "#dla danych testujących"
   ]
  },
  {
   "cell_type": "code",
   "execution_count": 63,
   "id": "316ac5e0",
   "metadata": {},
   "outputs": [],
   "source": [
    "result.at['poly_5_reg','test_mse'] = mean_squared_error(test['y'].values, poly_5_reg.predict(poly_feature_5.fit_transform(test['x'].values.reshape(-1,1))))"
   ]
  },
  {
   "cell_type": "code",
   "execution_count": 64,
   "id": "80fa276a",
   "metadata": {},
   "outputs": [],
   "source": [
    "#result dataframe --> pickle"
   ]
  },
  {
   "cell_type": "code",
   "execution_count": 65,
   "id": "fd334928",
   "metadata": {},
   "outputs": [],
   "source": [
    "import pickle as pkl\n",
    "fileObject = open(\"mse.pkl\", 'wb')\n",
    "pkl.dump(result, fileObject)\n",
    "fileObject.close()"
   ]
  },
  {
   "cell_type": "code",
   "execution_count": 70,
   "id": "19e478f6",
   "metadata": {},
   "outputs": [
    {
     "name": "stdout",
     "output_type": "stream",
     "text": [
      "             train_mse    test_mse\n",
      "lin_reg     239.032550  230.001126\n",
      "knn_3_reg    42.885928   82.326084\n",
      "knn_5_reg    49.558841   86.131192\n",
      "poly_2_reg   86.384909   86.866851\n",
      "poly_3_reg   65.726127   88.061923\n",
      "poly_4_reg   61.994197   83.250616\n",
      "poly_5_reg   60.132953   81.740472\n"
     ]
    }
   ],
   "source": [
    "print(result)"
   ]
  },
  {
   "cell_type": "code",
   "execution_count": 67,
   "id": "0d772dd9",
   "metadata": {},
   "outputs": [],
   "source": [
    "#lista krotek z regresorami"
   ]
  },
  {
   "cell_type": "code",
   "execution_count": 68,
   "id": "2d0e6240",
   "metadata": {},
   "outputs": [],
   "source": [
    "tuples = [(lin_reg, None), (knn_3_reg, None), (knn_5_reg, None), (poly_2_reg,\n",
    "poly_feature_2), (poly_3_reg, poly_feature_3), (poly_4_reg, poly_feature_4),\n",
    "(poly_5_reg, poly_feature_5)]\n"
   ]
  },
  {
   "cell_type": "code",
   "execution_count": 69,
   "id": "66da24d1",
   "metadata": {},
   "outputs": [],
   "source": [
    "fileObject = open(\"reg.pkl\", 'wb')\n",
    "pkl.dump(tuples, fileObject)\n",
    "fileObject.close()"
   ]
  },
  {
   "cell_type": "code",
   "execution_count": null,
   "id": "5f4c8a2a",
   "metadata": {},
   "outputs": [],
   "source": []
  }
 ],
 "metadata": {
  "kernelspec": {
   "display_name": "Python 3 (ipykernel)",
   "language": "python",
   "name": "python3"
  },
  "language_info": {
   "codemirror_mode": {
    "name": "ipython",
    "version": 3
   },
   "file_extension": ".py",
   "mimetype": "text/x-python",
   "name": "python",
   "nbconvert_exporter": "python",
   "pygments_lexer": "ipython3",
   "version": "3.9.7"
  }
 },
 "nbformat": 4,
 "nbformat_minor": 5
}
