{
 "cells": [
  {
   "cell_type": "code",
   "execution_count": 1,
   "id": "019ffe3a",
   "metadata": {},
   "outputs": [],
   "source": [
    "import graphviz \n",
    "from sklearn import tree\n",
    "from sklearn import datasets\n",
    "from sklearn.model_selection import train_test_split\n",
    "from sklearn.tree import DecisionTreeClassifier\n",
    "from sklearn.metrics import f1_score\n",
    "from sklearn.tree import export_graphviz\n",
    "from sklearn.metrics import accuracy_score\n",
    "import pickle as pkl\n",
    "import numpy as np\n",
    "import pandas as pd"
   ]
  },
  {
   "cell_type": "code",
   "execution_count": 2,
   "id": "49d05222-de4b-4e2f-8628-70ee72f37571",
   "metadata": {},
   "outputs": [],
   "source": [
    "# KLASYFIKACJA breast_cancer\n"
   ]
  },
  {
   "cell_type": "code",
   "execution_count": 3,
   "id": "e98963b7-6105-4a57-8397-87fd9e366dc4",
   "metadata": {},
   "outputs": [],
   "source": [
    "data_breast_cancer = datasets.load_breast_cancer(as_frame=True) "
   ]
  },
  {
   "cell_type": "code",
   "execution_count": 4,
   "id": "9d26c116-d91a-4f7f-bf61-060c5442f2dc",
   "metadata": {},
   "outputs": [],
   "source": [
    "X = data_breast_cancer['data']"
   ]
  },
  {
   "cell_type": "code",
   "execution_count": 5,
   "id": "3fcf2e3c-9961-41e6-8b9c-a376c80d73df",
   "metadata": {},
   "outputs": [],
   "source": [
    "y = data_breast_cancer['target']"
   ]
  },
  {
   "cell_type": "code",
   "execution_count": 6,
   "id": "38c3f77f-c79a-4a70-9e0c-54a706a5d10a",
   "metadata": {},
   "outputs": [],
   "source": [
    "X_train, X_test, y_train, y_test = train_test_split(X, y, test_size=0.2, random_state=42)"
   ]
  },
  {
   "cell_type": "code",
   "execution_count": 7,
   "id": "052bba74-7d54-4154-9685-b5309a93eae0",
   "metadata": {},
   "outputs": [
    {
     "name": "stdout",
     "output_type": "stream",
     "text": [
      "0.9452054794520547\n",
      "0.9452054794520549\n"
     ]
    }
   ],
   "source": [
    "#max_depth = 2\n",
    "tree_clf = DecisionTreeClassifier(max_depth=2, random_state=42)\n",
    "tree_clf.fit(X_train, y_train)\n",
    "f1Train = f1_score(y_train, tree_clf.predict(X_train))\n",
    "f1Test = f1_score(y_test, tree_clf.predict(X_test))\n",
    "print(f1Train)\n",
    "print(f1Test)"
   ]
  },
  {
   "cell_type": "code",
   "execution_count": 8,
   "id": "43ad7817-1cfd-4b11-8f48-5b4738f7709b",
   "metadata": {},
   "outputs": [
    {
     "name": "stdout",
     "output_type": "stream",
     "text": [
      "0.9826388888888888\n",
      "0.9583333333333334\n"
     ]
    }
   ],
   "source": [
    "#max_depth = 3 - NAJLEPSZY WYNIK DLA ZBIORU TESTOWEGO\n",
    "tree_clf = DecisionTreeClassifier(max_depth=3, random_state=42)\n",
    "tree_clf.fit(X_train, y_train)\n",
    "f1Train = f1_score(y_train, tree_clf.predict(X_train))\n",
    "f1Test = f1_score(y_test, tree_clf.predict(X_test))\n",
    "print(f1Train)\n",
    "print(f1Test)"
   ]
  },
  {
   "cell_type": "code",
   "execution_count": 9,
   "id": "321e4caa",
   "metadata": {},
   "outputs": [
    {
     "name": "stdout",
     "output_type": "stream",
     "text": [
      "data_breast_cancer_tree.dot\n"
     ]
    },
    {
     "data": {
      "text/plain": [
       "'bc.png'"
      ]
     },
     "execution_count": 9,
     "metadata": {},
     "output_type": "execute_result"
    }
   ],
   "source": [
    "#graf dla najlepszego wyniku\n",
    "f = \"data_breast_cancer_tree.dot\"\n",
    "export_graphviz(\n",
    "tree_clf,\n",
    "out_file=f,\n",
    "feature_names=data_breast_cancer.feature_names,\n",
    "class_names=[str(num)+\", \"+name\n",
    "for num,name in\n",
    "zip(set(data_breast_cancer.target),\n",
    "data_breast_cancer.target_names)],\n",
    "rounded=True,\n",
    "filled=True)\n",
    "print(f)\n",
    "\n",
    "\n",
    "graphviz.render('dot', 'png', filepath=f, outfile=\"bc.png\")"
   ]
  },
  {
   "cell_type": "code",
   "execution_count": 10,
   "id": "ccdfa424",
   "metadata": {},
   "outputs": [
    {
     "name": "stdout",
     "output_type": "stream",
     "text": [
      "[3, 0.9826388888888888, 0.9583333333333334, 0.978021978021978, 0.9473684210526315]\n"
     ]
    }
   ],
   "source": [
    "#lista dla najlepszego wyniku\n",
    "depth = 3\n",
    "accTrain = accuracy_score(y_train, tree_clf.predict(X_train))\n",
    "accTest = accuracy_score(y_test, tree_clf.predict(X_test))\n",
    "bc_list = [depth, f1Train, f1Test, accTrain, accTest]\n",
    "\n",
    "fileObject = open(\"f1acc_tree.pkl\", 'wb')\n",
    "pkl.dump(bc_list, fileObject)\n",
    "fileObject.close()\n",
    "\n",
    "print(bc_list)"
   ]
  },
  {
   "cell_type": "code",
   "execution_count": 11,
   "id": "7eb62c6c-d4ac-44dc-b797-e3e23e488d77",
   "metadata": {},
   "outputs": [
    {
     "name": "stdout",
     "output_type": "stream",
     "text": [
      "0.9965156794425087\n",
      "0.9577464788732394\n"
     ]
    }
   ],
   "source": [
    "#max_depth = 4 - wartość f1 dla zbioru testowego spadła\n",
    "tree_clf = DecisionTreeClassifier(max_depth=4, random_state=42)\n",
    "tree_clf.fit(X_train, y_train)\n",
    "f1Train = f1_score(y_train, tree_clf.predict(X_train))\n",
    "f1Test = f1_score(y_test, tree_clf.predict(X_test))\n",
    "print(f1Train)\n",
    "print(f1Test)"
   ]
  },
  {
   "cell_type": "code",
   "execution_count": 12,
   "id": "a7f6e049-bc0c-4f3e-856d-ce6608fad925",
   "metadata": {},
   "outputs": [
    {
     "name": "stdout",
     "output_type": "stream",
     "text": [
      "0.9965156794425087\n",
      "0.9577464788732394\n"
     ]
    }
   ],
   "source": [
    "#max_depth = 5\n",
    "tree_clf = DecisionTreeClassifier(max_depth=5, random_state=42)\n",
    "tree_clf.fit(X_train, y_train)\n",
    "f1Train = f1_score(y_train, tree_clf.predict(X_train))\n",
    "f1Test = f1_score(y_test, tree_clf.predict(X_test))\n",
    "print(f1Train)\n",
    "print(f1Test)"
   ]
  },
  {
   "cell_type": "code",
   "execution_count": 13,
   "id": "c253d2c1-322b-495d-95e0-269104245230",
   "metadata": {},
   "outputs": [
    {
     "name": "stdout",
     "output_type": "stream",
     "text": [
      "0.9982547993019197\n",
      "0.951048951048951\n"
     ]
    }
   ],
   "source": [
    "#max_depth = 6 - wartość f1 dla zbioru testowego spadła jeszcze bardziej\n",
    "tree_clf = DecisionTreeClassifier(max_depth=6, random_state=42)\n",
    "tree_clf.fit(X_train, y_train)\n",
    "f1Train = f1_score(y_train, tree_clf.predict(X_train))\n",
    "f1Test = f1_score(y_test, tree_clf.predict(X_test))\n",
    "print(f1Train)\n",
    "print(f1Test)"
   ]
  },
  {
   "cell_type": "code",
   "execution_count": 14,
   "id": "24e8ab97-2c94-4ed5-9589-51b2c2fbc1b6",
   "metadata": {},
   "outputs": [
    {
     "name": "stdout",
     "output_type": "stream",
     "text": [
      "1.0\n",
      "0.9577464788732394\n"
     ]
    }
   ],
   "source": [
    "#max_depth = 7\n",
    "tree_clf = DecisionTreeClassifier(max_depth=7, random_state=42)\n",
    "tree_clf.fit(X_train, y_train)\n",
    "f1Train = f1_score(y_train, tree_clf.predict(X_train))\n",
    "f1Test = f1_score(y_test, tree_clf.predict(X_test))\n",
    "print(f1Train)\n",
    "print(f1Test)"
   ]
  },
  {
   "cell_type": "code",
   "execution_count": 15,
   "id": "31fa87a0-efd0-4524-8a2e-4a1a4860678d",
   "metadata": {},
   "outputs": [
    {
     "data": {
      "text/plain": [
       "array(['mean perimeter', 'mean area', 'mean smoothness',\n",
       "       'mean compactness', 'mean concavity', 'mean concave points',\n",
       "       'mean symmetry', 'mean fractal dimension', 'radius error',\n",
       "       'texture error', 'perimeter error', 'area error',\n",
       "       'smoothness error', 'compactness error', 'concavity error',\n",
       "       'concave points error', 'symmetry error',\n",
       "       'fractal dimension error', 'worst radius', 'worst texture',\n",
       "       'worst perimeter', 'worst area', 'worst smoothness',\n",
       "       'worst compactness', 'worst concavity', 'worst concave points',\n",
       "       'worst symmetry', 'worst fractal dimension'], dtype='<U23')"
      ]
     },
     "execution_count": 15,
     "metadata": {},
     "output_type": "execute_result"
    }
   ],
   "source": [
    "data_breast_cancer.feature_names[2:]"
   ]
  },
  {
   "cell_type": "code",
   "execution_count": 16,
   "id": "e0be2d3c-261a-49bb-a288-51384dbbad23",
   "metadata": {},
   "outputs": [
    {
     "data": {
      "text/plain": [
       "0      0\n",
       "1      0\n",
       "2      0\n",
       "3      0\n",
       "4      0\n",
       "      ..\n",
       "564    0\n",
       "565    0\n",
       "566    0\n",
       "567    0\n",
       "568    1\n",
       "Name: target, Length: 569, dtype: int32"
      ]
     },
     "execution_count": 16,
     "metadata": {},
     "output_type": "execute_result"
    }
   ],
   "source": [
    "data_breast_cancer.target"
   ]
  },
  {
   "cell_type": "code",
   "execution_count": 17,
   "id": "bb937d70-9954-4de8-a46d-ed88449dcf69",
   "metadata": {},
   "outputs": [
    {
     "name": "stdout",
     "output_type": "stream",
     "text": [
      "1.0\n",
      "0.9577464788732394\n"
     ]
    }
   ],
   "source": [
    "#max_depth = 8\n",
    "tree_clf = DecisionTreeClassifier(max_depth=8, random_state=42)\n",
    "tree_clf.fit(X_train, y_train)\n",
    "f1Train = f1_score(y_train, tree_clf.predict(X_train))\n",
    "f1Test = f1_score(y_test, tree_clf.predict(X_test))\n",
    "print(f1Train)\n",
    "print(f1Test)\n",
    "\n"
   ]
  },
  {
   "cell_type": "code",
   "execution_count": 18,
   "id": "ea38c79f",
   "metadata": {},
   "outputs": [],
   "source": [
    "#REGRESJA"
   ]
  },
  {
   "cell_type": "code",
   "execution_count": 19,
   "id": "480eaa8b",
   "metadata": {},
   "outputs": [
    {
     "data": {
      "text/plain": [
       "<AxesSubplot:xlabel='x', ylabel='y'>"
      ]
     },
     "execution_count": 19,
     "metadata": {},
     "output_type": "execute_result"
    },
    {
     "data": {
      "image/png": "[encoded data removed]",
      "text/plain": [
       "<Figure size 432x288 with 1 Axes>"
      ]
     },
     "metadata": {
      "needs_background": "light"
     },
     "output_type": "display_data"
    }
   ],
   "source": [
    "size = 300\n",
    "X = np.random.rand(size)*5-2.5\n",
    "w4, w3, w2, w1, w0 = 1, 2, 1, -4, 2\n",
    "y = w4*(X**4) + w3*(X**3) + w2*(X**2) + w1*X + w0 + np.random.randn(size)*8-4\n",
    "df = pd.DataFrame({'x': X, 'y': y})\n",
    "df.plot.scatter(x='x',y='y')"
   ]
  },
  {
   "cell_type": "code",
   "execution_count": 20,
   "id": "c107ae57",
   "metadata": {},
   "outputs": [],
   "source": [
    "X_train, X_test, y_train, y_test = train_test_split(X, y, test_size=0.2, random_state=42)"
   ]
  },
  {
   "cell_type": "code",
   "execution_count": 21,
   "id": "4cb663fb",
   "metadata": {},
   "outputs": [],
   "source": [
    "X_train = X_train.reshape(-1, 1)\n",
    "X_test = X_test.reshape(-1,1)"
   ]
  },
  {
   "cell_type": "code",
   "execution_count": 22,
   "id": "d78b93ae",
   "metadata": {},
   "outputs": [
    {
     "name": "stdout",
     "output_type": "stream",
     "text": [
      "76.70590916253602\n",
      "97.45420288915572\n"
     ]
    }
   ],
   "source": [
    "#max_depth = 2\n",
    "from sklearn.metrics import mean_squared_error\n",
    "from sklearn.tree import DecisionTreeRegressor\n",
    "tree_clf = DecisionTreeRegressor(max_depth=2, random_state=42)\n",
    "tree_clf.fit(X_train, y_train)\n",
    "mse1Train = mean_squared_error(y_train, tree_clf.predict(X_train))\n",
    "mse1Test = mean_squared_error(y_test, tree_clf.predict(X_test))\n",
    "print(mse1Train)\n",
    "print(mse1Test)"
   ]
  },
  {
   "cell_type": "code",
   "execution_count": 23,
   "id": "c9eb80dc",
   "metadata": {
    "scrolled": true
   },
   "outputs": [
    {
     "data": {
      "text/plain": [
       "[<matplotlib.lines.Line2D at 0x200c54da370>]"
      ]
     },
     "execution_count": 23,
     "metadata": {},
     "output_type": "execute_result"
    },
    {
     "data": {
      "image/png": "[encoded data removed]",
      "text/plain": [
       "<Figure size 432x288 with 1 Axes>"
      ]
     },
     "metadata": {
      "needs_background": "light"
     },
     "output_type": "display_data"
    }
   ],
   "source": [
    "import matplotlib.pyplot as plt\n",
    "plt.plot(X,y,'ro')\n",
    "temp_X_train = np.sort(X_train, axis=0)\n",
    "plt.plot(temp_X_train, tree_clf.predict(temp_X_train))"
   ]
  },
  {
   "cell_type": "code",
   "execution_count": 24,
   "id": "da06c2aa",
   "metadata": {},
   "outputs": [
    {
     "name": "stdout",
     "output_type": "stream",
     "text": [
      "59.044624796397684\n",
      "74.17300003708405\n"
     ]
    }
   ],
   "source": [
    "#max_depth = 3\n",
    "from sklearn.metrics import mean_squared_error\n",
    "from sklearn.tree import DecisionTreeRegressor\n",
    "tree_clf = DecisionTreeRegressor(max_depth=3, random_state=42)\n",
    "tree_clf.fit(X_train, y_train)\n",
    "mse1Train = mean_squared_error(y_train, tree_clf.predict(X_train))\n",
    "mse1Test = mean_squared_error(y_test, tree_clf.predict(X_test))\n",
    "print(mse1Train)\n",
    "print(mse1Test)"
   ]
  },
  {
   "cell_type": "code",
   "execution_count": 25,
   "id": "82c0c33f",
   "metadata": {},
   "outputs": [
    {
     "data": {
      "text/plain": [
       "[<matplotlib.lines.Line2D at 0x200c5546160>]"
      ]
     },
     "execution_count": 25,
     "metadata": {},
     "output_type": "execute_result"
    },
    {
     "data": {
      "image/png": "[encoded data removed]",
      "text/plain": [
       "<Figure size 432x288 with 1 Axes>"
      ]
     },
     "metadata": {
      "needs_background": "light"
     },
     "output_type": "display_data"
    }
   ],
   "source": [
    "plt.plot(X,y,'ro')\n",
    "temp_X_train = np.sort(X_train, axis=0)\n",
    "plt.plot(temp_X_train, tree_clf.predict(temp_X_train))"
   ]
  },
  {
   "cell_type": "code",
   "execution_count": 26,
   "id": "0c17c56e",
   "metadata": {},
   "outputs": [
    {
     "name": "stdout",
     "output_type": "stream",
     "text": [
      "53.42890682543443\n",
      "83.33261207573183\n"
     ]
    }
   ],
   "source": [
    "#max_depth = 4 #NAJLEPSZY WYNIK: najmniejsza wartość MSE dla zbioru testowego\n",
    "from sklearn.metrics import mean_squared_error\n",
    "from sklearn.tree import DecisionTreeRegressor\n",
    "tree_clf = DecisionTreeRegressor(max_depth=4, random_state=42)\n",
    "tree_clf.fit(X_train, y_train)\n",
    "mse1Train = mean_squared_error(y_train, tree_clf.predict(X_train))\n",
    "mse1Test = mean_squared_error(y_test, tree_clf.predict(X_test))\n",
    "print(mse1Train)\n",
    "print(mse1Test)"
   ]
  },
  {
   "cell_type": "code",
   "execution_count": 27,
   "id": "1fd1a3b3",
   "metadata": {},
   "outputs": [
    {
     "data": {
      "text/plain": [
       "[<matplotlib.lines.Line2D at 0x200c559bc10>]"
      ]
     },
     "execution_count": 27,
     "metadata": {},
     "output_type": "execute_result"
    },
    {
     "data": {
      "image/png": "[encoded data removed]",
      "text/plain": [
       "<Figure size 432x288 with 1 Axes>"
      ]
     },
     "metadata": {
      "needs_background": "light"
     },
     "output_type": "display_data"
    }
   ],
   "source": [
    "plt.plot(X,y,'ro')\n",
    "temp_X_train = np.sort(X_train, axis=0)\n",
    "plt.plot(temp_X_train, tree_clf.predict(temp_X_train))"
   ]
  },
  {
   "cell_type": "code",
   "execution_count": 28,
   "id": "d04a3f57",
   "metadata": {},
   "outputs": [
    {
     "name": "stdout",
     "output_type": "stream",
     "text": [
      "reg_tree.dot\n"
     ]
    },
    {
     "data": {
      "text/plain": [
       "'reg.png'"
      ]
     },
     "execution_count": 28,
     "metadata": {},
     "output_type": "execute_result"
    }
   ],
   "source": [
    "#graf dla najlepszego wyniku\n",
    "f = \"reg_tree.dot\"\n",
    "export_graphviz(\n",
    "tree_clf,\n",
    "out_file=f,\n",
    "#feature_names=data_breast_cancer.feature_names,\n",
    "#class_names=[str(num)+\", \"+name\n",
    "#for num,name in\n",
    "#zip(set(data_breast_cancer.target),\n",
    "#data_breast_cancer.target_names)],\n",
    "#rounded=True,\n",
    "#filled=True\n",
    ")\n",
    "print(f)\n",
    "\n",
    "\n",
    "graphviz.render('dot', 'png', filepath=f, outfile=\"reg.png\")"
   ]
  },
  {
   "cell_type": "code",
   "execution_count": 29,
   "id": "34634082",
   "metadata": {},
   "outputs": [
    {
     "name": "stdout",
     "output_type": "stream",
     "text": [
      "[4, 53.42890682543443, 83.33261207573183]\n"
     ]
    }
   ],
   "source": [
    "#lista dla najlepszego wyniku\n",
    "depth = 4\n",
    "reg_list = [depth, mse1Train, mse1Test]\n",
    "\n",
    "fileObject = open(\"mse_tree.pkl\", 'wb')\n",
    "pkl.dump(reg_list, fileObject)\n",
    "fileObject.close()\n",
    "\n",
    "print(reg_list)"
   ]
  },
  {
   "cell_type": "code",
   "execution_count": 30,
   "id": "beb8f9af",
   "metadata": {},
   "outputs": [
    {
     "name": "stdout",
     "output_type": "stream",
     "text": [
      "48.03159481273257\n",
      "86.22113049279122\n"
     ]
    }
   ],
   "source": [
    "#max_depth = 5\n",
    "from sklearn.metrics import mean_squared_error\n",
    "from sklearn.tree import DecisionTreeRegressor\n",
    "tree_clf = DecisionTreeRegressor(max_depth=5, random_state=42)\n",
    "tree_clf.fit(X_train, y_train)\n",
    "mse1Train = mean_squared_error(y_train, tree_clf.predict(X_train))\n",
    "mse1Test = mean_squared_error(y_test, tree_clf.predict(X_test))\n",
    "print(mse1Train)\n",
    "print(mse1Test)"
   ]
  },
  {
   "cell_type": "code",
   "execution_count": 31,
   "id": "755b1843",
   "metadata": {},
   "outputs": [
    {
     "data": {
      "text/plain": [
       "[<matplotlib.lines.Line2D at 0x200c5602220>]"
      ]
     },
     "execution_count": 31,
     "metadata": {},
     "output_type": "execute_result"
    },
    {
     "data": {
      "image/png": "[encoded data removed]",
      "text/plain": [
       "<Figure size 432x288 with 1 Axes>"
      ]
     },
     "metadata": {
      "needs_background": "light"
     },
     "output_type": "display_data"
    }
   ],
   "source": [
    "plt.plot(X,y,'ro')\n",
    "temp_X_train = np.sort(X_train, axis=0)\n",
    "plt.plot(temp_X_train, tree_clf.predict(temp_X_train))"
   ]
  },
  {
   "cell_type": "code",
   "execution_count": 32,
   "id": "e285d2d2",
   "metadata": {
    "scrolled": true
   },
   "outputs": [
    {
     "name": "stdout",
     "output_type": "stream",
     "text": [
      "41.90886587439407\n",
      "90.26295925537728\n"
     ]
    }
   ],
   "source": [
    "#max_depth = 6\n",
    "from sklearn.metrics import mean_squared_error\n",
    "from sklearn.tree import DecisionTreeRegressor\n",
    "tree_clf = DecisionTreeRegressor(max_depth=6, random_state=42)\n",
    "tree_clf.fit(X_train, y_train)\n",
    "mse1Train = mean_squared_error(y_train, tree_clf.predict(X_train))\n",
    "mse1Test = mean_squared_error(y_test, tree_clf.predict(X_test))\n",
    "print(mse1Train)\n",
    "print(mse1Test)"
   ]
  },
  {
   "cell_type": "code",
   "execution_count": 33,
   "id": "0b49f05b",
   "metadata": {},
   "outputs": [
    {
     "data": {
      "text/plain": [
       "[<matplotlib.lines.Line2D at 0x200c5656eb0>]"
      ]
     },
     "execution_count": 33,
     "metadata": {},
     "output_type": "execute_result"
    },
    {
     "data": {
      "image/png": "[encoded data removed]",
      "text/plain": [
       "<Figure size 432x288 with 1 Axes>"
      ]
     },
     "metadata": {
      "needs_background": "light"
     },
     "output_type": "display_data"
    }
   ],
   "source": [
    "plt.plot(X,y,'ro')\n",
    "temp_X_train = np.sort(X_train, axis=0)\n",
    "plt.plot(temp_X_train, tree_clf.predict(temp_X_train))"
   ]
  },
  {
   "cell_type": "code",
   "execution_count": 34,
   "id": "e2d25dbc",
   "metadata": {},
   "outputs": [
    {
     "name": "stdout",
     "output_type": "stream",
     "text": [
      "37.90589943599178\n",
      "92.55960859505876\n"
     ]
    }
   ],
   "source": [
    "#max_depth = 7\n",
    "from sklearn.metrics import mean_squared_error\n",
    "from sklearn.tree import DecisionTreeRegressor\n",
    "tree_clf = DecisionTreeRegressor(max_depth=7, random_state=42)\n",
    "tree_clf.fit(X_train, y_train)\n",
    "mse1Train = mean_squared_error(y_train, tree_clf.predict(X_train))\n",
    "mse1Test = mean_squared_error(y_test, tree_clf.predict(X_test))\n",
    "print(mse1Train)\n",
    "print(mse1Test)"
   ]
  },
  {
   "cell_type": "code",
   "execution_count": 35,
   "id": "ca6359c1",
   "metadata": {},
   "outputs": [
    {
     "data": {
      "text/plain": [
       "[<matplotlib.lines.Line2D at 0x200c56b3fd0>]"
      ]
     },
     "execution_count": 35,
     "metadata": {},
     "output_type": "execute_result"
    },
    {
     "data": {
      "image/png": "[encoded data removed]",
      "text/plain": [
       "<Figure size 432x288 with 1 Axes>"
      ]
     },
     "metadata": {
      "needs_background": "light"
     },
     "output_type": "display_data"
    }
   ],
   "source": [
    "plt.plot(X,y,'ro')\n",
    "temp_X_train = np.sort(X_train, axis=0)\n",
    "plt.plot(temp_X_train, tree_clf.predict(temp_X_train))"
   ]
  },
  {
   "cell_type": "code",
   "execution_count": 36,
   "id": "acb48465",
   "metadata": {},
   "outputs": [
    {
     "name": "stdout",
     "output_type": "stream",
     "text": [
      "32.17170144879267\n",
      "107.88752413044806\n"
     ]
    }
   ],
   "source": [
    "#max_depth = 8\n",
    "from sklearn.metrics import mean_squared_error\n",
    "from sklearn.tree import DecisionTreeRegressor\n",
    "tree_clf = DecisionTreeRegressor(max_depth=8, random_state=42)\n",
    "tree_clf.fit(X_train, y_train)\n",
    "mse1Train = mean_squared_error(y_train, tree_clf.predict(X_train))\n",
    "mse1Test = mean_squared_error(y_test, tree_clf.predict(X_test))\n",
    "print(mse1Train)\n",
    "print(mse1Test)"
   ]
  },
  {
   "cell_type": "code",
   "execution_count": 37,
   "id": "cd82e9c0",
   "metadata": {},
   "outputs": [
    {
     "data": {
      "text/plain": [
       "[<matplotlib.lines.Line2D at 0x200c571c670>]"
      ]
     },
     "execution_count": 37,
     "metadata": {},
     "output_type": "execute_result"
    },
    {
     "data": {
      "image/png": "[encoded data removed]",
      "text/plain": [
       "<Figure size 432x288 with 1 Axes>"
      ]
     },
     "metadata": {
      "needs_background": "light"
     },
     "output_type": "display_data"
    }
   ],
   "source": [
    "plt.plot(X,y,'ro')\n",
    "temp_X_train = np.sort(X_train, axis=0)\n",
    "plt.plot(temp_X_train, tree_clf.predict(temp_X_train))"
   ]
  },
  {
   "cell_type": "code",
   "execution_count": null,
   "id": "deb2ad63",
   "metadata": {},
   "outputs": [],
   "source": []
  }
 ],
 "metadata": {
  "kernelspec": {
   "display_name": "Python 3 (ipykernel)",
   "language": "python",
   "name": "python3"
  },
  "language_info": {
   "codemirror_mode": {
    "name": "ipython",
    "version": 3
   },
   "file_extension": ".py",
   "mimetype": "text/x-python",
   "name": "python",
   "nbconvert_exporter": "python",
   "pygments_lexer": "ipython3",
   "version": "3.9.7"
  }
 },
 "nbformat": 4,
 "nbformat_minor": 5
}
