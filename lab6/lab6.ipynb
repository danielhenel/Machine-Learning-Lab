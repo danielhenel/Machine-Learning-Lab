{
 "cells": [
  {
   "cell_type": "code",
   "execution_count": 1,
   "id": "edb7c650",
   "metadata": {},
   "outputs": [],
   "source": [
    "from sklearn import datasets\n",
    "data_breast_cancer = datasets.load_breast_cancer(as_frame=True)"
   ]
  },
  {
   "cell_type": "code",
   "execution_count": 2,
   "id": "36bb61ca",
   "metadata": {},
   "outputs": [],
   "source": [
    "X = data_breast_cancer['data']\n",
    "y = data_breast_cancer['target']\n",
    "\n",
    "# tylko dla cech mean texture, mean symmetry\n",
    "X = X.loc[:,[\"mean texture\",\"mean symmetry\"]]\n"
   ]
  },
  {
   "cell_type": "code",
   "execution_count": 3,
   "id": "ec924eed",
   "metadata": {},
   "outputs": [],
   "source": [
    "from sklearn.model_selection import train_test_split\n",
    "X_train, X_test, y_train, y_test = train_test_split(X, y, test_size=0.2, random_state=42)"
   ]
  },
  {
   "cell_type": "code",
   "execution_count": 4,
   "id": "b72803ba",
   "metadata": {},
   "outputs": [],
   "source": [
    "#----------------część pierwsza----------------#"
   ]
  },
  {
   "cell_type": "code",
   "execution_count": 5,
   "id": "68933e2e",
   "metadata": {},
   "outputs": [
    {
     "name": "stdout",
     "output_type": "stream",
     "text": [
      "(1.0, 0.6140350877192983)\n"
     ]
    }
   ],
   "source": [
    "from sklearn.tree import DecisionTreeClassifier\n",
    "from sklearn.metrics import accuracy_score\n",
    "\n",
    "#DRZEWA DECYZYJNE\n",
    "tree_clf = DecisionTreeClassifier() #wartości domyślne\n",
    "tree_clf.fit(X_train, y_train)\n",
    "accTrain = accuracy_score(y_train, tree_clf.predict(X_train))\n",
    "accTest = accuracy_score(y_test, tree_clf.predict(X_test))\n",
    "tree_clf_acc = (accTrain, accTest)\n",
    "print(tree_clf_acc)"
   ]
  },
  {
   "cell_type": "code",
   "execution_count": 6,
   "id": "592b4833",
   "metadata": {},
   "outputs": [
    {
     "name": "stdout",
     "output_type": "stream",
     "text": [
      "(0.7230769230769231, 0.7017543859649122)\n"
     ]
    }
   ],
   "source": [
    "from sklearn.linear_model import LogisticRegression\n",
    "\n",
    "#REGRESJA LOGISTYCZNA\n",
    "log_clf = LogisticRegression() #wartości domyślne\n",
    "log_clf.fit(X_train, y_train)\n",
    "accTrain = accuracy_score(y_train, log_clf.predict(X_train))\n",
    "accTest = accuracy_score(y_test, log_clf.predict(X_test))\n",
    "log_clf_acc = (accTrain, accTest)\n",
    "print(log_clf_acc)"
   ]
  },
  {
   "cell_type": "code",
   "execution_count": null,
   "id": "6b9baa6c",
   "metadata": {},
   "outputs": [],
   "source": []
  },
  {
   "cell_type": "code",
   "execution_count": 7,
   "id": "385a0d8f",
   "metadata": {},
   "outputs": [
    {
     "name": "stdout",
     "output_type": "stream",
     "text": [
      "(0.7714285714285715, 0.6403508771929824)\n"
     ]
    }
   ],
   "source": [
    "from sklearn.neighbors import KNeighborsClassifier\n",
    "\n",
    "#K NAJBLIŻSZYCH SĄSIADÓW\n",
    "knn_clf = KNeighborsClassifier() #wartości domyślne\n",
    "knn_clf.fit(X_train, y_train)\n",
    "accTrain = accuracy_score(y_train, knn_clf.predict(X_train))\n",
    "accTest = accuracy_score(y_test, knn_clf.predict(X_test))\n",
    "knn_clf_acc = (accTrain, accTest)\n",
    "print(knn_clf_acc)"
   ]
  },
  {
   "cell_type": "code",
   "execution_count": 8,
   "id": "c40505f6",
   "metadata": {},
   "outputs": [
    {
     "name": "stdout",
     "output_type": "stream",
     "text": [
      "(0.8351648351648352, 0.6929824561403509)\n",
      "(0.9648351648351648, 0.6666666666666666)\n"
     ]
    }
   ],
   "source": [
    "from sklearn.ensemble import VotingClassifier\n",
    "\n",
    "#GŁOSOWANIE HARD\n",
    "hard_voting_clf = VotingClassifier(estimators=[('tree', tree_clf), ('log', log_clf), ('knn', knn_clf)], voting='hard')\n",
    "hard_voting_clf.fit(X_train, y_train)\n",
    "accTrain = accuracy_score(y_train, hard_voting_clf.predict(X_train))\n",
    "accTest = accuracy_score(y_test, hard_voting_clf.predict(X_test))\n",
    "hard_voting_clf_acc = (accTrain, accTest)\n",
    "print(hard_voting_clf_acc)\n",
    "\n",
    "#GŁOSOWANIE SOFT\n",
    "soft_voting_clf = VotingClassifier(estimators=[('tree', tree_clf), ('log', log_clf), ('knn', knn_clf)], voting='soft')\n",
    "soft_voting_clf.fit(X_train, y_train)\n",
    "accTrain = accuracy_score(y_train, soft_voting_clf.predict(X_train))\n",
    "accTest = accuracy_score(y_test, soft_voting_clf.predict(X_test))\n",
    "soft_voting_clf_acc = (accTrain, accTest)\n",
    "print(soft_voting_clf_acc)"
   ]
  },
  {
   "cell_type": "code",
   "execution_count": 9,
   "id": "97830efb",
   "metadata": {},
   "outputs": [],
   "source": [
    "# do pliku pickle\n",
    "import pickle as pkl\n",
    "acc_list = [tree_clf_acc, log_clf_acc, knn_clf_acc, hard_voting_clf_acc, soft_voting_clf_acc]\n",
    "\n",
    "fileObject = open(\"acc_vote.pkl\", 'wb')\n",
    "pkl.dump(acc_list, fileObject)\n",
    "fileObject.close()\n",
    "\n",
    "\n",
    "clf_list = [tree_clf, log_clf, knn_clf, hard_voting_clf, soft_voting_clf]\n",
    "fileObject = open(\"vote.pkl\", 'wb')\n",
    "pkl.dump(clf_list, fileObject)\n",
    "fileObject.close()"
   ]
  },
  {
   "cell_type": "code",
   "execution_count": 10,
   "id": "187d655d",
   "metadata": {},
   "outputs": [],
   "source": [
    "#----------------część druga----------------#"
   ]
  },
  {
   "cell_type": "code",
   "execution_count": 11,
   "id": "6805b5b4",
   "metadata": {},
   "outputs": [
    {
     "name": "stdout",
     "output_type": "stream",
     "text": [
      "(0.9934065934065934, 0.6491228070175439)\n",
      "(0.9252747252747253, 0.7017543859649122)\n",
      "(1.0, 0.6228070175438597)\n",
      "(0.9604395604395605, 0.6578947368421053)\n"
     ]
    }
   ],
   "source": [
    "from sklearn.ensemble import BaggingClassifier\n",
    "#Bagging\n",
    "bag_clf = BaggingClassifier(DecisionTreeClassifier(), n_estimators=30, bootstrap=True)\n",
    "bag_clf.fit(X_train, y_train)\n",
    "accTrain = accuracy_score(y_train, bag_clf.predict(X_train))\n",
    "accTest = accuracy_score(y_test, bag_clf.predict(X_test))\n",
    "bag_clf_acc = (accTrain, accTest)\n",
    "print(bag_clf_acc)\n",
    "\n",
    "#Bagging z wykorzystaniem 50% instancji\n",
    "half_bag_clf = BaggingClassifier(DecisionTreeClassifier(), max_samples=0.5, n_estimators=30, bootstrap=True)\n",
    "half_bag_clf.fit(X_train, y_train)\n",
    "accTrain = accuracy_score(y_train, half_bag_clf.predict(X_train))\n",
    "accTest = accuracy_score(y_test, half_bag_clf.predict(X_test))\n",
    "half_bag_clf_acc = (accTrain, accTest)\n",
    "print(half_bag_clf_acc)\n",
    "\n",
    "#Pasting\n",
    "bagWithPasting_clf = BaggingClassifier(DecisionTreeClassifier(), n_estimators=30, bootstrap=False)\n",
    "bagWithPasting_clf.fit(X_train, y_train)\n",
    "accTrain = accuracy_score(y_train, bagWithPasting_clf.predict(X_train))\n",
    "accTest = accuracy_score(y_test, bagWithPasting_clf.predict(X_test))\n",
    "bagWithPasting_clf_acc = (accTrain, accTest)\n",
    "print(bagWithPasting_clf_acc)\n",
    "\n",
    "#Pasting z wykorzystaniem 50% instancji\n",
    "half_bagWithPasting_clf = BaggingClassifier(DecisionTreeClassifier(), max_samples=0.5, n_estimators=30, bootstrap=False)\n",
    "half_bagWithPasting_clf.fit(X_train, y_train)\n",
    "accTrain = accuracy_score(y_train, half_bagWithPasting_clf.predict(X_train))\n",
    "accTest = accuracy_score(y_test, half_bagWithPasting_clf.predict(X_test))\n",
    "half_bagWithPasting_clf_acc = (accTrain, accTest)\n",
    "print(half_bagWithPasting_clf_acc)"
   ]
  },
  {
   "cell_type": "code",
   "execution_count": 12,
   "id": "c3c9e8d0",
   "metadata": {},
   "outputs": [
    {
     "name": "stdout",
     "output_type": "stream",
     "text": [
      "(0.9978021978021978, 0.7105263157894737)\n"
     ]
    }
   ],
   "source": [
    "from sklearn.ensemble import RandomForestClassifier\n",
    "#Random Forest\n",
    "random_clf = RandomForestClassifier(n_estimators=30)\n",
    "random_clf.fit(X_train, y_train)\n",
    "accTrain = accuracy_score(y_train, random_clf.predict(X_train))\n",
    "accTest = accuracy_score(y_test, random_clf.predict(X_test))\n",
    "random_clf_acc = (accTrain, accTest)\n",
    "print(random_clf_acc)"
   ]
  },
  {
   "cell_type": "code",
   "execution_count": 13,
   "id": "9f3fd2b1",
   "metadata": {},
   "outputs": [
    {
     "name": "stdout",
     "output_type": "stream",
     "text": [
      "(0.8, 0.7368421052631579)\n"
     ]
    }
   ],
   "source": [
    "from sklearn.ensemble import AdaBoostClassifier\n",
    "#AdaBoost\n",
    "ada_clf = AdaBoostClassifier(n_estimators=30)\n",
    "ada_clf.fit(X_train, y_train)\n",
    "accTrain = accuracy_score(y_train, ada_clf.predict(X_train))\n",
    "accTest = accuracy_score(y_test, ada_clf.predict(X_test))\n",
    "ada_clf_acc = (accTrain, accTest)\n",
    "print(ada_clf_acc)"
   ]
  },
  {
   "cell_type": "code",
   "execution_count": 14,
   "id": "8ed0a8b5",
   "metadata": {},
   "outputs": [
    {
     "name": "stdout",
     "output_type": "stream",
     "text": [
      "(0.8373626373626374, 0.7105263157894737)\n"
     ]
    }
   ],
   "source": [
    "from sklearn.ensemble import GradientBoostingClassifier\n",
    "#Gradient Boosting\n",
    "gradient_clf = GradientBoostingClassifier(n_estimators=30)\n",
    "gradient_clf.fit(X_train, y_train)\n",
    "accTrain = accuracy_score(y_train, gradient_clf.predict(X_train))\n",
    "accTest = accuracy_score(y_test, gradient_clf.predict(X_test))\n",
    "gradient_clf_acc = (accTrain, accTest)\n",
    "print(gradient_clf_acc)"
   ]
  },
  {
   "cell_type": "code",
   "execution_count": 15,
   "id": "82acb6f5",
   "metadata": {},
   "outputs": [],
   "source": [
    "acc_list2 = [bag_clf_acc, half_bag_clf_acc, bagWithPasting_clf_acc, half_bagWithPasting_clf_acc, random_clf_acc, ada_clf_acc, gradient_clf_acc]\n",
    "\n",
    "fileObject = open(\"acc_bag.pkl\", 'wb')\n",
    "pkl.dump(acc_list2, fileObject)\n",
    "fileObject.close()\n",
    "\n",
    "\n",
    "clf_list2 = [bag_clf, half_bag_clf, bagWithPasting_clf, half_bagWithPasting_clf, random_clf, ada_clf, gradient_clf]\n",
    "fileObject = open(\"bag.pkl\", 'wb')\n",
    "pkl.dump(clf_list2, fileObject)\n",
    "fileObject.close()"
   ]
  },
  {
   "cell_type": "code",
   "execution_count": 16,
   "id": "516747c3",
   "metadata": {},
   "outputs": [],
   "source": [
    "#----------------część trzecia----------------#"
   ]
  },
  {
   "cell_type": "code",
   "execution_count": null,
   "id": "58709717",
   "metadata": {},
   "outputs": [],
   "source": [
    "twoFeatures_clf = BaggingClassifier(DecisionTreeClassifier(), n_estimators=30, max_samples=0.5, max_features=2, bootstrap_features=False, bootstrap=True)\n",
    "twoFeatures_clf.fit(X_train, y_train)\n",
    "accTrain = accuracy_score(y_train, twoFeatures_clf.predict(X_train))\n",
    "accTest = accuracy_score(y_test, twoFeatures_clf.predict(X_test))\n",
    "twoFeatures_clf_acc = [accTrain, accTest]\n",
    "print(twoFeatures_clf_acc)"
   ]
  },
  {
   "cell_type": "code",
   "execution_count": null,
   "id": "a156be12",
   "metadata": {},
   "outputs": [],
   "source": [
    "fileObject = open(\"acc_fea.pkl\", 'wb')\n",
    "pkl.dump(twoFeatures_clf_acc, fileObject)\n",
    "fileObject.close()\n",
    "\n",
    "clf_list3 = [twoFeatures_clf]\n",
    "fileObject = open(\"fea.pkl\", 'wb')\n",
    "pkl.dump(clf_list3, fileObject)\n",
    "fileObject.close()"
   ]
  },
  {
   "cell_type": "code",
   "execution_count": null,
   "id": "0c2e8b01",
   "metadata": {},
   "outputs": [],
   "source": []
  }
 ],
 "metadata": {
  "kernelspec": {
   "display_name": "Python 3 (ipykernel)",
   "language": "python",
   "name": "python3"
  },
  "language_info": {
   "codemirror_mode": {
    "name": "ipython",
    "version": 3
   },
   "file_extension": ".py",
   "mimetype": "text/x-python",
   "name": "python",
   "nbconvert_exporter": "python",
   "pygments_lexer": "ipython3",
   "version": "3.9.7"
  }
 },
 "nbformat": 4,
 "nbformat_minor": 5
}
