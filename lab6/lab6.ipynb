{
 "cells": [
  {
   "cell_type": "code",
   "execution_count": 1,
   "id": "32e3bf8c",
   "metadata": {},
   "outputs": [],
   "source": [
    "from sklearn import datasets\n",
    "data_breast_cancer = datasets.load_breast_cancer(as_frame=True)"
   ]
  },
  {
   "cell_type": "code",
   "execution_count": 2,
   "id": "c79d2ac8",
   "metadata": {},
   "outputs": [],
   "source": [
    "X = data_breast_cancer['data']\n",
    "y = data_breast_cancer['target']\n",
    "\n",
    "# tylko dla cech mean texture, mean symmetry\n",
    "X = X.loc[:,[\"mean texture\",\"mean symmetry\"]]\n"
   ]
  },
  {
   "cell_type": "code",
   "execution_count": 3,
   "id": "b5ec599b",
   "metadata": {},
   "outputs": [],
   "source": [
    "from sklearn.model_selection import train_test_split\n",
    "X_train, X_test, y_train, y_test = train_test_split(X, y, test_size=0.2, random_state=42)"
   ]
  },
  {
   "cell_type": "code",
   "execution_count": 4,
   "id": "3100391c",
   "metadata": {},
   "outputs": [
    {
     "name": "stdout",
     "output_type": "stream",
     "text": [
      "(1.0, 0.6140350877192983)\n"
     ]
    }
   ],
   "source": [
    "from sklearn.tree import DecisionTreeClassifier\n",
    "from sklearn.metrics import accuracy_score\n",
    "\n",
    "#DRZEWA DECYZYJNE\n",
    "tree_clf = DecisionTreeClassifier() #wartości domyślne\n",
    "tree_clf.fit(X_train, y_train)\n",
    "accTrain = accuracy_score(y_train, tree_clf.predict(X_train))\n",
    "accTest = accuracy_score(y_test, tree_clf.predict(X_test))\n",
    "tree_clf_acc = (accTrain, accTest)\n",
    "print(tree_clf_acc)"
   ]
  },
  {
   "cell_type": "code",
   "execution_count": 5,
   "id": "b7139820",
   "metadata": {},
   "outputs": [
    {
     "name": "stdout",
     "output_type": "stream",
     "text": [
      "(0.7230769230769231, 0.7017543859649122)\n"
     ]
    }
   ],
   "source": [
    "from sklearn.linear_model import LogisticRegression\n",
    "\n",
    "#REGRESJA LOGISTYCZNA\n",
    "log_clf = LogisticRegression() #wartości domyślne\n",
    "log_clf.fit(X_train, y_train)\n",
    "accTrain = accuracy_score(y_train, log_clf.predict(X_train))\n",
    "accTest = accuracy_score(y_test, log_clf.predict(X_test))\n",
    "log_clf_acc = (accTrain, accTest)\n",
    "print(log_clf_acc)"
   ]
  },
  {
   "cell_type": "code",
   "execution_count": null,
   "id": "76b691c3",
   "metadata": {},
   "outputs": [],
   "source": []
  },
  {
   "cell_type": "code",
   "execution_count": 6,
   "id": "b40f9ca8",
   "metadata": {},
   "outputs": [
    {
     "name": "stdout",
     "output_type": "stream",
     "text": [
      "(0.7714285714285715, 0.6403508771929824)\n"
     ]
    }
   ],
   "source": [
    "from sklearn.neighbors import KNeighborsClassifier\n",
    "\n",
    "#K NAJBLIŻSZYCH SĄSIADÓW\n",
    "knn_clf = KNeighborsClassifier() #wartości domyślne\n",
    "knn_clf.fit(X_train, y_train)\n",
    "accTrain = accuracy_score(y_train, knn_clf.predict(X_train))\n",
    "accTest = accuracy_score(y_test, knn_clf.predict(X_test))\n",
    "knn_clf_acc = (accTrain, accTest)\n",
    "print(knn_clf_acc)"
   ]
  },
  {
   "cell_type": "code",
   "execution_count": 7,
   "id": "27ce4479",
   "metadata": {},
   "outputs": [
    {
     "name": "stdout",
     "output_type": "stream",
     "text": [
      "(0.8351648351648352, 0.7017543859649122)\n",
      "(0.9648351648351648, 0.6754385964912281)\n"
     ]
    }
   ],
   "source": [
    "from sklearn.ensemble import VotingClassifier\n",
    "\n",
    "#GŁOSOWANIE HARD\n",
    "hard_voting_clf = VotingClassifier(estimators=[('tree', tree_clf), ('log', log_clf), ('knn', knn_clf)], voting='hard')\n",
    "hard_voting_clf.fit(X_train, y_train)\n",
    "accTrain = accuracy_score(y_train, hard_voting_clf.predict(X_train))\n",
    "accTest = accuracy_score(y_test, hard_voting_clf.predict(X_test))\n",
    "hard_voting_clf_acc = (accTrain, accTest)\n",
    "print(hard_voting_clf_acc)\n",
    "\n",
    "#GŁOSOWANIE SOFT\n",
    "soft_voting_clf = VotingClassifier(estimators=[('tree', tree_clf), ('log', log_clf), ('knn', knn_clf)], voting='soft')\n",
    "soft_voting_clf.fit(X_train, y_train)\n",
    "accTrain = accuracy_score(y_train, soft_voting_clf.predict(X_train))\n",
    "accTest = accuracy_score(y_test, soft_voting_clf.predict(X_test))\n",
    "soft_voting_clf_acc = (accTrain, accTest)\n",
    "print(soft_voting_clf_acc)"
   ]
  },
  {
   "cell_type": "code",
   "execution_count": 8,
   "id": "3b3b6b8e",
   "metadata": {},
   "outputs": [],
   "source": [
    "# do pliku pickle\n",
    "acc_list = [tree_clf_acc, log_clf_acc, knn_clf_acc, hard_voting_clf_acc, soft_voting_clf_acc]\n",
    "\n",
    "fileObject = open(\"sgd_cmx.pkl\", 'wb')\n",
    "pkl.dump(acc_list, fileObject)\n",
    "fileObject.close()\n",
    "\n",
    "\n",
    "clf_list = [tree_clf, log_clf, knn_clf, hard_voting_clf, soft_voting_clf]\n",
    "fileObject = open(\"sgd_cmx.pkl\", 'wb')\n",
    "pkl.dump(clf_list, fileObject)\n",
    "fileObject.close()"
   ]
  },
  {
   "cell_type": "code",
   "execution_count": null,
   "id": "de07f7e7",
   "metadata": {},
   "outputs": [],
   "source": []
  },
  {
   "cell_type": "code",
   "execution_count": null,
   "id": "6eaa151b",
   "metadata": {},
   "outputs": [],
   "source": []
  },
  {
   "cell_type": "code",
   "execution_count": null,
   "id": "0777f7dd",
   "metadata": {},
   "outputs": [],
   "source": []
  },
  {
   "cell_type": "code",
   "execution_count": null,
   "id": "96203ccf",
   "metadata": {},
   "outputs": [],
   "source": []
  }
 ],
 "metadata": {
  "kernelspec": {
   "display_name": "Python 3 (ipykernel)",
   "language": "python",
   "name": "python3"
  },
  "language_info": {
   "codemirror_mode": {
    "name": "ipython",
    "version": 3
   },
   "file_extension": ".py",
   "mimetype": "text/x-python",
   "name": "python",
   "nbconvert_exporter": "python",
   "pygments_lexer": "ipython3",
   "version": "3.9.7"
  }
 },
 "nbformat": 4,
 "nbformat_minor": 5
}
