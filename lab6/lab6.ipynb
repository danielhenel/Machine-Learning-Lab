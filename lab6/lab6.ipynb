{
 "cells": [
  {
   "cell_type": "code",
   "execution_count": 1,
   "id": "edb7c650",
   "metadata": {},
   "outputs": [],
   "source": [
    "from sklearn import datasets\n",
    "data_breast_cancer = datasets.load_breast_cancer(as_frame=True)"
   ]
  },
  {
   "cell_type": "code",
   "execution_count": 2,
   "id": "36bb61ca",
   "metadata": {},
   "outputs": [],
   "source": [
    "X = data_breast_cancer['data']\n",
    "y = data_breast_cancer['target']"
   ]
  },
  {
   "cell_type": "code",
   "execution_count": 3,
   "id": "ec924eed",
   "metadata": {},
   "outputs": [],
   "source": [
    "from sklearn.model_selection import train_test_split\n",
    "X_train, X_test, y_train, y_test = train_test_split(X, y, test_size=0.2, random_state=42)\n",
    "\n",
    "fea_X_train = X_train\n",
    "fea_X_test = X_test\n",
    "\n",
    "# tylko dla cech mean texture, mean symmetry\n",
    "X_train = X_train.loc[:,[\"mean texture\",\"mean symmetry\"]]\n",
    "X_test = X_test.loc[:,[\"mean texture\",\"mean symmetry\"]]"
   ]
  },
  {
   "cell_type": "code",
   "execution_count": 4,
   "id": "b72803ba",
   "metadata": {},
   "outputs": [],
   "source": [
    "#----------------część pierwsza----------------#"
   ]
  },
  {
   "cell_type": "code",
   "execution_count": 5,
   "id": "68933e2e",
   "metadata": {},
   "outputs": [
    {
     "name": "stdout",
     "output_type": "stream",
     "text": [
      "(1.0, 0.6140350877192983)\n"
     ]
    }
   ],
   "source": [
    "from sklearn.tree import DecisionTreeClassifier\n",
    "from sklearn.metrics import accuracy_score\n",
    "\n",
    "#DRZEWA DECYZYJNE\n",
    "tree_clf = DecisionTreeClassifier() #wartości domyślne\n",
    "tree_clf.fit(X_train, y_train)\n",
    "accTrain = accuracy_score(y_train, tree_clf.predict(X_train))\n",
    "accTest = accuracy_score(y_test, tree_clf.predict(X_test))\n",
    "tree_clf_acc = (accTrain, accTest)\n",
    "print(tree_clf_acc)"
   ]
  },
  {
   "cell_type": "code",
   "execution_count": 6,
   "id": "592b4833",
   "metadata": {},
   "outputs": [
    {
     "name": "stdout",
     "output_type": "stream",
     "text": [
      "(0.7230769230769231, 0.7017543859649122)\n"
     ]
    }
   ],
   "source": [
    "from sklearn.linear_model import LogisticRegression\n",
    "\n",
    "#REGRESJA LOGISTYCZNA\n",
    "log_clf = LogisticRegression() #wartości domyślne\n",
    "log_clf.fit(X_train, y_train)\n",
    "accTrain = accuracy_score(y_train, log_clf.predict(X_train))\n",
    "accTest = accuracy_score(y_test, log_clf.predict(X_test))\n",
    "log_clf_acc = (accTrain, accTest)\n",
    "print(log_clf_acc)"
   ]
  },
  {
   "cell_type": "code",
   "execution_count": null,
   "id": "6b9baa6c",
   "metadata": {},
   "outputs": [],
   "source": []
  },
  {
   "cell_type": "code",
   "execution_count": 7,
   "id": "385a0d8f",
   "metadata": {},
   "outputs": [
    {
     "name": "stdout",
     "output_type": "stream",
     "text": [
      "(0.7714285714285715, 0.6403508771929824)\n"
     ]
    }
   ],
   "source": [
    "from sklearn.neighbors import KNeighborsClassifier\n",
    "\n",
    "#K NAJBLIŻSZYCH SĄSIADÓW\n",
    "knn_clf = KNeighborsClassifier() #wartości domyślne\n",
    "knn_clf.fit(X_train, y_train)\n",
    "accTrain = accuracy_score(y_train, knn_clf.predict(X_train))\n",
    "accTest = accuracy_score(y_test, knn_clf.predict(X_test))\n",
    "knn_clf_acc = (accTrain, accTest)\n",
    "print(knn_clf_acc)"
   ]
  },
  {
   "cell_type": "code",
   "execution_count": 8,
   "id": "c40505f6",
   "metadata": {},
   "outputs": [
    {
     "name": "stdout",
     "output_type": "stream",
     "text": [
      "(0.8351648351648352, 0.7017543859649122)\n",
      "(0.9648351648351648, 0.6666666666666666)\n"
     ]
    }
   ],
   "source": [
    "from sklearn.ensemble import VotingClassifier\n",
    "\n",
    "#GŁOSOWANIE HARD\n",
    "hard_voting_clf = VotingClassifier(estimators=[('tree', tree_clf), ('log', log_clf), ('knn', knn_clf)], voting='hard')\n",
    "hard_voting_clf.fit(X_train, y_train)\n",
    "accTrain = accuracy_score(y_train, hard_voting_clf.predict(X_train))\n",
    "accTest = accuracy_score(y_test, hard_voting_clf.predict(X_test))\n",
    "hard_voting_clf_acc = (accTrain, accTest)\n",
    "print(hard_voting_clf_acc)\n",
    "\n",
    "#GŁOSOWANIE SOFT\n",
    "soft_voting_clf = VotingClassifier(estimators=[('tree', tree_clf), ('log', log_clf), ('knn', knn_clf)], voting='soft')\n",
    "soft_voting_clf.fit(X_train, y_train)\n",
    "accTrain = accuracy_score(y_train, soft_voting_clf.predict(X_train))\n",
    "accTest = accuracy_score(y_test, soft_voting_clf.predict(X_test))\n",
    "soft_voting_clf_acc = (accTrain, accTest)\n",
    "print(soft_voting_clf_acc)"
   ]
  },
  {
   "cell_type": "code",
   "execution_count": 9,
   "id": "97830efb",
   "metadata": {},
   "outputs": [],
   "source": [
    "# do pliku pickle\n",
    "import pickle as pkl\n",
    "acc_list = [tree_clf_acc, log_clf_acc, knn_clf_acc, hard_voting_clf_acc, soft_voting_clf_acc]\n",
    "\n",
    "fileObject = open(\"acc_vote.pkl\", 'wb')\n",
    "pkl.dump(acc_list, fileObject)\n",
    "fileObject.close()\n",
    "\n",
    "\n",
    "clf_list = [tree_clf, log_clf, knn_clf, hard_voting_clf, soft_voting_clf]\n",
    "fileObject = open(\"vote.pkl\", 'wb')\n",
    "pkl.dump(clf_list, fileObject)\n",
    "fileObject.close()"
   ]
  },
  {
   "cell_type": "code",
   "execution_count": 10,
   "id": "187d655d",
   "metadata": {},
   "outputs": [],
   "source": [
    "#----------------część druga----------------#"
   ]
  },
  {
   "cell_type": "code",
   "execution_count": 11,
   "id": "6805b5b4",
   "metadata": {},
   "outputs": [
    {
     "name": "stdout",
     "output_type": "stream",
     "text": [
      "(0.9978021978021978, 0.6140350877192983)\n",
      "(0.9208791208791208, 0.6754385964912281)\n",
      "(1.0, 0.6228070175438597)\n",
      "(0.9626373626373627, 0.6403508771929824)\n"
     ]
    }
   ],
   "source": [
    "from sklearn.ensemble import BaggingClassifier\n",
    "#Bagging\n",
    "bag_clf = BaggingClassifier(DecisionTreeClassifier(), n_estimators=30, bootstrap=True)\n",
    "bag_clf.fit(X_train, y_train)\n",
    "accTrain = accuracy_score(y_train, bag_clf.predict(X_train))\n",
    "accTest = accuracy_score(y_test, bag_clf.predict(X_test))\n",
    "bag_clf_acc = (accTrain, accTest)\n",
    "print(bag_clf_acc)\n",
    "\n",
    "#Bagging z wykorzystaniem 50% instancji\n",
    "half_bag_clf = BaggingClassifier(DecisionTreeClassifier(), max_samples=0.5, n_estimators=30, bootstrap=True)\n",
    "half_bag_clf.fit(X_train, y_train)\n",
    "accTrain = accuracy_score(y_train, half_bag_clf.predict(X_train))\n",
    "accTest = accuracy_score(y_test, half_bag_clf.predict(X_test))\n",
    "half_bag_clf_acc = (accTrain, accTest)\n",
    "print(half_bag_clf_acc)\n",
    "\n",
    "#Pasting\n",
    "bagWithPasting_clf = BaggingClassifier(DecisionTreeClassifier(), n_estimators=30, bootstrap=False)\n",
    "bagWithPasting_clf.fit(X_train, y_train)\n",
    "accTrain = accuracy_score(y_train, bagWithPasting_clf.predict(X_train))\n",
    "accTest = accuracy_score(y_test, bagWithPasting_clf.predict(X_test))\n",
    "bagWithPasting_clf_acc = (accTrain, accTest)\n",
    "print(bagWithPasting_clf_acc)\n",
    "\n",
    "#Pasting z wykorzystaniem 50% instancji\n",
    "half_bagWithPasting_clf = BaggingClassifier(DecisionTreeClassifier(), max_samples=0.5, n_estimators=30, bootstrap=False)\n",
    "half_bagWithPasting_clf.fit(X_train, y_train)\n",
    "accTrain = accuracy_score(y_train, half_bagWithPasting_clf.predict(X_train))\n",
    "accTest = accuracy_score(y_test, half_bagWithPasting_clf.predict(X_test))\n",
    "half_bagWithPasting_clf_acc = (accTrain, accTest)\n",
    "print(half_bagWithPasting_clf_acc)"
   ]
  },
  {
   "cell_type": "code",
   "execution_count": 12,
   "id": "c3c9e8d0",
   "metadata": {},
   "outputs": [
    {
     "name": "stdout",
     "output_type": "stream",
     "text": [
      "(0.9978021978021978, 0.6842105263157895)\n"
     ]
    }
   ],
   "source": [
    "from sklearn.ensemble import RandomForestClassifier\n",
    "#Random Forest\n",
    "random_clf = RandomForestClassifier(n_estimators=30)\n",
    "random_clf.fit(X_train, y_train)\n",
    "accTrain = accuracy_score(y_train, random_clf.predict(X_train))\n",
    "accTest = accuracy_score(y_test, random_clf.predict(X_test))\n",
    "random_clf_acc = (accTrain, accTest)\n",
    "print(random_clf_acc)"
   ]
  },
  {
   "cell_type": "code",
   "execution_count": 13,
   "id": "9f3fd2b1",
   "metadata": {},
   "outputs": [
    {
     "name": "stdout",
     "output_type": "stream",
     "text": [
      "(0.8, 0.7368421052631579)\n"
     ]
    }
   ],
   "source": [
    "from sklearn.ensemble import AdaBoostClassifier\n",
    "#AdaBoost\n",
    "ada_clf = AdaBoostClassifier(n_estimators=30)\n",
    "ada_clf.fit(X_train, y_train)\n",
    "accTrain = accuracy_score(y_train, ada_clf.predict(X_train))\n",
    "accTest = accuracy_score(y_test, ada_clf.predict(X_test))\n",
    "ada_clf_acc = (accTrain, accTest)\n",
    "print(ada_clf_acc)"
   ]
  },
  {
   "cell_type": "code",
   "execution_count": 14,
   "id": "8ed0a8b5",
   "metadata": {},
   "outputs": [
    {
     "name": "stdout",
     "output_type": "stream",
     "text": [
      "(0.8373626373626374, 0.7105263157894737)\n"
     ]
    }
   ],
   "source": [
    "from sklearn.ensemble import GradientBoostingClassifier\n",
    "#Gradient Boosting\n",
    "gradient_clf = GradientBoostingClassifier(n_estimators=30)\n",
    "gradient_clf.fit(X_train, y_train)\n",
    "accTrain = accuracy_score(y_train, gradient_clf.predict(X_train))\n",
    "accTest = accuracy_score(y_test, gradient_clf.predict(X_test))\n",
    "gradient_clf_acc = (accTrain, accTest)\n",
    "print(gradient_clf_acc)"
   ]
  },
  {
   "cell_type": "code",
   "execution_count": 15,
   "id": "82acb6f5",
   "metadata": {},
   "outputs": [],
   "source": [
    "acc_list2 = [bag_clf_acc, half_bag_clf_acc, bagWithPasting_clf_acc, half_bagWithPasting_clf_acc, random_clf_acc, ada_clf_acc, gradient_clf_acc]\n",
    "\n",
    "fileObject = open(\"acc_bag.pkl\", 'wb')\n",
    "pkl.dump(acc_list2, fileObject)\n",
    "fileObject.close()\n",
    "\n",
    "\n",
    "clf_list2 = [bag_clf, half_bag_clf, bagWithPasting_clf, half_bagWithPasting_clf, random_clf, ada_clf, gradient_clf]\n",
    "fileObject = open(\"bag.pkl\", 'wb')\n",
    "pkl.dump(clf_list2, fileObject)\n",
    "fileObject.close()"
   ]
  },
  {
   "cell_type": "code",
   "execution_count": 16,
   "id": "516747c3",
   "metadata": {},
   "outputs": [],
   "source": [
    "#----------------część trzecia----------------#"
   ]
  },
  {
   "cell_type": "code",
   "execution_count": 17,
   "id": "58709717",
   "metadata": {},
   "outputs": [
    {
     "name": "stdout",
     "output_type": "stream",
     "text": [
      "[0.989010989010989, 0.9385964912280702]\n"
     ]
    }
   ],
   "source": [
    "twoFeatures_clf = BaggingClassifier(DecisionTreeClassifier(), n_estimators=30, max_samples=0.5, max_features=2, bootstrap_features=False, bootstrap=True)\n",
    "twoFeatures_clf.fit(fea_X_train, y_train)\n",
    "accTrain = accuracy_score(y_train, twoFeatures_clf.predict(fea_X_train))\n",
    "accTest = accuracy_score(y_test, twoFeatures_clf.predict(fea_X_test))\n",
    "twoFeatures_clf_acc = [accTrain, accTest]\n",
    "print(twoFeatures_clf_acc)"
   ]
  },
  {
   "cell_type": "code",
   "execution_count": 18,
   "id": "a156be12",
   "metadata": {},
   "outputs": [],
   "source": [
    "fileObject = open(\"acc_fea.pkl\", 'wb')\n",
    "pkl.dump(twoFeatures_clf_acc, fileObject)\n",
    "fileObject.close()\n",
    "\n",
    "clf_list3 = [twoFeatures_clf]\n",
    "fileObject = open(\"fea.pkl\", 'wb')\n",
    "pkl.dump(clf_list3, fileObject)\n",
    "fileObject.close()"
   ]
  },
  {
   "cell_type": "code",
   "execution_count": 19,
   "id": "0c2e8b01",
   "metadata": {},
   "outputs": [],
   "source": [
    "#----------------część czwarta----------------#"
   ]
  },
  {
   "cell_type": "code",
   "execution_count": 20,
   "id": "1dad875f",
   "metadata": {},
   "outputs": [
    {
     "name": "stderr",
     "output_type": "stream",
     "text": [
      "C:\\Users\\Daniel\\.conda\\envs\\ml_lab\\lib\\site-packages\\sklearn\\base.py:443: UserWarning: X has feature names, but DecisionTreeClassifier was fitted without feature names\n",
      "  warnings.warn(\n",
      "C:\\Users\\Daniel\\.conda\\envs\\ml_lab\\lib\\site-packages\\sklearn\\base.py:443: UserWarning: X has feature names, but DecisionTreeClassifier was fitted without feature names\n",
      "  warnings.warn(\n",
      "C:\\Users\\Daniel\\.conda\\envs\\ml_lab\\lib\\site-packages\\sklearn\\base.py:443: UserWarning: X has feature names, but DecisionTreeClassifier was fitted without feature names\n",
      "  warnings.warn(\n",
      "C:\\Users\\Daniel\\.conda\\envs\\ml_lab\\lib\\site-packages\\sklearn\\base.py:443: UserWarning: X has feature names, but DecisionTreeClassifier was fitted without feature names\n",
      "  warnings.warn(\n",
      "C:\\Users\\Daniel\\.conda\\envs\\ml_lab\\lib\\site-packages\\sklearn\\base.py:443: UserWarning: X has feature names, but DecisionTreeClassifier was fitted without feature names\n",
      "  warnings.warn(\n",
      "C:\\Users\\Daniel\\.conda\\envs\\ml_lab\\lib\\site-packages\\sklearn\\base.py:443: UserWarning: X has feature names, but DecisionTreeClassifier was fitted without feature names\n",
      "  warnings.warn(\n",
      "C:\\Users\\Daniel\\.conda\\envs\\ml_lab\\lib\\site-packages\\sklearn\\base.py:443: UserWarning: X has feature names, but DecisionTreeClassifier was fitted without feature names\n",
      "  warnings.warn(\n",
      "C:\\Users\\Daniel\\.conda\\envs\\ml_lab\\lib\\site-packages\\sklearn\\base.py:443: UserWarning: X has feature names, but DecisionTreeClassifier was fitted without feature names\n",
      "  warnings.warn(\n",
      "C:\\Users\\Daniel\\.conda\\envs\\ml_lab\\lib\\site-packages\\sklearn\\base.py:443: UserWarning: X has feature names, but DecisionTreeClassifier was fitted without feature names\n",
      "  warnings.warn(\n",
      "C:\\Users\\Daniel\\.conda\\envs\\ml_lab\\lib\\site-packages\\sklearn\\base.py:443: UserWarning: X has feature names, but DecisionTreeClassifier was fitted without feature names\n",
      "  warnings.warn(\n",
      "C:\\Users\\Daniel\\.conda\\envs\\ml_lab\\lib\\site-packages\\sklearn\\base.py:443: UserWarning: X has feature names, but DecisionTreeClassifier was fitted without feature names\n",
      "  warnings.warn(\n",
      "C:\\Users\\Daniel\\.conda\\envs\\ml_lab\\lib\\site-packages\\sklearn\\base.py:443: UserWarning: X has feature names, but DecisionTreeClassifier was fitted without feature names\n",
      "  warnings.warn(\n",
      "C:\\Users\\Daniel\\.conda\\envs\\ml_lab\\lib\\site-packages\\sklearn\\base.py:443: UserWarning: X has feature names, but DecisionTreeClassifier was fitted without feature names\n",
      "  warnings.warn(\n",
      "C:\\Users\\Daniel\\.conda\\envs\\ml_lab\\lib\\site-packages\\sklearn\\base.py:443: UserWarning: X has feature names, but DecisionTreeClassifier was fitted without feature names\n",
      "  warnings.warn(\n",
      "C:\\Users\\Daniel\\.conda\\envs\\ml_lab\\lib\\site-packages\\sklearn\\base.py:443: UserWarning: X has feature names, but DecisionTreeClassifier was fitted without feature names\n",
      "  warnings.warn(\n",
      "C:\\Users\\Daniel\\.conda\\envs\\ml_lab\\lib\\site-packages\\sklearn\\base.py:443: UserWarning: X has feature names, but DecisionTreeClassifier was fitted without feature names\n",
      "  warnings.warn(\n",
      "C:\\Users\\Daniel\\.conda\\envs\\ml_lab\\lib\\site-packages\\sklearn\\base.py:443: UserWarning: X has feature names, but DecisionTreeClassifier was fitted without feature names\n",
      "  warnings.warn(\n",
      "C:\\Users\\Daniel\\.conda\\envs\\ml_lab\\lib\\site-packages\\sklearn\\base.py:443: UserWarning: X has feature names, but DecisionTreeClassifier was fitted without feature names\n",
      "  warnings.warn(\n",
      "C:\\Users\\Daniel\\.conda\\envs\\ml_lab\\lib\\site-packages\\sklearn\\base.py:443: UserWarning: X has feature names, but DecisionTreeClassifier was fitted without feature names\n",
      "  warnings.warn(\n",
      "C:\\Users\\Daniel\\.conda\\envs\\ml_lab\\lib\\site-packages\\sklearn\\base.py:443: UserWarning: X has feature names, but DecisionTreeClassifier was fitted without feature names\n",
      "  warnings.warn(\n",
      "C:\\Users\\Daniel\\.conda\\envs\\ml_lab\\lib\\site-packages\\sklearn\\base.py:443: UserWarning: X has feature names, but DecisionTreeClassifier was fitted without feature names\n",
      "  warnings.warn(\n",
      "C:\\Users\\Daniel\\.conda\\envs\\ml_lab\\lib\\site-packages\\sklearn\\base.py:443: UserWarning: X has feature names, but DecisionTreeClassifier was fitted without feature names\n",
      "  warnings.warn(\n",
      "C:\\Users\\Daniel\\.conda\\envs\\ml_lab\\lib\\site-packages\\sklearn\\base.py:443: UserWarning: X has feature names, but DecisionTreeClassifier was fitted without feature names\n",
      "  warnings.warn(\n",
      "C:\\Users\\Daniel\\.conda\\envs\\ml_lab\\lib\\site-packages\\sklearn\\base.py:443: UserWarning: X has feature names, but DecisionTreeClassifier was fitted without feature names\n",
      "  warnings.warn(\n",
      "C:\\Users\\Daniel\\.conda\\envs\\ml_lab\\lib\\site-packages\\sklearn\\base.py:443: UserWarning: X has feature names, but DecisionTreeClassifier was fitted without feature names\n",
      "  warnings.warn(\n",
      "C:\\Users\\Daniel\\.conda\\envs\\ml_lab\\lib\\site-packages\\sklearn\\base.py:443: UserWarning: X has feature names, but DecisionTreeClassifier was fitted without feature names\n",
      "  warnings.warn(\n",
      "C:\\Users\\Daniel\\.conda\\envs\\ml_lab\\lib\\site-packages\\sklearn\\base.py:443: UserWarning: X has feature names, but DecisionTreeClassifier was fitted without feature names\n",
      "  warnings.warn(\n",
      "C:\\Users\\Daniel\\.conda\\envs\\ml_lab\\lib\\site-packages\\sklearn\\base.py:443: UserWarning: X has feature names, but DecisionTreeClassifier was fitted without feature names\n",
      "  warnings.warn(\n",
      "C:\\Users\\Daniel\\.conda\\envs\\ml_lab\\lib\\site-packages\\sklearn\\base.py:443: UserWarning: X has feature names, but DecisionTreeClassifier was fitted without feature names\n",
      "  warnings.warn(\n",
      "C:\\Users\\Daniel\\.conda\\envs\\ml_lab\\lib\\site-packages\\sklearn\\base.py:443: UserWarning: X has feature names, but DecisionTreeClassifier was fitted without feature names\n",
      "  warnings.warn(\n",
      "C:\\Users\\Daniel\\.conda\\envs\\ml_lab\\lib\\site-packages\\sklearn\\base.py:443: UserWarning: X has feature names, but DecisionTreeClassifier was fitted without feature names\n",
      "  warnings.warn(\n",
      "C:\\Users\\Daniel\\.conda\\envs\\ml_lab\\lib\\site-packages\\sklearn\\base.py:443: UserWarning: X has feature names, but DecisionTreeClassifier was fitted without feature names\n",
      "  warnings.warn(\n",
      "C:\\Users\\Daniel\\.conda\\envs\\ml_lab\\lib\\site-packages\\sklearn\\base.py:443: UserWarning: X has feature names, but DecisionTreeClassifier was fitted without feature names\n",
      "  warnings.warn(\n",
      "C:\\Users\\Daniel\\.conda\\envs\\ml_lab\\lib\\site-packages\\sklearn\\base.py:443: UserWarning: X has feature names, but DecisionTreeClassifier was fitted without feature names\n",
      "  warnings.warn(\n",
      "C:\\Users\\Daniel\\.conda\\envs\\ml_lab\\lib\\site-packages\\sklearn\\base.py:443: UserWarning: X has feature names, but DecisionTreeClassifier was fitted without feature names\n",
      "  warnings.warn(\n",
      "C:\\Users\\Daniel\\.conda\\envs\\ml_lab\\lib\\site-packages\\sklearn\\base.py:443: UserWarning: X has feature names, but DecisionTreeClassifier was fitted without feature names\n",
      "  warnings.warn(\n",
      "C:\\Users\\Daniel\\.conda\\envs\\ml_lab\\lib\\site-packages\\sklearn\\base.py:443: UserWarning: X has feature names, but DecisionTreeClassifier was fitted without feature names\n",
      "  warnings.warn(\n",
      "C:\\Users\\Daniel\\.conda\\envs\\ml_lab\\lib\\site-packages\\sklearn\\base.py:443: UserWarning: X has feature names, but DecisionTreeClassifier was fitted without feature names\n",
      "  warnings.warn(\n",
      "C:\\Users\\Daniel\\.conda\\envs\\ml_lab\\lib\\site-packages\\sklearn\\base.py:443: UserWarning: X has feature names, but DecisionTreeClassifier was fitted without feature names\n",
      "  warnings.warn(\n",
      "C:\\Users\\Daniel\\.conda\\envs\\ml_lab\\lib\\site-packages\\sklearn\\base.py:443: UserWarning: X has feature names, but DecisionTreeClassifier was fitted without feature names\n",
      "  warnings.warn(\n",
      "C:\\Users\\Daniel\\.conda\\envs\\ml_lab\\lib\\site-packages\\sklearn\\base.py:443: UserWarning: X has feature names, but DecisionTreeClassifier was fitted without feature names\n",
      "  warnings.warn(\n",
      "C:\\Users\\Daniel\\.conda\\envs\\ml_lab\\lib\\site-packages\\sklearn\\base.py:443: UserWarning: X has feature names, but DecisionTreeClassifier was fitted without feature names\n",
      "  warnings.warn(\n",
      "C:\\Users\\Daniel\\.conda\\envs\\ml_lab\\lib\\site-packages\\sklearn\\base.py:443: UserWarning: X has feature names, but DecisionTreeClassifier was fitted without feature names\n",
      "  warnings.warn(\n",
      "C:\\Users\\Daniel\\.conda\\envs\\ml_lab\\lib\\site-packages\\sklearn\\base.py:443: UserWarning: X has feature names, but DecisionTreeClassifier was fitted without feature names\n",
      "  warnings.warn(\n",
      "C:\\Users\\Daniel\\.conda\\envs\\ml_lab\\lib\\site-packages\\sklearn\\base.py:443: UserWarning: X has feature names, but DecisionTreeClassifier was fitted without feature names\n",
      "  warnings.warn(\n",
      "C:\\Users\\Daniel\\.conda\\envs\\ml_lab\\lib\\site-packages\\sklearn\\base.py:443: UserWarning: X has feature names, but DecisionTreeClassifier was fitted without feature names\n",
      "  warnings.warn(\n",
      "C:\\Users\\Daniel\\.conda\\envs\\ml_lab\\lib\\site-packages\\sklearn\\base.py:443: UserWarning: X has feature names, but DecisionTreeClassifier was fitted without feature names\n",
      "  warnings.warn(\n",
      "C:\\Users\\Daniel\\.conda\\envs\\ml_lab\\lib\\site-packages\\sklearn\\base.py:443: UserWarning: X has feature names, but DecisionTreeClassifier was fitted without feature names\n",
      "  warnings.warn(\n",
      "C:\\Users\\Daniel\\.conda\\envs\\ml_lab\\lib\\site-packages\\sklearn\\base.py:443: UserWarning: X has feature names, but DecisionTreeClassifier was fitted without feature names\n",
      "  warnings.warn(\n",
      "C:\\Users\\Daniel\\.conda\\envs\\ml_lab\\lib\\site-packages\\sklearn\\base.py:443: UserWarning: X has feature names, but DecisionTreeClassifier was fitted without feature names\n",
      "  warnings.warn(\n",
      "C:\\Users\\Daniel\\.conda\\envs\\ml_lab\\lib\\site-packages\\sklearn\\base.py:443: UserWarning: X has feature names, but DecisionTreeClassifier was fitted without feature names\n",
      "  warnings.warn(\n",
      "C:\\Users\\Daniel\\.conda\\envs\\ml_lab\\lib\\site-packages\\sklearn\\base.py:443: UserWarning: X has feature names, but DecisionTreeClassifier was fitted without feature names\n",
      "  warnings.warn(\n",
      "C:\\Users\\Daniel\\.conda\\envs\\ml_lab\\lib\\site-packages\\sklearn\\base.py:443: UserWarning: X has feature names, but DecisionTreeClassifier was fitted without feature names\n",
      "  warnings.warn(\n",
      "C:\\Users\\Daniel\\.conda\\envs\\ml_lab\\lib\\site-packages\\sklearn\\base.py:443: UserWarning: X has feature names, but DecisionTreeClassifier was fitted without feature names\n",
      "  warnings.warn(\n",
      "C:\\Users\\Daniel\\.conda\\envs\\ml_lab\\lib\\site-packages\\sklearn\\base.py:443: UserWarning: X has feature names, but DecisionTreeClassifier was fitted without feature names\n",
      "  warnings.warn(\n",
      "C:\\Users\\Daniel\\.conda\\envs\\ml_lab\\lib\\site-packages\\sklearn\\base.py:443: UserWarning: X has feature names, but DecisionTreeClassifier was fitted without feature names\n",
      "  warnings.warn(\n",
      "C:\\Users\\Daniel\\.conda\\envs\\ml_lab\\lib\\site-packages\\sklearn\\base.py:443: UserWarning: X has feature names, but DecisionTreeClassifier was fitted without feature names\n",
      "  warnings.warn(\n",
      "C:\\Users\\Daniel\\.conda\\envs\\ml_lab\\lib\\site-packages\\sklearn\\base.py:443: UserWarning: X has feature names, but DecisionTreeClassifier was fitted without feature names\n",
      "  warnings.warn(\n",
      "C:\\Users\\Daniel\\.conda\\envs\\ml_lab\\lib\\site-packages\\sklearn\\base.py:443: UserWarning: X has feature names, but DecisionTreeClassifier was fitted without feature names\n",
      "  warnings.warn(\n",
      "C:\\Users\\Daniel\\.conda\\envs\\ml_lab\\lib\\site-packages\\sklearn\\base.py:443: UserWarning: X has feature names, but DecisionTreeClassifier was fitted without feature names\n",
      "  warnings.warn(\n"
     ]
    }
   ],
   "source": [
    "ranking = []\n",
    "\n",
    "for clf, features in zip(twoFeatures_clf.estimators_, twoFeatures_clf.estimators_features_):\n",
    "    accTrain = accuracy_score(y_train, clf.predict(fea_X_train.iloc[:, features]))\n",
    "    accTest = accuracy_score(y_test, clf.predict(fea_X_test.iloc[:, features]))\n",
    "    ranking.append([accTrain, accTest, list(X.columns[features])])"
   ]
  },
  {
   "cell_type": "code",
   "execution_count": 21,
   "id": "9d6e5f62",
   "metadata": {},
   "outputs": [],
   "source": [
    "import pandas as pd\n",
    "acc_fea_ranking = pd.DataFrame(ranking, columns=[\"accTrain\", \"accTest\", \"features\"])"
   ]
  },
  {
   "cell_type": "code",
   "execution_count": 22,
   "id": "c59841a0",
   "metadata": {},
   "outputs": [],
   "source": [
    "acc_fea_ranking.sort_values(by=[\"accTest\", \"accTrain\"], ascending=False, inplace=True)"
   ]
  },
  {
   "cell_type": "code",
   "execution_count": 23,
   "id": "80e7b8ce",
   "metadata": {},
   "outputs": [
    {
     "name": "stdout",
     "output_type": "stream",
     "text": [
      "    accTrain   accTest                                         features\n",
      "24  0.942857  0.929825           [mean concave points, worst concavity]\n",
      "23  0.931868  0.921053                      [worst radius, mean radius]\n",
      "4   0.929670  0.921053                 [mean perimeter, mean concavity]\n",
      "17  0.916484  0.912281               [worst perimeter, perimeter error]\n",
      "7   0.909890  0.912281                   [worst concavity, mean radius]\n",
      "12  0.883516  0.912281                          [mean area, area error]\n",
      "20  0.931868  0.894737         [worst concave points, smoothness error]\n",
      "0   0.940659  0.885965              [worst compactness, mean perimeter]\n",
      "10  0.938462  0.868421      [mean concave points, concave points error]\n",
      "8   0.879121  0.842105                [symmetry error, worst concavity]\n",
      "16  0.868132  0.842105                [worst symmetry, perimeter error]\n",
      "13  0.843956  0.842105                      [area error, texture error]\n",
      "3   0.890110  0.824561               [mean smoothness, worst concavity]\n",
      "21  0.896703  0.807018       [worst concavity, fractal dimension error]\n",
      "1   0.890110  0.789474              [perimeter error, mean compactness]\n",
      "28  0.771429  0.789474                 [perimeter error, texture error]\n",
      "15  0.850549  0.780702                  [perimeter error, radius error]\n",
      "26  0.821978  0.780702             [concavity error, worst compactness]\n",
      "5   0.857143  0.771930                     [mean texture, radius error]\n",
      "2   0.850549  0.763158                [worst texture, mean compactness]\n",
      "29  0.885714  0.736842       [mean fractal dimension, mean compactness]\n",
      "18  0.784615  0.719298  [concave points error, fractal dimension error]\n",
      "6   0.806593  0.710526         [mean compactness, concave points error]\n",
      "9   0.813187  0.684211            [mean compactness, worst compactness]\n",
      "25  0.824176  0.675439              [worst compactness, symmetry error]\n",
      "27  0.804396  0.675439                [worst symmetry, concavity error]\n",
      "14  0.806593  0.649123                 [mean symmetry, concavity error]\n",
      "11  0.819780  0.631579              [worst symmetry, compactness error]\n",
      "19  0.742857  0.622807      [smoothness error, fractal dimension error]\n",
      "22  0.810989  0.578947                [worst symmetry, mean smoothness]\n"
     ]
    }
   ],
   "source": [
    "print(acc_fea_ranking)"
   ]
  },
  {
   "cell_type": "code",
   "execution_count": 24,
   "id": "fd8dfeae",
   "metadata": {},
   "outputs": [],
   "source": [
    "fileObject = open(\"acc_fea_rank.pkl\", 'wb')\n",
    "pkl.dump(acc_fea_ranking, fileObject)\n",
    "fileObject.close()"
   ]
  },
  {
   "cell_type": "code",
   "execution_count": null,
   "id": "44f3b652",
   "metadata": {},
   "outputs": [],
   "source": []
  },
  {
   "cell_type": "code",
   "execution_count": null,
   "id": "9e456b4a",
   "metadata": {},
   "outputs": [],
   "source": []
  }
 ],
 "metadata": {
  "kernelspec": {
   "display_name": "Python 3 (ipykernel)",
   "language": "python",
   "name": "python3"
  },
  "language_info": {
   "codemirror_mode": {
    "name": "ipython",
    "version": 3
   },
   "file_extension": ".py",
   "mimetype": "text/x-python",
   "name": "python",
   "nbconvert_exporter": "python",
   "pygments_lexer": "ipython3",
   "version": "3.9.7"
  }
 },
 "nbformat": 4,
 "nbformat_minor": 5
}
