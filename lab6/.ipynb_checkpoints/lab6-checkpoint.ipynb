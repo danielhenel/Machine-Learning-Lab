{
 "cells": [
  {
   "cell_type": "code",
   "execution_count": 17,
   "id": "2ccfa34d",
   "metadata": {},
   "outputs": [],
   "source": [
    "from sklearn import datasets\n",
    "data_breast_cancer = datasets.load_breast_cancer(as_frame=True)"
   ]
  },
  {
   "cell_type": "code",
   "execution_count": 18,
   "id": "2bb69000",
   "metadata": {},
   "outputs": [],
   "source": [
    "X = data_breast_cancer['data']\n",
    "y = data_breast_cancer['target']\n",
    "\n",
    "# tylko dla cech mean texture, mean symmetry\n",
    "X = X.loc[:,[\"mean texture\",\"mean symmetry\"]]\n"
   ]
  },
  {
   "cell_type": "code",
   "execution_count": 19,
   "id": "f5ae9875",
   "metadata": {},
   "outputs": [],
   "source": [
    "from sklearn.model_selection import train_test_split\n",
    "X_train, X_test, y_train, y_test = train_test_split(X, y, test_size=0.2, random_state=42)"
   ]
  },
  {
   "cell_type": "code",
   "execution_count": 20,
   "id": "c1a5381a",
   "metadata": {},
   "outputs": [
    {
     "name": "stdout",
     "output_type": "stream",
     "text": [
      "(0.7692307692307693, 0.7368421052631579)\n"
     ]
    }
   ],
   "source": [
    "from sklearn.tree import DecisionTreeClassifier\n",
    "from sklearn.metrics import accuracy_score\n",
    "\n",
    "#DRZEWA DECYZYJNE\n",
    "tree_clf = DecisionTreeClassifier() #wartości domyślne\n",
    "tree_clf.fit(X_train, y_train)\n",
    "accTrain = accuracy_score(y_train, tree_clf.predict(X_train))\n",
    "accTest = accuracy_score(y_test, tree_clf.predict(X_test))\n",
    "tree_clf_acc = (accTrain, accTest)\n",
    "print(tree_clf_acc)"
   ]
  },
  {
   "cell_type": "code",
   "execution_count": 21,
   "id": "5506418b",
   "metadata": {},
   "outputs": [
    {
     "name": "stdout",
     "output_type": "stream",
     "text": [
      "(0.7230769230769231, 0.7017543859649122)\n"
     ]
    }
   ],
   "source": [
    "from sklearn.linear_model import LogisticRegression\n",
    "\n",
    "#REGRESJA LOGISTYCZNA\n",
    "log_clf = LogisticRegression() #wartości domyślne\n",
    "log_clf.fit(X_train, y_train)\n",
    "accTrain = accuracy_score(y_train, log_clf.predict(X_train))\n",
    "accTest = accuracy_score(y_test, log_clf.predict(X_test))\n",
    "log_clf_acc = (accTrain, accTest)\n",
    "print(log_clf_acc)"
   ]
  },
  {
   "cell_type": "code",
   "execution_count": null,
   "id": "58830c6d",
   "metadata": {},
   "outputs": [],
   "source": []
  },
  {
   "cell_type": "code",
   "execution_count": null,
   "id": "85df478d",
   "metadata": {},
   "outputs": [],
   "source": [
    "from sklearn.neighbors import KNeighborsClassifier\n",
    "\n",
    "#K NAJBLIŻSZYCH SĄSIADÓW\n",
    "knn_clf = KNeighborsClassifier() #wartości domyślne\n",
    "knn_clf.fit(X_train, y_train)\n",
    "accTrain = accuracy_score(y_train, knn_clf.predict(X_train))\n",
    "accTest = accuracy_score(y_test, knn_clf.predict(X_test))\n",
    "knn_clf_acc = (accTrain, accTest)\n",
    "print(knn_clf_acc)"
   ]
  }
 ],
 "metadata": {
  "kernelspec": {
   "display_name": "Python 3 (ipykernel)",
   "language": "python",
   "name": "python3"
  },
  "language_info": {
   "codemirror_mode": {
    "name": "ipython",
    "version": 3
   },
   "file_extension": ".py",
   "mimetype": "text/x-python",
   "name": "python",
   "nbconvert_exporter": "python",
   "pygments_lexer": "ipython3",
   "version": "3.9.7"
  }
 },
 "nbformat": 4,
 "nbformat_minor": 5
}
