{
 "cells": [
  {
   "cell_type": "code",
   "execution_count": null,
   "id": "da13b136-e0c3-47d0-8af0-c64bef08be6e",
   "metadata": {},
   "outputs": [],
   "source": [
    "#KNN"
   ]
  },
  {
   "cell_type": "code",
   "execution_count": 9,
   "id": "0855c9b5-7196-4e7d-83a6-d2e40508e791",
   "metadata": {},
   "outputs": [],
   "source": [
    "from sklearn.datasets import fetch_openml \n",
    "import numpy as np\n",
    "mnist = fetch_openml('mnist_784', version=1, as_frame=False) \n",
    "mnist.target = mnist.target.astype(np.uint8)\n",
    "X = mnist[\"data\"]\n",
    "y = mnist[\"target\"]"
   ]
  },
  {
   "cell_type": "code",
   "execution_count": 10,
   "id": "6487c132-7da1-445a-92dc-728aaf600335",
   "metadata": {},
   "outputs": [],
   "source": [
    "from sklearn.cluster import KMeans\n",
    "from sklearn.metrics import silhouette_score\n",
    "silhouette_scores = []\n",
    "kmeans_10 = None\n",
    "\n",
    "for i in range(8,13):\n",
    "    kmeans = KMeans(n_clusters=i, random_state=42)\n",
    "    kmeans.fit_predict(X)\n",
    "    if i == 10:\n",
    "        kmeans_10 = kmeans\n",
    "    silhouette_scores.append(silhouette_score(X, kmeans.labels_))"
   ]
  },
  {
   "cell_type": "code",
   "execution_count": 11,
   "id": "36717e3a-af37-48ff-babc-94961cbfe7bf",
   "metadata": {},
   "outputs": [
    {
     "name": "stdout",
     "output_type": "stream",
     "text": [
      "[0.07338401965925966, 0.05683381826333592, 0.05869201052848778, 0.05836351154790604, 0.05894738457992754]\n"
     ]
    }
   ],
   "source": [
    "print(silhouette_scores)"
   ]
  },
  {
   "cell_type": "code",
   "execution_count": 12,
   "id": "4a6e5d76-b39b-47e8-8784-d3f23ebf85e0",
   "metadata": {},
   "outputs": [],
   "source": [
    "import pickle as pkl\n",
    "fileObject = open(\"kmeans_sil.pkl\", 'wb')\n",
    "pkl.dump(silhouette_scores, fileObject)\n",
    "fileObject.close()"
   ]
  },
  {
   "cell_type": "code",
   "execution_count": 32,
   "id": "8f001072-726e-4126-8c37-d245d52b6a8d",
   "metadata": {},
   "outputs": [
    {
     "name": "stdout",
     "output_type": "stream",
     "text": [
      "9\n",
      "1\n",
      "4\n",
      "0\n",
      "3\n",
      "0\n",
      "6\n",
      "5\n",
      "8\n",
      "3\n",
      "[0, 1, 3, 4, 5, 6, 8, 9]\n",
      "[[ 290    2 1265   39    9    7  162    4   72 5053]\n",
      " [   8 4293    7    7   10   11    7 3526    8    0]\n",
      " [ 323  423  246  216 4863   78  147  436  201   57]\n",
      " [4581  449  461  193  216   45   31   58 1083   24]\n",
      " [   0  178  288 3728   29 2173  168  234   17    9]\n",
      " [2129  155 1812  432    7  215   67  280 1156   60]\n",
      " [  38  190 2068   67   53    4 4326   45   14   71]\n",
      " [   6  372   12 2094   53 4399    4  314   18   21]\n",
      " [1212  335  292  208   53  193   51  330 4115   36]\n",
      " [  87  261   31 3462   19 2849   16   95   87   51]]\n"
     ]
    }
   ],
   "source": [
    "from sklearn.metrics import confusion_matrix\n",
    "conMatrix = confusion_matrix(y, kmeans_10.predict(X))\n",
    "theBiggest = set()\n",
    "for row in conMatrix:\n",
    "    print(np.argmax(row))\n",
    "    theBiggest.add(np.argmax(row))\n",
    "theBiggest = list(theBiggest)\n",
    "theBiggest.sort()\n",
    "print(theBiggest)\n",
    "print(conMatrix)"
   ]
  },
  {
   "cell_type": "code",
   "execution_count": 33,
   "id": "3faf41df-6dd2-403a-90e7-efbd306a2328",
   "metadata": {},
   "outputs": [],
   "source": [
    "fileObject = open(\"kmeans_argmax.pkl\", 'wb')\n",
    "pkl.dump(theBiggest, fileObject)\n",
    "fileObject.close()"
   ]
  },
  {
   "cell_type": "code",
   "execution_count": null,
   "id": "2778d00d-e1d2-4b37-9430-44b63dc7581d",
   "metadata": {},
   "outputs": [],
   "source": [
    "#DBSCAN"
   ]
  },
  {
   "cell_type": "code",
   "execution_count": null,
   "id": "25b95557-2bd0-426a-b5a0-8c2ba7087ba0",
   "metadata": {},
   "outputs": [],
   "source": []
  }
 ],
 "metadata": {
  "kernelspec": {
   "display_name": "Python 3 (ipykernel)",
   "language": "python",
   "name": "python3"
  },
  "language_info": {
   "codemirror_mode": {
    "name": "ipython",
    "version": 3
   },
   "file_extension": ".py",
   "mimetype": "text/x-python",
   "name": "python",
   "nbconvert_exporter": "python",
   "pygments_lexer": "ipython3",
   "version": "3.9.10"
  }
 },
 "nbformat": 4,
 "nbformat_minor": 5
}
