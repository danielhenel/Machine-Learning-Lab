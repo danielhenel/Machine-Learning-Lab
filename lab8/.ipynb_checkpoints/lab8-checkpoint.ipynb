{
 "cells": [
  {
   "cell_type": "code",
   "execution_count": 57,
   "id": "44766c9f-987c-4423-bb26-c1f510e9edf2",
   "metadata": {},
   "outputs": [],
   "source": [
    "from sklearn import datasets\n",
    "from sklearn.datasets import load_iris \n",
    "import numpy as np\n",
    "from sklearn.decomposition import PCA\n",
    "from sklearn.preprocessing import StandardScaler\n",
    "import pickle as pkl"
   ]
  },
  {
   "cell_type": "code",
   "execution_count": 58,
   "id": "4cd551b8-41df-446f-8535-ad3c590a03c9",
   "metadata": {},
   "outputs": [],
   "source": [
    "data_breast_cancer = datasets.load_breast_cancer()\n",
    "X_bc = data_breast_cancer['data']\n",
    "y_bc = data_breast_cancer['target']\n",
    "\n",
    "\n",
    "data_iris = load_iris()\n",
    "X_iris = data_iris['data']\n",
    "y_iris = data_iris['target']"
   ]
  },
  {
   "cell_type": "code",
   "execution_count": 59,
   "id": "fb174d0d-6764-4bd4-852b-5cd3907cab72",
   "metadata": {},
   "outputs": [
    {
     "name": "stdout",
     "output_type": "stream",
     "text": [
      "(569, 30)\n"
     ]
    }
   ],
   "source": [
    "#breast cancer\n",
    "print(np.shape(X_bc))"
   ]
  },
  {
   "cell_type": "code",
   "execution_count": 60,
   "id": "79c421dc-42ba-47c2-a4ca-f48df397d362",
   "metadata": {},
   "outputs": [
    {
     "data": {
      "text/plain": [
       "(569, 1)"
      ]
     },
     "execution_count": 60,
     "metadata": {},
     "output_type": "execute_result"
    }
   ],
   "source": [
    "pca = PCA(n_components=0.9)\n",
    "X_bc_afterPCA = pca.fit_transform(X_bc)\n",
    "np.shape(X_bc_afterPCA)"
   ]
  },
  {
   "cell_type": "code",
   "execution_count": 61,
   "id": "698c416a-6fe3-4d00-9e13-62970a0f06c2",
   "metadata": {},
   "outputs": [
    {
     "name": "stdout",
     "output_type": "stream",
     "text": [
      "(150, 4)\n"
     ]
    }
   ],
   "source": [
    "#breast cancer\n",
    "print(np.shape(X_iris))"
   ]
  },
  {
   "cell_type": "code",
   "execution_count": 62,
   "id": "1ed2964a-c6cb-45e6-8fe3-d7a1a0360db4",
   "metadata": {},
   "outputs": [
    {
     "data": {
      "text/plain": [
       "(150, 1)"
      ]
     },
     "execution_count": 62,
     "metadata": {},
     "output_type": "execute_result"
    }
   ],
   "source": [
    "pca = PCA(n_components=0.9)\n",
    "X_iris_afterPCA = pca.fit_transform(X_iris)\n",
    "np.shape(X_iris_afterPCA)"
   ]
  },
  {
   "cell_type": "code",
   "execution_count": 70,
   "id": "d3e6f9a5-1039-4253-bd9b-b1eaff15793f",
   "metadata": {},
   "outputs": [
    {
     "name": "stdout",
     "output_type": "stream",
     "text": [
      "(569, 7)\n",
      "[0.44272026 0.18971182 0.09393163 0.06602135 0.05495768 0.04024522\n",
      " 0.02250734]\n",
      "(150, 2)\n",
      "[0.72962445 0.22850762]\n"
     ]
    }
   ],
   "source": [
    "#SKALOWANIE\n",
    "\n",
    "#-----------------------------breast cancer-----------------------------\n",
    "scaler_bc = StandardScaler()\n",
    "scaler_bc.fit(X_bc)\n",
    "X_bc_scalled = scaler_bc.transform(X_bc)\n",
    "\n",
    "#pca\n",
    "pca = PCA(n_components=0.9)\n",
    "X_bc_scalled_afterPCA = pca.fit_transform(X_bc_scalled)\n",
    "print(np.shape(X_bc_scalled_afterPCA))\n",
    "\n",
    "#wspolczynniki zmiennosci\n",
    "pca_bc = pca.explained_variance_ratio_\n",
    "print(pca_bc)\n",
    "\n",
    "fileObject = open(\"pca_bc.pkl\", 'wb')\n",
    "pkl.dump(pca_bc, fileObject)\n",
    "fileObject.close()\n",
    "\n",
    "idx_bc = []\n",
    "for row in pca.components_:\n",
    "    idx_bc.append((np.argmax(row)))\n",
    "    \n",
    "fileObject = open(\"idx_bc.pkl\", 'wb')\n",
    "pkl.dump(idx_bc, fileObject)\n",
    "fileObject.close()\n",
    "\n",
    "#-----------------------------iris-----------------------------\n",
    "scaler_iris = StandardScaler()\n",
    "scaler_iris.fit(X_iris)\n",
    "X_iris_scalled = scaler_iris.transform(X_iris)\n",
    "\n",
    "#pca\n",
    "pca = PCA(n_components=0.9)\n",
    "X_iris_scalled_afterPCA = pca.fit_transform(X_iris_scalled)\n",
    "print(np.shape(X_iris_scalled_afterPCA))\n",
    "\n",
    "#wspolczynniki zmiennosci\n",
    "pca_ir = pca.explained_variance_ratio_\n",
    "print(pca_ir)\n",
    "\n",
    "fileObject = open(\"pca_ir.pkl\", 'wb')\n",
    "pkl.dump(pca_ir, fileObject)\n",
    "fileObject.close()\n",
    "\n",
    "idx_ir = []\n",
    "for row in pca.components_:\n",
    "    idx_ir.append((np.argmax(row)))\n",
    "    \n",
    "fileObject = open(\"idx_ir.pkl\", 'wb')\n",
    "pkl.dump(idx_ir, fileObject)\n",
    "fileObject.close()"
   ]
  },
  {
   "cell_type": "code",
   "execution_count": null,
   "id": "2472720a-2df9-417b-a40e-db7d6446bb0e",
   "metadata": {},
   "outputs": [],
   "source": [
    "pca"
   ]
  }
 ],
 "metadata": {
  "kernelspec": {
   "display_name": "Python 3 (ipykernel)",
   "language": "python",
   "name": "python3"
  },
  "language_info": {
   "codemirror_mode": {
    "name": "ipython",
    "version": 3
   },
   "file_extension": ".py",
   "mimetype": "text/x-python",
   "name": "python",
   "nbconvert_exporter": "python",
   "pygments_lexer": "ipython3",
   "version": "3.9.7"
  }
 },
 "nbformat": 4,
 "nbformat_minor": 5
}
